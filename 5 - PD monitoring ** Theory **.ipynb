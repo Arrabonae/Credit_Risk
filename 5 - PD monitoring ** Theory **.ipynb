{
 "cells": [
  {
   "cell_type": "markdown",
   "metadata": {},
   "source": [
    "__Population stability index (PSI)__\n",
    "\n",
    "PSI is a measure of how much a population has shifted over time or between two different samples of a population in a single number. It does this by bucketing the two distributions and comparing the percents of items in each of the buckets, resulting in a single number you can use to understand how different the populations are. The common interpretations of the PSI result are:\n",
    "\n",
    "* PSI < 0.1: no significant population change\n",
    "* PSI < 0.2: moderate population change\n",
    "* PSI >= 0.2: significant population change"
   ]
  },
  {
   "cell_type": "markdown",
   "metadata": {},
   "source": [
    "$$ PSI = \\sum (Actual − Expected) * ln \\frac {Actual} {Expected}) $$\n",
    "\n",
    "where \"Actual\" is the original data while \"Expected\" is the new data"
   ]
  }
 ],
 "metadata": {
  "kernelspec": {
   "display_name": "Python 3",
   "language": "python",
   "name": "python3"
  },
  "language_info": {
   "codemirror_mode": {
    "name": "ipython",
    "version": 3
   },
   "file_extension": ".py",
   "mimetype": "text/x-python",
   "name": "python",
   "nbconvert_exporter": "python",
   "pygments_lexer": "ipython3",
   "version": "3.7.7"
  }
 },
 "nbformat": 4,
 "nbformat_minor": 4
}
