{
 "cells": [
  {
   "cell_type": "markdown",
   "metadata": {},
   "source": [
    "# Imports"
   ]
  },
  {
   "cell_type": "code",
   "execution_count": 1,
   "metadata": {},
   "outputs": [],
   "source": [
    "import numpy as np\n",
    "import pandas as pd\n",
    "import matplotlib.pyplot as plt\n",
    "import seaborn as sns\n",
    "sns.set()"
   ]
  },
  {
   "cell_type": "code",
   "execution_count": 2,
   "metadata": {},
   "outputs": [
    {
     "name": "stderr",
     "output_type": "stream",
     "text": [
      "/Users/graystone/anaconda3/lib/python3.7/site-packages/IPython/core/interactiveshell.py:3072: DtypeWarning: Columns (20,48) have mixed types.Specify dtype option on import or set low_memory=False.\n",
      "  interactivity=interactivity, compiler=compiler, result=result)\n"
     ]
    }
   ],
   "source": [
    "loan_data_preprocessed_backup = pd.read_csv('data/loan_data_2007_2014_processed.csv')"
   ]
  },
  {
   "cell_type": "code",
   "execution_count": 3,
   "metadata": {},
   "outputs": [],
   "source": [
    "loan_data_preprocessed = loan_data_preprocessed_backup.copy()"
   ]
  },
  {
   "cell_type": "code",
   "execution_count": 4,
   "metadata": {},
   "outputs": [
    {
     "data": {
      "text/html": [
       "<div>\n",
       "<style scoped>\n",
       "    .dataframe tbody tr th:only-of-type {\n",
       "        vertical-align: middle;\n",
       "    }\n",
       "\n",
       "    .dataframe tbody tr th {\n",
       "        vertical-align: top;\n",
       "    }\n",
       "\n",
       "    .dataframe thead th {\n",
       "        text-align: right;\n",
       "    }\n",
       "</style>\n",
       "<table border=\"1\" class=\"dataframe\">\n",
       "  <thead>\n",
       "    <tr style=\"text-align: right;\">\n",
       "      <th></th>\n",
       "      <th>id</th>\n",
       "      <th>member_id</th>\n",
       "      <th>loan_amnt</th>\n",
       "      <th>funded_amnt</th>\n",
       "      <th>funded_amnt_inv</th>\n",
       "      <th>term</th>\n",
       "      <th>int_rate</th>\n",
       "      <th>installment</th>\n",
       "      <th>grade</th>\n",
       "      <th>sub_grade</th>\n",
       "      <th>...</th>\n",
       "      <th>addr_state TX</th>\n",
       "      <th>addr_state UT</th>\n",
       "      <th>addr_state VA</th>\n",
       "      <th>addr_state VT</th>\n",
       "      <th>addr_state WA</th>\n",
       "      <th>addr_state WI</th>\n",
       "      <th>addr_state WV</th>\n",
       "      <th>addr_state WY</th>\n",
       "      <th>initial_list_status f</th>\n",
       "      <th>initial_list_status w</th>\n",
       "    </tr>\n",
       "  </thead>\n",
       "  <tbody>\n",
       "    <tr>\n",
       "      <th>0</th>\n",
       "      <td>1077501</td>\n",
       "      <td>1296599</td>\n",
       "      <td>5000</td>\n",
       "      <td>5000</td>\n",
       "      <td>4975.0</td>\n",
       "      <td>36 months</td>\n",
       "      <td>10.65</td>\n",
       "      <td>162.87</td>\n",
       "      <td>B</td>\n",
       "      <td>B2</td>\n",
       "      <td>...</td>\n",
       "      <td>0</td>\n",
       "      <td>0</td>\n",
       "      <td>0</td>\n",
       "      <td>0</td>\n",
       "      <td>0</td>\n",
       "      <td>0</td>\n",
       "      <td>0</td>\n",
       "      <td>0</td>\n",
       "      <td>1</td>\n",
       "      <td>0</td>\n",
       "    </tr>\n",
       "    <tr>\n",
       "      <th>1</th>\n",
       "      <td>1077430</td>\n",
       "      <td>1314167</td>\n",
       "      <td>2500</td>\n",
       "      <td>2500</td>\n",
       "      <td>2500.0</td>\n",
       "      <td>60 months</td>\n",
       "      <td>15.27</td>\n",
       "      <td>59.83</td>\n",
       "      <td>C</td>\n",
       "      <td>C4</td>\n",
       "      <td>...</td>\n",
       "      <td>0</td>\n",
       "      <td>0</td>\n",
       "      <td>0</td>\n",
       "      <td>0</td>\n",
       "      <td>0</td>\n",
       "      <td>0</td>\n",
       "      <td>0</td>\n",
       "      <td>0</td>\n",
       "      <td>1</td>\n",
       "      <td>0</td>\n",
       "    </tr>\n",
       "    <tr>\n",
       "      <th>2</th>\n",
       "      <td>1077175</td>\n",
       "      <td>1313524</td>\n",
       "      <td>2400</td>\n",
       "      <td>2400</td>\n",
       "      <td>2400.0</td>\n",
       "      <td>36 months</td>\n",
       "      <td>15.96</td>\n",
       "      <td>84.33</td>\n",
       "      <td>C</td>\n",
       "      <td>C5</td>\n",
       "      <td>...</td>\n",
       "      <td>0</td>\n",
       "      <td>0</td>\n",
       "      <td>0</td>\n",
       "      <td>0</td>\n",
       "      <td>0</td>\n",
       "      <td>0</td>\n",
       "      <td>0</td>\n",
       "      <td>0</td>\n",
       "      <td>1</td>\n",
       "      <td>0</td>\n",
       "    </tr>\n",
       "    <tr>\n",
       "      <th>3</th>\n",
       "      <td>1076863</td>\n",
       "      <td>1277178</td>\n",
       "      <td>10000</td>\n",
       "      <td>10000</td>\n",
       "      <td>10000.0</td>\n",
       "      <td>36 months</td>\n",
       "      <td>13.49</td>\n",
       "      <td>339.31</td>\n",
       "      <td>C</td>\n",
       "      <td>C1</td>\n",
       "      <td>...</td>\n",
       "      <td>0</td>\n",
       "      <td>0</td>\n",
       "      <td>0</td>\n",
       "      <td>0</td>\n",
       "      <td>0</td>\n",
       "      <td>0</td>\n",
       "      <td>0</td>\n",
       "      <td>0</td>\n",
       "      <td>1</td>\n",
       "      <td>0</td>\n",
       "    </tr>\n",
       "    <tr>\n",
       "      <th>4</th>\n",
       "      <td>1075358</td>\n",
       "      <td>1311748</td>\n",
       "      <td>3000</td>\n",
       "      <td>3000</td>\n",
       "      <td>3000.0</td>\n",
       "      <td>60 months</td>\n",
       "      <td>12.69</td>\n",
       "      <td>67.79</td>\n",
       "      <td>B</td>\n",
       "      <td>B5</td>\n",
       "      <td>...</td>\n",
       "      <td>0</td>\n",
       "      <td>0</td>\n",
       "      <td>0</td>\n",
       "      <td>0</td>\n",
       "      <td>0</td>\n",
       "      <td>0</td>\n",
       "      <td>0</td>\n",
       "      <td>0</td>\n",
       "      <td>1</td>\n",
       "      <td>0</td>\n",
       "    </tr>\n",
       "  </tbody>\n",
       "</table>\n",
       "<p>5 rows × 188 columns</p>\n",
       "</div>"
      ],
      "text/plain": [
       "        id  member_id  loan_amnt  funded_amnt  funded_amnt_inv        term  \\\n",
       "0  1077501    1296599       5000         5000           4975.0   36 months   \n",
       "1  1077430    1314167       2500         2500           2500.0   60 months   \n",
       "2  1077175    1313524       2400         2400           2400.0   36 months   \n",
       "3  1076863    1277178      10000        10000          10000.0   36 months   \n",
       "4  1075358    1311748       3000         3000           3000.0   60 months   \n",
       "\n",
       "   int_rate  installment grade sub_grade  ... addr_state TX addr_state UT  \\\n",
       "0     10.65       162.87     B        B2  ...             0             0   \n",
       "1     15.27        59.83     C        C4  ...             0             0   \n",
       "2     15.96        84.33     C        C5  ...             0             0   \n",
       "3     13.49       339.31     C        C1  ...             0             0   \n",
       "4     12.69        67.79     B        B5  ...             0             0   \n",
       "\n",
       "  addr_state VA  addr_state VT addr_state WA addr_state WI addr_state WV  \\\n",
       "0             0              0             0             0             0   \n",
       "1             0              0             0             0             0   \n",
       "2             0              0             0             0             0   \n",
       "3             0              0             0             0             0   \n",
       "4             0              0             0             0             0   \n",
       "\n",
       "  addr_state WY initial_list_status f initial_list_status w  \n",
       "0             0                     1                     0  \n",
       "1             0                     1                     0  \n",
       "2             0                     1                     0  \n",
       "3             0                     1                     0  \n",
       "4             0                     1                     0  \n",
       "\n",
       "[5 rows x 188 columns]"
      ]
     },
     "execution_count": 4,
     "metadata": {},
     "output_type": "execute_result"
    }
   ],
   "source": [
    "loan_data_preprocessed.drop('Unnamed: 0', inplace=True, axis=1)\n",
    "loan_data_preprocessed.head()"
   ]
  },
  {
   "cell_type": "code",
   "execution_count": 5,
   "metadata": {},
   "outputs": [
    {
     "data": {
      "text/plain": [
       "array(['id', 'member_id', 'loan_amnt', 'funded_amnt', 'funded_amnt_inv',\n",
       "       'term', 'int_rate', 'installment', 'grade', 'sub_grade',\n",
       "       'emp_title', 'emp_length', 'home_ownership', 'annual_inc',\n",
       "       'verification_status', 'issue_d', 'loan_status', 'pymnt_plan',\n",
       "       'url', 'desc', 'purpose', 'title', 'zip_code', 'addr_state', 'dti',\n",
       "       'delinq_2yrs', 'earliest_cr_line', 'inq_last_6mths',\n",
       "       'mths_since_last_delinq', 'mths_since_last_record', 'open_acc',\n",
       "       'pub_rec', 'revol_bal', 'revol_util', 'total_acc',\n",
       "       'initial_list_status', 'out_prncp', 'out_prncp_inv', 'total_pymnt',\n",
       "       'total_pymnt_inv', 'total_rec_prncp', 'total_rec_int',\n",
       "       'total_rec_late_fee', 'recoveries', 'collection_recovery_fee',\n",
       "       'last_pymnt_d', 'last_pymnt_amnt', 'next_pymnt_d',\n",
       "       'last_credit_pull_d', 'collections_12_mths_ex_med',\n",
       "       'mths_since_last_major_derog', 'policy_code', 'application_type',\n",
       "       'acc_now_delinq', 'tot_coll_amt', 'tot_cur_bal',\n",
       "       'total_rev_hi_lim', 'emp_length_int', 'earliest_cr_line_date',\n",
       "       'mths_since_earliest_cr_line', 'term_int', 'months_issue_d',\n",
       "       'grade A', 'grade B', 'grade C', 'grade D', 'grade E', 'grade F',\n",
       "       'grade G', 'sub_grade A1', 'sub_grade A2', 'sub_grade A3',\n",
       "       'sub_grade A4', 'sub_grade A5', 'sub_grade B1', 'sub_grade B2',\n",
       "       'sub_grade B3', 'sub_grade B4', 'sub_grade B5', 'sub_grade C1',\n",
       "       'sub_grade C2', 'sub_grade C3', 'sub_grade C4', 'sub_grade C5',\n",
       "       'sub_grade D1', 'sub_grade D2', 'sub_grade D3', 'sub_grade D4',\n",
       "       'sub_grade D5', 'sub_grade E1', 'sub_grade E2', 'sub_grade E3',\n",
       "       'sub_grade E4', 'sub_grade E5', 'sub_grade F1', 'sub_grade F2',\n",
       "       'sub_grade F3', 'sub_grade F4', 'sub_grade F5', 'sub_grade G1',\n",
       "       'sub_grade G2', 'sub_grade G3', 'sub_grade G4', 'sub_grade G5',\n",
       "       'home_ownership ANY', 'home_ownership MORTGAGE',\n",
       "       'home_ownership NONE', 'home_ownership OTHER',\n",
       "       'home_ownership OWN', 'home_ownership RENT',\n",
       "       'verification_status Not Verified',\n",
       "       'verification_status Source Verified',\n",
       "       'verification_status Verified', 'loan_status Charged Off',\n",
       "       'loan_status Current', 'loan_status Default',\n",
       "       'loan_status Does not meet the credit policy. Status:Charged Off',\n",
       "       'loan_status Does not meet the credit policy. Status:Fully Paid',\n",
       "       'loan_status Fully Paid', 'loan_status In Grace Period',\n",
       "       'loan_status Late (16-30 days)', 'loan_status Late (31-120 days)',\n",
       "       'purpose car', 'purpose credit_card', 'purpose debt_consolidation',\n",
       "       'purpose educational', 'purpose home_improvement', 'purpose house',\n",
       "       'purpose major_purchase', 'purpose medical', 'purpose moving',\n",
       "       'purpose other', 'purpose renewable_energy',\n",
       "       'purpose small_business', 'purpose vacation', 'purpose wedding',\n",
       "       'addr_state AK', 'addr_state AL', 'addr_state AR', 'addr_state AZ',\n",
       "       'addr_state CA', 'addr_state CO', 'addr_state CT', 'addr_state DC',\n",
       "       'addr_state DE', 'addr_state FL', 'addr_state GA', 'addr_state HI',\n",
       "       'addr_state IA', 'addr_state ID', 'addr_state IL', 'addr_state IN',\n",
       "       'addr_state KS', 'addr_state KY', 'addr_state LA', 'addr_state MA',\n",
       "       'addr_state MD', 'addr_state ME', 'addr_state MI', 'addr_state MN',\n",
       "       'addr_state MO', 'addr_state MS', 'addr_state MT', 'addr_state NC',\n",
       "       'addr_state NE', 'addr_state NH', 'addr_state NJ', 'addr_state NM',\n",
       "       'addr_state NV', 'addr_state NY', 'addr_state OH', 'addr_state OK',\n",
       "       'addr_state OR', 'addr_state PA', 'addr_state RI', 'addr_state SC',\n",
       "       'addr_state SD', 'addr_state TN', 'addr_state TX', 'addr_state UT',\n",
       "       'addr_state VA', 'addr_state VT', 'addr_state WA', 'addr_state WI',\n",
       "       'addr_state WV', 'addr_state WY', 'initial_list_status f',\n",
       "       'initial_list_status w'], dtype=object)"
      ]
     },
     "execution_count": 5,
     "metadata": {},
     "output_type": "execute_result"
    }
   ],
   "source": [
    "loan_data_preprocessed.columns.values"
   ]
  },
  {
   "cell_type": "code",
   "execution_count": 6,
   "metadata": {},
   "outputs": [],
   "source": [
    "loan_data_defaults = loan_data_preprocessed[loan_data_preprocessed['loan_status'].isin(['Charged Off','Does not meet the credit policy. Status:Charged Off'])]"
   ]
  },
  {
   "cell_type": "code",
   "execution_count": 7,
   "metadata": {},
   "outputs": [
    {
     "data": {
      "text/plain": [
       "(43236, 188)"
      ]
     },
     "execution_count": 7,
     "metadata": {},
     "output_type": "execute_result"
    }
   ],
   "source": [
    "loan_data_defaults.shape"
   ]
  },
  {
   "cell_type": "code",
   "execution_count": 8,
   "metadata": {},
   "outputs": [
    {
     "data": {
      "text/plain": [
       "emp_title                       3287\n",
       "emp_length                      2337\n",
       "desc                           27396\n",
       "title                              3\n",
       "earliest_cr_line                   3\n",
       "mths_since_last_delinq         23950\n",
       "mths_since_last_record         37821\n",
       "revol_util                        53\n",
       "last_pymnt_d                     376\n",
       "next_pymnt_d                   42475\n",
       "last_credit_pull_d                 6\n",
       "collections_12_mths_ex_med        28\n",
       "mths_since_last_major_derog    35283\n",
       "tot_coll_amt                   10780\n",
       "tot_cur_bal                    10780\n",
       "earliest_cr_line_date              3\n",
       "dtype: int64"
      ]
     },
     "execution_count": 8,
     "metadata": {},
     "output_type": "execute_result"
    }
   ],
   "source": [
    "loan_data_defaults.isnull().sum()[loan_data_defaults.isnull().sum() > 0]"
   ]
  },
  {
   "cell_type": "markdown",
   "metadata": {},
   "source": [
    "# Independent Variables"
   ]
  },
  {
   "cell_type": "code",
   "execution_count": 9,
   "metadata": {},
   "outputs": [
    {
     "name": "stderr",
     "output_type": "stream",
     "text": [
      "/Users/graystone/anaconda3/lib/python3.7/site-packages/pandas/core/series.py:4523: SettingWithCopyWarning: \n",
      "A value is trying to be set on a copy of a slice from a DataFrame\n",
      "\n",
      "See the caveats in the documentation: https://pandas.pydata.org/pandas-docs/stable/user_guide/indexing.html#returning-a-view-versus-a-copy\n",
      "  downcast=downcast,\n"
     ]
    }
   ],
   "source": [
    "loan_data_defaults['mths_since_last_delinq'].fillna(0, inplace = True)\n",
    "# We fill the missing values with zeroes."
   ]
  },
  {
   "cell_type": "code",
   "execution_count": 10,
   "metadata": {},
   "outputs": [],
   "source": [
    "loan_data_defaults['mths_since_last_record'].fillna(0, inplace=True)\n",
    "# We fill the missing values with zeroes."
   ]
  },
  {
   "cell_type": "markdown",
   "metadata": {},
   "source": [
    "# Dependent Variables"
   ]
  },
  {
   "cell_type": "code",
   "execution_count": 11,
   "metadata": {},
   "outputs": [
    {
     "name": "stderr",
     "output_type": "stream",
     "text": [
      "/Users/graystone/anaconda3/lib/python3.7/site-packages/ipykernel_launcher.py:1: SettingWithCopyWarning: \n",
      "A value is trying to be set on a copy of a slice from a DataFrame.\n",
      "Try using .loc[row_indexer,col_indexer] = value instead\n",
      "\n",
      "See the caveats in the documentation: https://pandas.pydata.org/pandas-docs/stable/user_guide/indexing.html#returning-a-view-versus-a-copy\n",
      "  \"\"\"Entry point for launching an IPython kernel.\n"
     ]
    }
   ],
   "source": [
    "loan_data_defaults['recovery_rate'] = loan_data_defaults['recoveries'] / loan_data_defaults['funded_amnt']\n",
    "# We calculate the dependent variable for the LGD model: recovery rate.\n",
    "# It is the ratio of recoveries and funded amount."
   ]
  },
  {
   "cell_type": "code",
   "execution_count": 12,
   "metadata": {},
   "outputs": [
    {
     "data": {
      "text/plain": [
       "count    43236.000000\n",
       "mean         0.060820\n",
       "std          0.089770\n",
       "min          0.000000\n",
       "25%          0.000000\n",
       "50%          0.029466\n",
       "75%          0.114044\n",
       "max          1.220774\n",
       "Name: recovery_rate, dtype: float64"
      ]
     },
     "execution_count": 12,
     "metadata": {},
     "output_type": "execute_result"
    }
   ],
   "source": [
    "loan_data_defaults['recovery_rate'].describe()\n",
    "# Shows some descriptive statisics for the values of a column."
   ]
  },
  {
   "cell_type": "code",
   "execution_count": 13,
   "metadata": {
    "scrolled": true
   },
   "outputs": [
    {
     "name": "stderr",
     "output_type": "stream",
     "text": [
      "/Users/graystone/anaconda3/lib/python3.7/site-packages/ipykernel_launcher.py:1: SettingWithCopyWarning: \n",
      "A value is trying to be set on a copy of a slice from a DataFrame.\n",
      "Try using .loc[row_indexer,col_indexer] = value instead\n",
      "\n",
      "See the caveats in the documentation: https://pandas.pydata.org/pandas-docs/stable/user_guide/indexing.html#returning-a-view-versus-a-copy\n",
      "  \"\"\"Entry point for launching an IPython kernel.\n",
      "/Users/graystone/anaconda3/lib/python3.7/site-packages/ipykernel_launcher.py:2: SettingWithCopyWarning: \n",
      "A value is trying to be set on a copy of a slice from a DataFrame.\n",
      "Try using .loc[row_indexer,col_indexer] = value instead\n",
      "\n",
      "See the caveats in the documentation: https://pandas.pydata.org/pandas-docs/stable/user_guide/indexing.html#returning-a-view-versus-a-copy\n",
      "  \n"
     ]
    }
   ],
   "source": [
    "loan_data_defaults['recovery_rate'] = np.where(loan_data_defaults['recovery_rate'] > 1, 1, loan_data_defaults['recovery_rate'])\n",
    "loan_data_defaults['recovery_rate'] = np.where(loan_data_defaults['recovery_rate'] < 0, 0, loan_data_defaults['recovery_rate'])\n",
    "# We set recovery rates that are greater than 1 to 1 and recovery rates that are less than 0 to 0."
   ]
  },
  {
   "cell_type": "code",
   "execution_count": 14,
   "metadata": {},
   "outputs": [
    {
     "data": {
      "text/plain": [
       "count    43236.000000\n",
       "mean         0.060770\n",
       "std          0.089202\n",
       "min          0.000000\n",
       "25%          0.000000\n",
       "50%          0.029466\n",
       "75%          0.114044\n",
       "max          1.000000\n",
       "Name: recovery_rate, dtype: float64"
      ]
     },
     "execution_count": 14,
     "metadata": {},
     "output_type": "execute_result"
    }
   ],
   "source": [
    "loan_data_defaults['recovery_rate'].describe()\n",
    "# Shows some descriptive statisics for the values of a column."
   ]
  },
  {
   "cell_type": "code",
   "execution_count": 15,
   "metadata": {},
   "outputs": [
    {
     "name": "stderr",
     "output_type": "stream",
     "text": [
      "/Users/graystone/anaconda3/lib/python3.7/site-packages/ipykernel_launcher.py:1: SettingWithCopyWarning: \n",
      "A value is trying to be set on a copy of a slice from a DataFrame.\n",
      "Try using .loc[row_indexer,col_indexer] = value instead\n",
      "\n",
      "See the caveats in the documentation: https://pandas.pydata.org/pandas-docs/stable/user_guide/indexing.html#returning-a-view-versus-a-copy\n",
      "  \"\"\"Entry point for launching an IPython kernel.\n"
     ]
    }
   ],
   "source": [
    "loan_data_defaults['CCF'] = (loan_data_defaults['funded_amnt'] - loan_data_defaults['total_rec_prncp']) / loan_data_defaults['funded_amnt']\n",
    "# We calculate the dependent variable for the EAD model: credit conversion factor.\n",
    "# It is the ratio of the difference of the amount used at the moment of default to the total funded amount."
   ]
  },
  {
   "cell_type": "code",
   "execution_count": 16,
   "metadata": {},
   "outputs": [
    {
     "data": {
      "text/plain": [
       "count    43236.000000\n",
       "mean         0.735952\n",
       "std          0.200742\n",
       "min          0.000438\n",
       "25%          0.632088\n",
       "50%          0.789908\n",
       "75%          0.888543\n",
       "max          1.000000\n",
       "Name: CCF, dtype: float64"
      ]
     },
     "execution_count": 16,
     "metadata": {},
     "output_type": "execute_result"
    }
   ],
   "source": [
    "loan_data_defaults['CCF'].describe()\n",
    "# Shows some descriptive statisics for the values of a column."
   ]
  },
  {
   "cell_type": "code",
   "execution_count": 17,
   "metadata": {},
   "outputs": [],
   "source": [
    "loan_data_defaults.to_csv('data/loan_data_defaults.csv')\n",
    "# We save the data to a CSV file."
   ]
  },
  {
   "cell_type": "markdown",
   "metadata": {},
   "source": [
    "# Some Plotting"
   ]
  },
  {
   "cell_type": "code",
   "execution_count": 18,
   "metadata": {},
   "outputs": [],
   "source": [
    "import matplotlib.pyplot as plt\n",
    "import seaborn as sns\n",
    "sns.set()"
   ]
  },
  {
   "cell_type": "code",
   "execution_count": 19,
   "metadata": {},
   "outputs": [
    {
     "data": {
      "text/plain": [
       "(array([2.1023e+04, 1.8370e+03, 3.8730e+03, 1.3940e+03, 2.1330e+03,\n",
       "        3.3440e+03, 4.7650e+03, 1.7130e+03, 1.1790e+03, 4.0600e+02,\n",
       "        3.4100e+02, 2.7400e+02, 1.1700e+02, 9.3000e+01, 8.1000e+01,\n",
       "        7.3000e+01, 5.4000e+01, 7.2000e+01, 5.7000e+01, 3.0000e+01,\n",
       "        4.7000e+01, 2.7000e+01, 1.7000e+01, 1.5000e+01, 2.0000e+01,\n",
       "        2.3000e+01, 1.7000e+01, 7.0000e+00, 1.1000e+01, 7.0000e+00,\n",
       "        8.0000e+00, 7.0000e+00, 7.0000e+00, 8.0000e+00, 7.0000e+00,\n",
       "        1.0000e+01, 6.0000e+00, 1.1000e+01, 9.0000e+00, 9.0000e+00,\n",
       "        6.0000e+00, 6.0000e+00, 6.0000e+00, 3.0000e+00, 9.0000e+00,\n",
       "        9.0000e+00, 1.5000e+01, 8.0000e+00, 9.0000e+00, 3.3000e+01]),\n",
       " array([0.  , 0.02, 0.04, 0.06, 0.08, 0.1 , 0.12, 0.14, 0.16, 0.18, 0.2 ,\n",
       "        0.22, 0.24, 0.26, 0.28, 0.3 , 0.32, 0.34, 0.36, 0.38, 0.4 , 0.42,\n",
       "        0.44, 0.46, 0.48, 0.5 , 0.52, 0.54, 0.56, 0.58, 0.6 , 0.62, 0.64,\n",
       "        0.66, 0.68, 0.7 , 0.72, 0.74, 0.76, 0.78, 0.8 , 0.82, 0.84, 0.86,\n",
       "        0.88, 0.9 , 0.92, 0.94, 0.96, 0.98, 1.  ]),\n",
       " <a list of 50 Patch objects>)"
      ]
     },
     "execution_count": 19,
     "metadata": {},
     "output_type": "execute_result"
    },
    {
     "data": {
      "image/png": "[encoded data removed]",
      "text/plain": [
       "<Figure size 432x288 with 1 Axes>"
      ]
     },
     "metadata": {},
     "output_type": "display_data"
    }
   ],
   "source": [
    "plt.hist(loan_data_defaults['recovery_rate'], bins = 50)"
   ]
  },
  {
   "cell_type": "code",
   "execution_count": 20,
   "metadata": {},
   "outputs": [
    {
     "data": {
      "text/plain": [
       "(array([   3.,   17.,   16.,   44.,   16.,   13.,   71.,   26.,    7.,\n",
       "          63.,   67.,   17.,   60.,   90.,   23.,   55.,   82.,   42.,\n",
       "          47.,  123.,   82.,   70.,  122.,   86.,   89.,  110.,  117.,\n",
       "         111.,  122.,  120.,  135.,  141.,  154.,  146.,  160.,  175.,\n",
       "         152.,  187.,  202.,  174.,  204.,  208.,  210.,  211.,  241.,\n",
       "         264.,  281.,  224.,  308.,  267.,  287.,  296.,  340.,  274.,\n",
       "         365.,  370.,  392.,  364.,  393.,  419.,  411.,  429.,  445.,\n",
       "         497.,  481.,  478.,  569.,  568.,  599.,  618.,  727.,  691.,\n",
       "         626.,  805.,  804.,  776.,  881.,  851.,  916.,  934.,  925.,\n",
       "        1078.,  933., 1218., 1041., 1082., 1336., 1040., 1374., 1073.,\n",
       "        1406., 1287.,  952., 1414.,  795., 1320.,  578.,  949.,  343.,\n",
       "         531.]),\n",
       " array([4.3800000e-04, 1.0433620e-02, 2.0429240e-02, 3.0424860e-02,\n",
       "        4.0420480e-02, 5.0416100e-02, 6.0411720e-02, 7.0407340e-02,\n",
       "        8.0402960e-02, 9.0398580e-02, 1.0039420e-01, 1.1038982e-01,\n",
       "        1.2038544e-01, 1.3038106e-01, 1.4037668e-01, 1.5037230e-01,\n",
       "        1.6036792e-01, 1.7036354e-01, 1.8035916e-01, 1.9035478e-01,\n",
       "        2.0035040e-01, 2.1034602e-01, 2.2034164e-01, 2.3033726e-01,\n",
       "        2.4033288e-01, 2.5032850e-01, 2.6032412e-01, 2.7031974e-01,\n",
       "        2.8031536e-01, 2.9031098e-01, 3.0030660e-01, 3.1030222e-01,\n",
       "        3.2029784e-01, 3.3029346e-01, 3.4028908e-01, 3.5028470e-01,\n",
       "        3.6028032e-01, 3.7027594e-01, 3.8027156e-01, 3.9026718e-01,\n",
       "        4.0026280e-01, 4.1025842e-01, 4.2025404e-01, 4.3024966e-01,\n",
       "        4.4024528e-01, 4.5024090e-01, 4.6023652e-01, 4.7023214e-01,\n",
       "        4.8022776e-01, 4.9022338e-01, 5.0021900e-01, 5.1021462e-01,\n",
       "        5.2021024e-01, 5.3020586e-01, 5.4020148e-01, 5.5019710e-01,\n",
       "        5.6019272e-01, 5.7018834e-01, 5.8018396e-01, 5.9017958e-01,\n",
       "        6.0017520e-01, 6.1017082e-01, 6.2016644e-01, 6.3016206e-01,\n",
       "        6.4015768e-01, 6.5015330e-01, 6.6014892e-01, 6.7014454e-01,\n",
       "        6.8014016e-01, 6.9013578e-01, 7.0013140e-01, 7.1012702e-01,\n",
       "        7.2012264e-01, 7.3011826e-01, 7.4011388e-01, 7.5010950e-01,\n",
       "        7.6010512e-01, 7.7010074e-01, 7.8009636e-01, 7.9009198e-01,\n",
       "        8.0008760e-01, 8.1008322e-01, 8.2007884e-01, 8.3007446e-01,\n",
       "        8.4007008e-01, 8.5006570e-01, 8.6006132e-01, 8.7005694e-01,\n",
       "        8.8005256e-01, 8.9004818e-01, 9.0004380e-01, 9.1003942e-01,\n",
       "        9.2003504e-01, 9.3003066e-01, 9.4002628e-01, 9.5002190e-01,\n",
       "        9.6001752e-01, 9.7001314e-01, 9.8000876e-01, 9.9000438e-01,\n",
       "        1.0000000e+00]),\n",
       " <a list of 100 Patch objects>)"
      ]
     },
     "execution_count": 20,
     "metadata": {},
     "output_type": "execute_result"
    },
    {
     "data": {
      "image/png": "[encoded data removed]",
      "text/plain": [
       "<Figure size 432x288 with 1 Axes>"
      ]
     },
     "metadata": {},
     "output_type": "display_data"
    }
   ],
   "source": [
    "plt.hist(loan_data_defaults['CCF'], bins = 100)"
   ]
  },
  {
   "cell_type": "code",
   "execution_count": 21,
   "metadata": {},
   "outputs": [
    {
     "name": "stderr",
     "output_type": "stream",
     "text": [
      "/Users/graystone/anaconda3/lib/python3.7/site-packages/ipykernel_launcher.py:1: SettingWithCopyWarning: \n",
      "A value is trying to be set on a copy of a slice from a DataFrame.\n",
      "Try using .loc[row_indexer,col_indexer] = value instead\n",
      "\n",
      "See the caveats in the documentation: https://pandas.pydata.org/pandas-docs/stable/user_guide/indexing.html#returning-a-view-versus-a-copy\n",
      "  \"\"\"Entry point for launching an IPython kernel.\n"
     ]
    }
   ],
   "source": [
    "loan_data_defaults['recovery_rate_0_1'] = np.where(loan_data_defaults['recovery_rate'] == 0, 0, 1) \n",
    "# We create a new variable which is 0 if recovery rate is 0 and 1 otherwise."
   ]
  },
  {
   "cell_type": "code",
   "execution_count": 22,
   "metadata": {},
   "outputs": [
    {
     "data": {
      "text/plain": [
       "1         1\n",
       "8         1\n",
       "9         1\n",
       "12        1\n",
       "14        1\n",
       "         ..\n",
       "466254    0\n",
       "466256    0\n",
       "466276    1\n",
       "466277    0\n",
       "466281    0\n",
       "Name: recovery_rate_0_1, Length: 43236, dtype: int64"
      ]
     },
     "execution_count": 22,
     "metadata": {},
     "output_type": "execute_result"
    }
   ],
   "source": [
    "loan_data_defaults['recovery_rate_0_1']"
   ]
  },
  {
   "cell_type": "code",
   "execution_count": 23,
   "metadata": {},
   "outputs": [],
   "source": [
    "loan_data_defaults.to_csv('data/loan_data_defaults.csv')\n",
    "# We save the data to a CSV file."
   ]
  },
  {
   "cell_type": "markdown",
   "metadata": {},
   "source": [
    "# LGD Model"
   ]
  },
  {
   "cell_type": "markdown",
   "metadata": {},
   "source": [
    "## Splitting Data"
   ]
  },
  {
   "cell_type": "code",
   "execution_count": 24,
   "metadata": {},
   "outputs": [],
   "source": [
    "from sklearn.model_selection import train_test_split"
   ]
  },
  {
   "cell_type": "code",
   "execution_count": 25,
   "metadata": {},
   "outputs": [
    {
     "name": "stderr",
     "output_type": "stream",
     "text": [
      "/Users/graystone/anaconda3/lib/python3.7/site-packages/IPython/core/interactiveshell.py:3072: DtypeWarning: Columns (48) have mixed types.Specify dtype option on import or set low_memory=False.\n",
      "  interactivity=interactivity, compiler=compiler, result=result)\n"
     ]
    }
   ],
   "source": [
    "loan_data_defaults = pd.read_csv('data/loan_data_defaults.csv')"
   ]
  },
  {
   "cell_type": "code",
   "execution_count": 26,
   "metadata": {},
   "outputs": [
    {
     "data": {
      "text/html": [
       "<div>\n",
       "<style scoped>\n",
       "    .dataframe tbody tr th:only-of-type {\n",
       "        vertical-align: middle;\n",
       "    }\n",
       "\n",
       "    .dataframe tbody tr th {\n",
       "        vertical-align: top;\n",
       "    }\n",
       "\n",
       "    .dataframe thead th {\n",
       "        text-align: right;\n",
       "    }\n",
       "</style>\n",
       "<table border=\"1\" class=\"dataframe\">\n",
       "  <thead>\n",
       "    <tr style=\"text-align: right;\">\n",
       "      <th></th>\n",
       "      <th>id</th>\n",
       "      <th>member_id</th>\n",
       "      <th>loan_amnt</th>\n",
       "      <th>funded_amnt</th>\n",
       "      <th>funded_amnt_inv</th>\n",
       "      <th>term</th>\n",
       "      <th>int_rate</th>\n",
       "      <th>installment</th>\n",
       "      <th>grade</th>\n",
       "      <th>sub_grade</th>\n",
       "      <th>...</th>\n",
       "      <th>addr_state VT</th>\n",
       "      <th>addr_state WA</th>\n",
       "      <th>addr_state WI</th>\n",
       "      <th>addr_state WV</th>\n",
       "      <th>addr_state WY</th>\n",
       "      <th>initial_list_status f</th>\n",
       "      <th>initial_list_status w</th>\n",
       "      <th>recovery_rate</th>\n",
       "      <th>CCF</th>\n",
       "      <th>recovery_rate_0_1</th>\n",
       "    </tr>\n",
       "  </thead>\n",
       "  <tbody>\n",
       "    <tr>\n",
       "      <th>0</th>\n",
       "      <td>1077430</td>\n",
       "      <td>1314167</td>\n",
       "      <td>2500</td>\n",
       "      <td>2500</td>\n",
       "      <td>2500.0</td>\n",
       "      <td>60 months</td>\n",
       "      <td>15.27</td>\n",
       "      <td>59.83</td>\n",
       "      <td>C</td>\n",
       "      <td>C4</td>\n",
       "      <td>...</td>\n",
       "      <td>0</td>\n",
       "      <td>0</td>\n",
       "      <td>0</td>\n",
       "      <td>0</td>\n",
       "      <td>0</td>\n",
       "      <td>1</td>\n",
       "      <td>0</td>\n",
       "      <td>0.046832</td>\n",
       "      <td>0.817416</td>\n",
       "      <td>1</td>\n",
       "    </tr>\n",
       "    <tr>\n",
       "      <th>1</th>\n",
       "      <td>1071795</td>\n",
       "      <td>1306957</td>\n",
       "      <td>5600</td>\n",
       "      <td>5600</td>\n",
       "      <td>5600.0</td>\n",
       "      <td>60 months</td>\n",
       "      <td>21.28</td>\n",
       "      <td>152.39</td>\n",
       "      <td>F</td>\n",
       "      <td>F2</td>\n",
       "      <td>...</td>\n",
       "      <td>0</td>\n",
       "      <td>0</td>\n",
       "      <td>0</td>\n",
       "      <td>0</td>\n",
       "      <td>0</td>\n",
       "      <td>1</td>\n",
       "      <td>0</td>\n",
       "      <td>0.033761</td>\n",
       "      <td>0.971068</td>\n",
       "      <td>1</td>\n",
       "    </tr>\n",
       "    <tr>\n",
       "      <th>2</th>\n",
       "      <td>1071570</td>\n",
       "      <td>1306721</td>\n",
       "      <td>5375</td>\n",
       "      <td>5375</td>\n",
       "      <td>5350.0</td>\n",
       "      <td>60 months</td>\n",
       "      <td>12.69</td>\n",
       "      <td>121.45</td>\n",
       "      <td>B</td>\n",
       "      <td>B5</td>\n",
       "      <td>...</td>\n",
       "      <td>0</td>\n",
       "      <td>0</td>\n",
       "      <td>0</td>\n",
       "      <td>0</td>\n",
       "      <td>0</td>\n",
       "      <td>1</td>\n",
       "      <td>0</td>\n",
       "      <td>0.050100</td>\n",
       "      <td>0.874701</td>\n",
       "      <td>1</td>\n",
       "    </tr>\n",
       "    <tr>\n",
       "      <th>3</th>\n",
       "      <td>1064687</td>\n",
       "      <td>1298717</td>\n",
       "      <td>9000</td>\n",
       "      <td>9000</td>\n",
       "      <td>9000.0</td>\n",
       "      <td>36 months</td>\n",
       "      <td>13.49</td>\n",
       "      <td>305.38</td>\n",
       "      <td>C</td>\n",
       "      <td>C1</td>\n",
       "      <td>...</td>\n",
       "      <td>0</td>\n",
       "      <td>0</td>\n",
       "      <td>0</td>\n",
       "      <td>0</td>\n",
       "      <td>0</td>\n",
       "      <td>1</td>\n",
       "      <td>0</td>\n",
       "      <td>0.049367</td>\n",
       "      <td>0.860429</td>\n",
       "      <td>1</td>\n",
       "    </tr>\n",
       "    <tr>\n",
       "      <th>4</th>\n",
       "      <td>1069057</td>\n",
       "      <td>1303503</td>\n",
       "      <td>10000</td>\n",
       "      <td>10000</td>\n",
       "      <td>10000.0</td>\n",
       "      <td>36 months</td>\n",
       "      <td>10.65</td>\n",
       "      <td>325.74</td>\n",
       "      <td>B</td>\n",
       "      <td>B2</td>\n",
       "      <td>...</td>\n",
       "      <td>0</td>\n",
       "      <td>0</td>\n",
       "      <td>0</td>\n",
       "      <td>0</td>\n",
       "      <td>0</td>\n",
       "      <td>1</td>\n",
       "      <td>0</td>\n",
       "      <td>0.064510</td>\n",
       "      <td>0.456653</td>\n",
       "      <td>1</td>\n",
       "    </tr>\n",
       "  </tbody>\n",
       "</table>\n",
       "<p>5 rows × 191 columns</p>\n",
       "</div>"
      ],
      "text/plain": [
       "        id  member_id  loan_amnt  funded_amnt  funded_amnt_inv        term  \\\n",
       "0  1077430    1314167       2500         2500           2500.0   60 months   \n",
       "1  1071795    1306957       5600         5600           5600.0   60 months   \n",
       "2  1071570    1306721       5375         5375           5350.0   60 months   \n",
       "3  1064687    1298717       9000         9000           9000.0   36 months   \n",
       "4  1069057    1303503      10000        10000          10000.0   36 months   \n",
       "\n",
       "   int_rate  installment grade sub_grade  ... addr_state VT addr_state WA  \\\n",
       "0     15.27        59.83     C        C4  ...             0             0   \n",
       "1     21.28       152.39     F        F2  ...             0             0   \n",
       "2     12.69       121.45     B        B5  ...             0             0   \n",
       "3     13.49       305.38     C        C1  ...             0             0   \n",
       "4     10.65       325.74     B        B2  ...             0             0   \n",
       "\n",
       "  addr_state WI  addr_state WV addr_state WY initial_list_status f  \\\n",
       "0             0              0             0                     1   \n",
       "1             0              0             0                     1   \n",
       "2             0              0             0                     1   \n",
       "3             0              0             0                     1   \n",
       "4             0              0             0                     1   \n",
       "\n",
       "  initial_list_status w recovery_rate       CCF recovery_rate_0_1  \n",
       "0                     0      0.046832  0.817416                 1  \n",
       "1                     0      0.033761  0.971068                 1  \n",
       "2                     0      0.050100  0.874701                 1  \n",
       "3                     0      0.049367  0.860429                 1  \n",
       "4                     0      0.064510  0.456653                 1  \n",
       "\n",
       "[5 rows x 191 columns]"
      ]
     },
     "execution_count": 26,
     "metadata": {},
     "output_type": "execute_result"
    }
   ],
   "source": [
    "loan_data_defaults.drop('Unnamed: 0', axis=1, inplace = True)\n",
    "loan_data_defaults.head()"
   ]
  },
  {
   "cell_type": "code",
   "execution_count": 27,
   "metadata": {},
   "outputs": [],
   "source": [
    "# LGD model stage 1 datasets: recovery rate 0 or greater than 0.\n",
    "lgd_inputs_stage_1_train, lgd_inputs_stage_1_test, lgd_targets_stage_1_train, lgd_targets_stage_1_test = train_test_split(loan_data_defaults.drop(['recovery_rate','recovery_rate_0_1', 'CCF'], axis = 1), loan_data_defaults['recovery_rate_0_1'], test_size = 0.2, random_state = 42)"
   ]
  },
  {
   "cell_type": "markdown",
   "metadata": {},
   "source": [
    "## Prepare the input data"
   ]
  },
  {
   "cell_type": "code",
   "execution_count": 28,
   "metadata": {},
   "outputs": [],
   "source": [
    "features_all = ['grade A',\n",
    "'grade B',\n",
    "'grade C',\n",
    "'grade D',\n",
    "'grade E',\n",
    "'grade F',\n",
    "'grade G',\n",
    "'home_ownership MORTGAGE',\n",
    "'home_ownership NONE',\n",
    "'home_ownership OTHER',\n",
    "'home_ownership OWN',\n",
    "'home_ownership RENT',\n",
    "'verification_status Not Verified',\n",
    "'verification_status Source Verified',\n",
    "'verification_status Verified',\n",
    "'purpose car',\n",
    "'purpose credit_card',\n",
    "'purpose debt_consolidation',\n",
    "'purpose educational',\n",
    "'purpose home_improvement',\n",
    "'purpose house',\n",
    "'purpose major_purchase',\n",
    "'purpose medical',\n",
    "'purpose moving',\n",
    "'purpose other',\n",
    "'purpose renewable_energy',\n",
    "'purpose small_business',\n",
    "'purpose vacation',\n",
    "'purpose wedding',\n",
    "'initial_list_status f',\n",
    "'initial_list_status w',\n",
    "'term_int',\n",
    "'emp_length_int',\n",
    "'months_issue_d',\n",
    "'mths_since_earliest_cr_line',\n",
    "'funded_amnt',\n",
    "'int_rate',\n",
    "'installment',\n",
    "'annual_inc',\n",
    "'dti',\n",
    "'delinq_2yrs',\n",
    "'inq_last_6mths',\n",
    "'mths_since_last_delinq',\n",
    "'mths_since_last_record',\n",
    "'open_acc',\n",
    "'pub_rec',\n",
    "'total_acc',\n",
    "'acc_now_delinq',\n",
    "'total_rev_hi_lim']\n",
    "# List of all independent variables for the models."
   ]
  },
  {
   "cell_type": "code",
   "execution_count": 29,
   "metadata": {},
   "outputs": [],
   "source": [
    "features_reference_cat = ['grade G',\n",
    "'home_ownership RENT',\n",
    "'verification_status Verified',\n",
    "'purpose credit_card',\n",
    "'initial_list_status f']\n",
    "# List of the dummy variable reference categories. "
   ]
  },
  {
   "cell_type": "code",
   "execution_count": 30,
   "metadata": {},
   "outputs": [],
   "source": [
    "lgd_inputs_stage_1_train = lgd_inputs_stage_1_train[features_all]\n",
    "# Here we keep only the variables we need for the model."
   ]
  },
  {
   "cell_type": "code",
   "execution_count": 31,
   "metadata": {},
   "outputs": [],
   "source": [
    "lgd_inputs_stage_1_train = lgd_inputs_stage_1_train.drop(features_reference_cat, axis = 1)\n",
    "# Here we remove the dummy variable reference categories."
   ]
  },
  {
   "cell_type": "code",
   "execution_count": 32,
   "metadata": {},
   "outputs": [
    {
     "data": {
      "text/plain": [
       "grade A                                0\n",
       "grade B                                0\n",
       "grade C                                0\n",
       "grade D                                0\n",
       "grade E                                0\n",
       "grade F                                0\n",
       "home_ownership MORTGAGE                0\n",
       "home_ownership NONE                    0\n",
       "home_ownership OTHER                   0\n",
       "home_ownership OWN                     0\n",
       "verification_status Not Verified       0\n",
       "verification_status Source Verified    0\n",
       "purpose car                            0\n",
       "purpose debt_consolidation             0\n",
       "purpose educational                    0\n",
       "purpose home_improvement               0\n",
       "purpose house                          0\n",
       "purpose major_purchase                 0\n",
       "purpose medical                        0\n",
       "purpose moving                         0\n",
       "purpose other                          0\n",
       "purpose renewable_energy               0\n",
       "purpose small_business                 0\n",
       "purpose vacation                       0\n",
       "purpose wedding                        0\n",
       "initial_list_status w                  0\n",
       "term_int                               0\n",
       "emp_length_int                         0\n",
       "months_issue_d                         0\n",
       "mths_since_earliest_cr_line            0\n",
       "funded_amnt                            0\n",
       "int_rate                               0\n",
       "installment                            0\n",
       "annual_inc                             0\n",
       "dti                                    0\n",
       "delinq_2yrs                            0\n",
       "inq_last_6mths                         0\n",
       "mths_since_last_delinq                 0\n",
       "mths_since_last_record                 0\n",
       "open_acc                               0\n",
       "pub_rec                                0\n",
       "total_acc                              0\n",
       "acc_now_delinq                         0\n",
       "total_rev_hi_lim                       0\n",
       "dtype: int64"
      ]
     },
     "execution_count": 32,
     "metadata": {},
     "output_type": "execute_result"
    }
   ],
   "source": [
    "lgd_inputs_stage_1_train.isnull().sum()\n",
    "# Check for missing values. We check whether the value of each row for each column is missing or not,\n",
    "# then sum accross columns."
   ]
  },
  {
   "cell_type": "markdown",
   "metadata": {},
   "source": [
    "__We use a two staged model__\n",
    "\n",
    "* Stage 1: Is the recovery Rate Greater than 0? (__Logistic regression__ model)\n",
    "* Stage 2: If No, than Recovery rate = 0, If Yes, than we estimate the recovery with __Linear Regression__ model"
   ]
  },
  {
   "cell_type": "markdown",
   "metadata": {},
   "source": [
    "## Stage 1 - LGD Model (Logistic Regression)"
   ]
  },
  {
   "cell_type": "code",
   "execution_count": 33,
   "metadata": {},
   "outputs": [],
   "source": [
    "# P values for sklearn logistic regression.\n",
    "\n",
    "# Class to display p-values for logistic regression in sklearn.\n",
    "\n",
    "from sklearn import linear_model\n",
    "import scipy.stats as stat\n",
    "\n",
    "class LogisticRegression_with_p_values:\n",
    "    \n",
    "    def __init__(self,*args,**kwargs):#,**kwargs):\n",
    "        self.model = linear_model.LogisticRegression(*args,**kwargs)#,**args)\n",
    "\n",
    "    def fit(self,X,y):\n",
    "        self.model.fit(X,y)\n",
    "        \n",
    "        #### Get p-values for the fitted model ####\n",
    "        denom = (2.0 * (1.0 + np.cosh(self.model.decision_function(X))))\n",
    "        denom = np.tile(denom,(X.shape[1],1)).T\n",
    "        F_ij = np.dot((X / denom).T,X) ## Fisher Information Matrix\n",
    "        Cramer_Rao = np.linalg.inv(F_ij) ## Inverse Information Matrix\n",
    "        sigma_estimates = np.sqrt(np.diagonal(Cramer_Rao))\n",
    "        z_scores = self.model.coef_[0] / sigma_estimates # z-score for eaach model coefficient\n",
    "        p_values = [stat.norm.sf(abs(x)) * 2 for x in z_scores] ### two tailed test for p-values\n",
    "        \n",
    "        self.coef_ = self.model.coef_\n",
    "        self.intercept_ = self.model.intercept_\n",
    "        #self.z_scores = z_scores\n",
    "        self.p_values = p_values\n",
    "        #self.sigma_estimates = sigma_estimates\n",
    "        #self.F_ij = F_ij"
   ]
  },
  {
   "cell_type": "code",
   "execution_count": 34,
   "metadata": {},
   "outputs": [
    {
     "name": "stderr",
     "output_type": "stream",
     "text": [
      "/Users/graystone/anaconda3/lib/python3.7/site-packages/sklearn/linear_model/_logistic.py:764: ConvergenceWarning: lbfgs failed to converge (status=1):\n",
      "STOP: TOTAL NO. of ITERATIONS REACHED LIMIT.\n",
      "\n",
      "Increase the number of iterations (max_iter) or scale the data as shown in:\n",
      "    https://scikit-learn.org/stable/modules/preprocessing.html\n",
      "Please also refer to the documentation for alternative solver options:\n",
      "    https://scikit-learn.org/stable/modules/linear_model.html#logistic-regression\n",
      "  extra_warning_msg=_LOGISTIC_SOLVER_CONVERGENCE_MSG)\n"
     ]
    }
   ],
   "source": [
    "reg_lgd_st_1 = LogisticRegression_with_p_values()\n",
    "# We create an instance of an object from the 'LogisticRegression' class.\n",
    "reg_lgd_st_1.fit(lgd_inputs_stage_1_train, lgd_targets_stage_1_train)\n",
    "# Estimates the coefficients of the object from the 'LogisticRegression' class\n",
    "# with inputs (independent variables) contained in the first dataframe\n",
    "# and targets (dependent variables) contained in the second dataframe."
   ]
  },
  {
   "cell_type": "code",
   "execution_count": 35,
   "metadata": {},
   "outputs": [],
   "source": [
    "feature_name = lgd_inputs_stage_1_train.columns.values\n",
    "# Stores the names of the columns of a dataframe in a variable."
   ]
  },
  {
   "cell_type": "code",
   "execution_count": 36,
   "metadata": {},
   "outputs": [
    {
     "data": {
      "text/html": [
       "<div>\n",
       "<style scoped>\n",
       "    .dataframe tbody tr th:only-of-type {\n",
       "        vertical-align: middle;\n",
       "    }\n",
       "\n",
       "    .dataframe tbody tr th {\n",
       "        vertical-align: top;\n",
       "    }\n",
       "\n",
       "    .dataframe thead th {\n",
       "        text-align: right;\n",
       "    }\n",
       "</style>\n",
       "<table border=\"1\" class=\"dataframe\">\n",
       "  <thead>\n",
       "    <tr style=\"text-align: right;\">\n",
       "      <th></th>\n",
       "      <th>Feature name</th>\n",
       "      <th>Coefficients</th>\n",
       "      <th>p_values</th>\n",
       "    </tr>\n",
       "  </thead>\n",
       "  <tbody>\n",
       "    <tr>\n",
       "      <th>0</th>\n",
       "      <td>Intercept</td>\n",
       "      <td>-0.00008506</td>\n",
       "      <td>nan</td>\n",
       "    </tr>\n",
       "    <tr>\n",
       "      <th>1</th>\n",
       "      <td>grade A</td>\n",
       "      <td>-0.00001036</td>\n",
       "      <td>0.99990137</td>\n",
       "    </tr>\n",
       "    <tr>\n",
       "      <th>2</th>\n",
       "      <td>grade B</td>\n",
       "      <td>-0.00006555</td>\n",
       "      <td>0.99922951</td>\n",
       "    </tr>\n",
       "    <tr>\n",
       "      <th>3</th>\n",
       "      <td>grade C</td>\n",
       "      <td>-0.00012901</td>\n",
       "      <td>0.99843227</td>\n",
       "    </tr>\n",
       "    <tr>\n",
       "      <th>4</th>\n",
       "      <td>grade D</td>\n",
       "      <td>0.00002023</td>\n",
       "      <td>0.99976408</td>\n",
       "    </tr>\n",
       "    <tr>\n",
       "      <th>5</th>\n",
       "      <td>grade E</td>\n",
       "      <td>0.00001479</td>\n",
       "      <td>0.99984369</td>\n",
       "    </tr>\n",
       "    <tr>\n",
       "      <th>6</th>\n",
       "      <td>grade F</td>\n",
       "      <td>0.00007296</td>\n",
       "      <td>0.99932913</td>\n",
       "    </tr>\n",
       "    <tr>\n",
       "      <th>7</th>\n",
       "      <td>home_ownership MORTGAGE</td>\n",
       "      <td>-0.00003464</td>\n",
       "      <td>0.99890654</td>\n",
       "    </tr>\n",
       "    <tr>\n",
       "      <th>8</th>\n",
       "      <td>home_ownership NONE</td>\n",
       "      <td>0.00000089</td>\n",
       "      <td>0.99999910</td>\n",
       "    </tr>\n",
       "    <tr>\n",
       "      <th>9</th>\n",
       "      <td>home_ownership OTHER</td>\n",
       "      <td>0.00000059</td>\n",
       "      <td>0.99999877</td>\n",
       "    </tr>\n",
       "    <tr>\n",
       "      <th>10</th>\n",
       "      <td>home_ownership OWN</td>\n",
       "      <td>-0.00000368</td>\n",
       "      <td>0.99992853</td>\n",
       "    </tr>\n",
       "    <tr>\n",
       "      <th>11</th>\n",
       "      <td>verification_status Not Verified</td>\n",
       "      <td>-0.00006094</td>\n",
       "      <td>0.99837066</td>\n",
       "    </tr>\n",
       "    <tr>\n",
       "      <th>12</th>\n",
       "      <td>verification_status Source Verified</td>\n",
       "      <td>-0.00017099</td>\n",
       "      <td>0.99497419</td>\n",
       "    </tr>\n",
       "    <tr>\n",
       "      <th>13</th>\n",
       "      <td>purpose car</td>\n",
       "      <td>0.00001252</td>\n",
       "      <td>0.99991327</td>\n",
       "    </tr>\n",
       "    <tr>\n",
       "      <th>14</th>\n",
       "      <td>purpose debt_consolidation</td>\n",
       "      <td>-0.00014972</td>\n",
       "      <td>0.99604659</td>\n",
       "    </tr>\n",
       "    <tr>\n",
       "      <th>15</th>\n",
       "      <td>purpose educational</td>\n",
       "      <td>0.00000124</td>\n",
       "      <td>0.99999643</td>\n",
       "    </tr>\n",
       "    <tr>\n",
       "      <th>16</th>\n",
       "      <td>purpose home_improvement</td>\n",
       "      <td>0.00001058</td>\n",
       "      <td>0.99985154</td>\n",
       "    </tr>\n",
       "    <tr>\n",
       "      <th>17</th>\n",
       "      <td>purpose house</td>\n",
       "      <td>0.00001130</td>\n",
       "      <td>0.99993629</td>\n",
       "    </tr>\n",
       "    <tr>\n",
       "      <th>18</th>\n",
       "      <td>purpose major_purchase</td>\n",
       "      <td>0.00001871</td>\n",
       "      <td>0.99982575</td>\n",
       "    </tr>\n",
       "    <tr>\n",
       "      <th>19</th>\n",
       "      <td>purpose medical</td>\n",
       "      <td>0.00000186</td>\n",
       "      <td>0.99998586</td>\n",
       "    </tr>\n",
       "    <tr>\n",
       "      <th>20</th>\n",
       "      <td>purpose moving</td>\n",
       "      <td>0.00000352</td>\n",
       "      <td>0.99997631</td>\n",
       "    </tr>\n",
       "    <tr>\n",
       "      <th>21</th>\n",
       "      <td>purpose other</td>\n",
       "      <td>0.00004048</td>\n",
       "      <td>0.99938346</td>\n",
       "    </tr>\n",
       "    <tr>\n",
       "      <th>22</th>\n",
       "      <td>purpose renewable_energy</td>\n",
       "      <td>0.00000318</td>\n",
       "      <td>0.99999246</td>\n",
       "    </tr>\n",
       "    <tr>\n",
       "      <th>23</th>\n",
       "      <td>purpose small_business</td>\n",
       "      <td>0.00005010</td>\n",
       "      <td>0.99943543</td>\n",
       "    </tr>\n",
       "    <tr>\n",
       "      <th>24</th>\n",
       "      <td>purpose vacation</td>\n",
       "      <td>0.00000433</td>\n",
       "      <td>0.99997591</td>\n",
       "    </tr>\n",
       "    <tr>\n",
       "      <th>25</th>\n",
       "      <td>purpose wedding</td>\n",
       "      <td>0.00001099</td>\n",
       "      <td>0.99993958</td>\n",
       "    </tr>\n",
       "    <tr>\n",
       "      <th>26</th>\n",
       "      <td>initial_list_status w</td>\n",
       "      <td>-0.00076271</td>\n",
       "      <td>0.97736290</td>\n",
       "    </tr>\n",
       "    <tr>\n",
       "      <th>27</th>\n",
       "      <td>term_int</td>\n",
       "      <td>-0.00164524</td>\n",
       "      <td>0.50862251</td>\n",
       "    </tr>\n",
       "    <tr>\n",
       "      <th>28</th>\n",
       "      <td>emp_length_int</td>\n",
       "      <td>-0.00032786</td>\n",
       "      <td>0.91449614</td>\n",
       "    </tr>\n",
       "    <tr>\n",
       "      <th>29</th>\n",
       "      <td>months_issue_d</td>\n",
       "      <td>0.01614560</td>\n",
       "      <td>0.00000000</td>\n",
       "    </tr>\n",
       "    <tr>\n",
       "      <th>30</th>\n",
       "      <td>mths_since_earliest_cr_line</td>\n",
       "      <td>-0.00137300</td>\n",
       "      <td>0.00000000</td>\n",
       "    </tr>\n",
       "    <tr>\n",
       "      <th>31</th>\n",
       "      <td>funded_amnt</td>\n",
       "      <td>0.00002405</td>\n",
       "      <td>0.01559688</td>\n",
       "    </tr>\n",
       "    <tr>\n",
       "      <th>32</th>\n",
       "      <td>int_rate</td>\n",
       "      <td>0.00038438</td>\n",
       "      <td>0.94693066</td>\n",
       "    </tr>\n",
       "    <tr>\n",
       "      <th>33</th>\n",
       "      <td>installment</td>\n",
       "      <td>-0.00028253</td>\n",
       "      <td>0.36086486</td>\n",
       "    </tr>\n",
       "    <tr>\n",
       "      <th>34</th>\n",
       "      <td>annual_inc</td>\n",
       "      <td>0.00000016</td>\n",
       "      <td>0.62933882</td>\n",
       "    </tr>\n",
       "    <tr>\n",
       "      <th>35</th>\n",
       "      <td>dti</td>\n",
       "      <td>-0.00518176</td>\n",
       "      <td>0.00140314</td>\n",
       "    </tr>\n",
       "    <tr>\n",
       "      <th>36</th>\n",
       "      <td>delinq_2yrs</td>\n",
       "      <td>-0.00005834</td>\n",
       "      <td>0.99681816</td>\n",
       "    </tr>\n",
       "    <tr>\n",
       "      <th>37</th>\n",
       "      <td>inq_last_6mths</td>\n",
       "      <td>0.00019408</td>\n",
       "      <td>0.98340648</td>\n",
       "    </tr>\n",
       "    <tr>\n",
       "      <th>38</th>\n",
       "      <td>mths_since_last_delinq</td>\n",
       "      <td>-0.00080846</td>\n",
       "      <td>0.10955593</td>\n",
       "    </tr>\n",
       "    <tr>\n",
       "      <th>39</th>\n",
       "      <td>mths_since_last_record</td>\n",
       "      <td>-0.00311265</td>\n",
       "      <td>0.00000043</td>\n",
       "    </tr>\n",
       "    <tr>\n",
       "      <th>40</th>\n",
       "      <td>open_acc</td>\n",
       "      <td>-0.00203487</td>\n",
       "      <td>0.53388572</td>\n",
       "    </tr>\n",
       "    <tr>\n",
       "      <th>41</th>\n",
       "      <td>pub_rec</td>\n",
       "      <td>-0.00006437</td>\n",
       "      <td>0.99869757</td>\n",
       "    </tr>\n",
       "    <tr>\n",
       "      <th>42</th>\n",
       "      <td>total_acc</td>\n",
       "      <td>-0.00510592</td>\n",
       "      <td>0.00041385</td>\n",
       "    </tr>\n",
       "    <tr>\n",
       "      <th>43</th>\n",
       "      <td>acc_now_delinq</td>\n",
       "      <td>0.00000315</td>\n",
       "      <td>0.99998566</td>\n",
       "    </tr>\n",
       "    <tr>\n",
       "      <th>44</th>\n",
       "      <td>total_rev_hi_lim</td>\n",
       "      <td>-0.00000722</td>\n",
       "      <td>0.00000000</td>\n",
       "    </tr>\n",
       "  </tbody>\n",
       "</table>\n",
       "</div>"
      ],
      "text/plain": [
       "                           Feature name  Coefficients   p_values\n",
       "0                             Intercept   -0.00008506        nan\n",
       "1                               grade A   -0.00001036 0.99990137\n",
       "2                               grade B   -0.00006555 0.99922951\n",
       "3                               grade C   -0.00012901 0.99843227\n",
       "4                               grade D    0.00002023 0.99976408\n",
       "5                               grade E    0.00001479 0.99984369\n",
       "6                               grade F    0.00007296 0.99932913\n",
       "7               home_ownership MORTGAGE   -0.00003464 0.99890654\n",
       "8                   home_ownership NONE    0.00000089 0.99999910\n",
       "9                  home_ownership OTHER    0.00000059 0.99999877\n",
       "10                   home_ownership OWN   -0.00000368 0.99992853\n",
       "11     verification_status Not Verified   -0.00006094 0.99837066\n",
       "12  verification_status Source Verified   -0.00017099 0.99497419\n",
       "13                          purpose car    0.00001252 0.99991327\n",
       "14           purpose debt_consolidation   -0.00014972 0.99604659\n",
       "15                  purpose educational    0.00000124 0.99999643\n",
       "16             purpose home_improvement    0.00001058 0.99985154\n",
       "17                        purpose house    0.00001130 0.99993629\n",
       "18               purpose major_purchase    0.00001871 0.99982575\n",
       "19                      purpose medical    0.00000186 0.99998586\n",
       "20                       purpose moving    0.00000352 0.99997631\n",
       "21                        purpose other    0.00004048 0.99938346\n",
       "22             purpose renewable_energy    0.00000318 0.99999246\n",
       "23               purpose small_business    0.00005010 0.99943543\n",
       "24                     purpose vacation    0.00000433 0.99997591\n",
       "25                      purpose wedding    0.00001099 0.99993958\n",
       "26                initial_list_status w   -0.00076271 0.97736290\n",
       "27                             term_int   -0.00164524 0.50862251\n",
       "28                       emp_length_int   -0.00032786 0.91449614\n",
       "29                       months_issue_d    0.01614560 0.00000000\n",
       "30          mths_since_earliest_cr_line   -0.00137300 0.00000000\n",
       "31                          funded_amnt    0.00002405 0.01559688\n",
       "32                             int_rate    0.00038438 0.94693066\n",
       "33                          installment   -0.00028253 0.36086486\n",
       "34                           annual_inc    0.00000016 0.62933882\n",
       "35                                  dti   -0.00518176 0.00140314\n",
       "36                          delinq_2yrs   -0.00005834 0.99681816\n",
       "37                       inq_last_6mths    0.00019408 0.98340648\n",
       "38               mths_since_last_delinq   -0.00080846 0.10955593\n",
       "39               mths_since_last_record   -0.00311265 0.00000043\n",
       "40                             open_acc   -0.00203487 0.53388572\n",
       "41                              pub_rec   -0.00006437 0.99869757\n",
       "42                            total_acc   -0.00510592 0.00041385\n",
       "43                       acc_now_delinq    0.00000315 0.99998566\n",
       "44                     total_rev_hi_lim   -0.00000722 0.00000000"
      ]
     },
     "execution_count": 36,
     "metadata": {},
     "output_type": "execute_result"
    }
   ],
   "source": [
    "summary_table = pd.DataFrame(columns = ['Feature name'], data = feature_name)\n",
    "# Creates a dataframe with a column titled 'Feature name' and row values contained in the 'feature_name' variable.\n",
    "summary_table['Coefficients'] = np.transpose(reg_lgd_st_1.coef_)\n",
    "# Creates a new column in the dataframe, called 'Coefficients',\n",
    "# with row values the transposed coefficients from the 'LogisticRegression' object.\n",
    "summary_table.index = summary_table.index + 1\n",
    "# Increases the index of every row of the dataframe with 1.\n",
    "summary_table.loc[0] = ['Intercept', reg_lgd_st_1.intercept_[0]]\n",
    "# Assigns values of the row with index 0 of the dataframe.\n",
    "summary_table = summary_table.sort_index()\n",
    "# Sorts the dataframe by index.\n",
    "p_values = reg_lgd_st_1.p_values\n",
    "# We take the result of the newly added method 'p_values' and store it in a variable 'p_values'.\n",
    "p_values = np.append(np.nan,np.array(p_values))\n",
    "# We add the value 'NaN' in the beginning of the variable with p-values.\n",
    "summary_table['p_values'] = p_values\n",
    "# In the 'summary_table' dataframe, we add a new column, called 'p_values', containing the values from the 'p_values' variable.\n",
    "pd.set_option('display.float_format', lambda x: '%.8f' % x)\n",
    "summary_table"
   ]
  },
  {
   "cell_type": "markdown",
   "metadata": {},
   "source": [
    "## Testing the Model"
   ]
  },
  {
   "cell_type": "code",
   "execution_count": 37,
   "metadata": {},
   "outputs": [],
   "source": [
    "lgd_inputs_stage_1_test = lgd_inputs_stage_1_test[features_all]\n",
    "# Here we keep only the variables we need for the model."
   ]
  },
  {
   "cell_type": "code",
   "execution_count": 38,
   "metadata": {},
   "outputs": [],
   "source": [
    "lgd_inputs_stage_1_test = lgd_inputs_stage_1_test.drop(features_reference_cat, axis = 1)\n",
    "# Here we remove the dummy variable reference categories."
   ]
  },
  {
   "cell_type": "code",
   "execution_count": 39,
   "metadata": {},
   "outputs": [],
   "source": [
    "y_hat_test_lgd_stage_1 = reg_lgd_st_1.model.predict(lgd_inputs_stage_1_test)\n",
    "# Calculates the predicted values for the dependent variable (targets)\n",
    "# based on the values of the independent variables (inputs) supplied as an argument."
   ]
  },
  {
   "cell_type": "code",
   "execution_count": 40,
   "metadata": {},
   "outputs": [
    {
     "data": {
      "text/plain": [
       "array([1, 1, 0, ..., 1, 1, 1])"
      ]
     },
     "execution_count": 40,
     "metadata": {},
     "output_type": "execute_result"
    }
   ],
   "source": [
    "y_hat_test_lgd_stage_1"
   ]
  },
  {
   "cell_type": "code",
   "execution_count": 41,
   "metadata": {},
   "outputs": [],
   "source": [
    "y_hat_test_proba_lgd_stage_1 = reg_lgd_st_1.model.predict_proba(lgd_inputs_stage_1_test)\n",
    "# Calculates the predicted probability values for the dependent variable (targets)\n",
    "# based on the values of the independent variables (inputs) supplied as an argument."
   ]
  },
  {
   "cell_type": "code",
   "execution_count": 42,
   "metadata": {},
   "outputs": [
    {
     "data": {
      "text/plain": [
       "array([[0.40365706, 0.59634294],\n",
       "       [0.392134  , 0.607866  ],\n",
       "       [0.53459029, 0.46540971],\n",
       "       ...,\n",
       "       [0.49560743, 0.50439257],\n",
       "       [0.4237113 , 0.5762887 ],\n",
       "       [0.46717399, 0.53282601]])"
      ]
     },
     "execution_count": 42,
     "metadata": {},
     "output_type": "execute_result"
    }
   ],
   "source": [
    "y_hat_test_proba_lgd_stage_1\n",
    "# This is an array of arrays of predicted class probabilities for all classes.\n",
    "# In this case, the first value of every sub-array is the probability for the observation to belong to the first class, i.e. 0,\n",
    "# and the second value is the probability for the observation to belong to the first class, i.e. 1."
   ]
  },
  {
   "cell_type": "code",
   "execution_count": 43,
   "metadata": {},
   "outputs": [],
   "source": [
    "y_hat_test_proba_lgd_stage_1 = y_hat_test_proba_lgd_stage_1[: ][: , 1]\n",
    "# Here we take all the arrays in the array, and from each array, we take all rows, and only the element with index 1,\n",
    "# that is, the second element.\n",
    "# In other words, we take only the probabilities for being 1."
   ]
  },
  {
   "cell_type": "code",
   "execution_count": 44,
   "metadata": {},
   "outputs": [
    {
     "data": {
      "text/plain": [
       "array([0.59634294, 0.607866  , 0.46540971, ..., 0.50439257, 0.5762887 ,\n",
       "       0.53282601])"
      ]
     },
     "execution_count": 44,
     "metadata": {},
     "output_type": "execute_result"
    }
   ],
   "source": [
    "y_hat_test_proba_lgd_stage_1"
   ]
  },
  {
   "cell_type": "code",
   "execution_count": 45,
   "metadata": {},
   "outputs": [],
   "source": [
    "lgd_targets_stage_1_test_temp = lgd_targets_stage_1_test"
   ]
  },
  {
   "cell_type": "code",
   "execution_count": 46,
   "metadata": {},
   "outputs": [],
   "source": [
    "lgd_targets_stage_1_test_temp.reset_index(drop = True, inplace = True)\n",
    "# We reset the index of a dataframe."
   ]
  },
  {
   "cell_type": "code",
   "execution_count": 47,
   "metadata": {},
   "outputs": [],
   "source": [
    "df_actual_predicted_probs = pd.concat([lgd_targets_stage_1_test_temp, pd.DataFrame(y_hat_test_proba_lgd_stage_1)], axis = 1)\n",
    "# Concatenates two dataframes."
   ]
  },
  {
   "cell_type": "code",
   "execution_count": 48,
   "metadata": {},
   "outputs": [],
   "source": [
    "df_actual_predicted_probs.columns = ['lgd_targets_stage_1_test', 'y_hat_test_proba_lgd_stage_1']"
   ]
  },
  {
   "cell_type": "code",
   "execution_count": 49,
   "metadata": {},
   "outputs": [],
   "source": [
    "df_actual_predicted_probs.index = lgd_inputs_stage_1_test.index\n",
    "# Makes the index of one dataframe equal to the index of another dataframe."
   ]
  },
  {
   "cell_type": "code",
   "execution_count": 50,
   "metadata": {},
   "outputs": [
    {
     "data": {
      "text/html": [
       "<div>\n",
       "<style scoped>\n",
       "    .dataframe tbody tr th:only-of-type {\n",
       "        vertical-align: middle;\n",
       "    }\n",
       "\n",
       "    .dataframe tbody tr th {\n",
       "        vertical-align: top;\n",
       "    }\n",
       "\n",
       "    .dataframe thead th {\n",
       "        text-align: right;\n",
       "    }\n",
       "</style>\n",
       "<table border=\"1\" class=\"dataframe\">\n",
       "  <thead>\n",
       "    <tr style=\"text-align: right;\">\n",
       "      <th></th>\n",
       "      <th>lgd_targets_stage_1_test</th>\n",
       "      <th>y_hat_test_proba_lgd_stage_1</th>\n",
       "    </tr>\n",
       "  </thead>\n",
       "  <tbody>\n",
       "    <tr>\n",
       "      <th>21362</th>\n",
       "      <td>1</td>\n",
       "      <td>0.59634294</td>\n",
       "    </tr>\n",
       "    <tr>\n",
       "      <th>8768</th>\n",
       "      <td>1</td>\n",
       "      <td>0.60786600</td>\n",
       "    </tr>\n",
       "    <tr>\n",
       "      <th>11903</th>\n",
       "      <td>0</td>\n",
       "      <td>0.46540971</td>\n",
       "    </tr>\n",
       "    <tr>\n",
       "      <th>42973</th>\n",
       "      <td>1</td>\n",
       "      <td>0.55391562</td>\n",
       "    </tr>\n",
       "    <tr>\n",
       "      <th>29933</th>\n",
       "      <td>0</td>\n",
       "      <td>0.40397223</td>\n",
       "    </tr>\n",
       "  </tbody>\n",
       "</table>\n",
       "</div>"
      ],
      "text/plain": [
       "       lgd_targets_stage_1_test  y_hat_test_proba_lgd_stage_1\n",
       "21362                         1                    0.59634294\n",
       "8768                          1                    0.60786600\n",
       "11903                         0                    0.46540971\n",
       "42973                         1                    0.55391562\n",
       "29933                         0                    0.40397223"
      ]
     },
     "execution_count": 50,
     "metadata": {},
     "output_type": "execute_result"
    }
   ],
   "source": [
    "df_actual_predicted_probs.head()"
   ]
  },
  {
   "cell_type": "markdown",
   "metadata": {},
   "source": [
    "## Estimating the Аccuracy of the Мodel"
   ]
  },
  {
   "cell_type": "code",
   "execution_count": 51,
   "metadata": {},
   "outputs": [],
   "source": [
    "tr = 0.6\n",
    "# We create a new column with an indicator,\n",
    "# where every observation that has predicted probability greater than the threshold has a value of 1,\n",
    "# and every observation that has predicted probability lower than the threshold has a value of 0.\n",
    "df_actual_predicted_probs['y_hat_test_lgd_stage_1'] = np.where(df_actual_predicted_probs['y_hat_test_proba_lgd_stage_1'] > tr, 1, 0)"
   ]
  },
  {
   "cell_type": "code",
   "execution_count": 52,
   "metadata": {},
   "outputs": [
    {
     "data": {
      "text/html": [
       "<div>\n",
       "<style scoped>\n",
       "    .dataframe tbody tr th:only-of-type {\n",
       "        vertical-align: middle;\n",
       "    }\n",
       "\n",
       "    .dataframe tbody tr th {\n",
       "        vertical-align: top;\n",
       "    }\n",
       "\n",
       "    .dataframe thead th {\n",
       "        text-align: right;\n",
       "    }\n",
       "</style>\n",
       "<table border=\"1\" class=\"dataframe\">\n",
       "  <thead>\n",
       "    <tr style=\"text-align: right;\">\n",
       "      <th>Predicted</th>\n",
       "      <th>0</th>\n",
       "      <th>1</th>\n",
       "    </tr>\n",
       "    <tr>\n",
       "      <th>Actual</th>\n",
       "      <th></th>\n",
       "      <th></th>\n",
       "    </tr>\n",
       "  </thead>\n",
       "  <tbody>\n",
       "    <tr>\n",
       "      <th>0</th>\n",
       "      <td>2849</td>\n",
       "      <td>913</td>\n",
       "    </tr>\n",
       "    <tr>\n",
       "      <th>1</th>\n",
       "      <td>2590</td>\n",
       "      <td>2296</td>\n",
       "    </tr>\n",
       "  </tbody>\n",
       "</table>\n",
       "</div>"
      ],
      "text/plain": [
       "Predicted     0     1\n",
       "Actual               \n",
       "0          2849   913\n",
       "1          2590  2296"
      ]
     },
     "execution_count": 52,
     "metadata": {},
     "output_type": "execute_result"
    }
   ],
   "source": [
    "pd.crosstab(df_actual_predicted_probs['lgd_targets_stage_1_test'], df_actual_predicted_probs['y_hat_test_lgd_stage_1'], rownames = ['Actual'], colnames = ['Predicted'])\n",
    "# Creates a cross-table where the actual values are displayed by rows and the predicted values by columns.\n",
    "# This table is known as a Confusion Matrix."
   ]
  },
  {
   "cell_type": "code",
   "execution_count": 53,
   "metadata": {},
   "outputs": [
    {
     "data": {
      "text/html": [
       "<div>\n",
       "<style scoped>\n",
       "    .dataframe tbody tr th:only-of-type {\n",
       "        vertical-align: middle;\n",
       "    }\n",
       "\n",
       "    .dataframe tbody tr th {\n",
       "        vertical-align: top;\n",
       "    }\n",
       "\n",
       "    .dataframe thead th {\n",
       "        text-align: right;\n",
       "    }\n",
       "</style>\n",
       "<table border=\"1\" class=\"dataframe\">\n",
       "  <thead>\n",
       "    <tr style=\"text-align: right;\">\n",
       "      <th>Predicted</th>\n",
       "      <th>0</th>\n",
       "      <th>1</th>\n",
       "    </tr>\n",
       "    <tr>\n",
       "      <th>Actual</th>\n",
       "      <th></th>\n",
       "      <th></th>\n",
       "    </tr>\n",
       "  </thead>\n",
       "  <tbody>\n",
       "    <tr>\n",
       "      <th>0</th>\n",
       "      <td>0.32944033</td>\n",
       "      <td>0.10557354</td>\n",
       "    </tr>\n",
       "    <tr>\n",
       "      <th>1</th>\n",
       "      <td>0.29949121</td>\n",
       "      <td>0.26549491</td>\n",
       "    </tr>\n",
       "  </tbody>\n",
       "</table>\n",
       "</div>"
      ],
      "text/plain": [
       "Predicted          0          1\n",
       "Actual                         \n",
       "0         0.32944033 0.10557354\n",
       "1         0.29949121 0.26549491"
      ]
     },
     "execution_count": 53,
     "metadata": {},
     "output_type": "execute_result"
    }
   ],
   "source": [
    "pd.crosstab(df_actual_predicted_probs['lgd_targets_stage_1_test'], df_actual_predicted_probs['y_hat_test_lgd_stage_1'], rownames = ['Actual'], colnames = ['Predicted']) / df_actual_predicted_probs.shape[0]\n",
    "# Here we divide each value of the table by the total number of observations,\n",
    "# thus getting percentages, or, rates."
   ]
  },
  {
   "cell_type": "code",
   "execution_count": 54,
   "metadata": {},
   "outputs": [
    {
     "data": {
      "text/plain": [
       "0.5949352451433858"
      ]
     },
     "execution_count": 54,
     "metadata": {},
     "output_type": "execute_result"
    }
   ],
   "source": [
    "(pd.crosstab(df_actual_predicted_probs['lgd_targets_stage_1_test'], df_actual_predicted_probs['y_hat_test_lgd_stage_1'], rownames = ['Actual'], colnames = ['Predicted']) / df_actual_predicted_probs.shape[0]).iloc[0, 0] + (pd.crosstab(df_actual_predicted_probs['lgd_targets_stage_1_test'], df_actual_predicted_probs['y_hat_test_lgd_stage_1'], rownames = ['Actual'], colnames = ['Predicted']) / df_actual_predicted_probs.shape[0]).iloc[1, 1] # Here we calculate Accuracy of the model, which is the sum of the diagonal rates."
   ]
  },
  {
   "cell_type": "code",
   "execution_count": 55,
   "metadata": {},
   "outputs": [],
   "source": [
    "from sklearn.metrics import roc_curve, roc_auc_score"
   ]
  },
  {
   "cell_type": "code",
   "execution_count": 56,
   "metadata": {},
   "outputs": [],
   "source": [
    "false_positive_rate, true_positive_rate, thresholds = roc_curve(df_actual_predicted_probs['lgd_targets_stage_1_test'], df_actual_predicted_probs['y_hat_test_proba_lgd_stage_1'])"
   ]
  },
  {
   "cell_type": "code",
   "execution_count": 57,
   "metadata": {},
   "outputs": [
    {
     "data": {
      "text/plain": [
       "Text(0.5, 1.0, 'ROC curve')"
      ]
     },
     "execution_count": 57,
     "metadata": {},
     "output_type": "execute_result"
    },
    {
     "data": {
      "image/png": "[encoded data removed]",
      "text/plain": [
       "<Figure size 432x288 with 1 Axes>"
      ]
     },
     "metadata": {},
     "output_type": "display_data"
    }
   ],
   "source": [
    "plt.plot(false_positive_rate, true_positive_rate)\n",
    "plt.plot(false_positive_rate, false_positive_rate, linestyle = '--', color = 'k')\n",
    "# We plot a seconary diagonal line, with dashed line style and black color.\n",
    "plt.xlabel('False positive rate')\n",
    "# We name the x-axis \"False positive rate\".\n",
    "plt.ylabel('True positive rate')\n",
    "# We name the x-axis \"True positive rate\".\n",
    "plt.title('ROC curve')\n",
    "# We name the graph \"ROC curve\"."
   ]
  },
  {
   "cell_type": "code",
   "execution_count": 58,
   "metadata": {},
   "outputs": [
    {
     "data": {
      "text/plain": [
       "0.6481683500232739"
      ]
     },
     "execution_count": 58,
     "metadata": {},
     "output_type": "execute_result"
    }
   ],
   "source": [
    "AUROC = roc_auc_score(df_actual_predicted_probs['lgd_targets_stage_1_test'], df_actual_predicted_probs['y_hat_test_proba_lgd_stage_1'])\n",
    "# Calculates the Area Under the Receiver Operating Characteristic Curve (AUROC)\n",
    "# from a set of actual values and their predicted probabilities.\n",
    "AUROC"
   ]
  },
  {
   "cell_type": "code",
   "execution_count": 59,
   "metadata": {},
   "outputs": [],
   "source": [
    "# let's save the model\n",
    "import pickle \n",
    "pickle.dump(reg_lgd_st_1, open('data/lgd_model_stage_1.sav', 'wb')) # to read the model it you should use 'rb'"
   ]
  },
  {
   "cell_type": "markdown",
   "metadata": {},
   "source": [
    "### Stage 2 – Linear Regression"
   ]
  },
  {
   "cell_type": "code",
   "execution_count": 60,
   "metadata": {},
   "outputs": [],
   "source": [
    "lgd_stage_2_data = loan_data_defaults[loan_data_defaults['recovery_rate_0_1'] == 1]\n",
    "# Here we take only rows where the original recovery rate variable is greater than one,\n",
    "# i.e. where the indicator variable we created is equal to 1"
   ]
  },
  {
   "cell_type": "code",
   "execution_count": 61,
   "metadata": {},
   "outputs": [],
   "source": [
    "# LGD model stage 2 datasets: how much more than 0 is the recovery rate\n",
    "lgd_inputs_stage_2_train, lgd_inputs_stage_2_test, lgd_targets_stage_2_train, lgd_targets_stage_2_test = train_test_split(lgd_stage_2_data.drop(['recovery_rate','recovery_rate_0_1', 'CCF'], axis = 1), lgd_stage_2_data['recovery_rate'], test_size = 0.2, random_state = 42)\n",
    "# Takes a set of inputs and a set of targets as arguments. Splits the inputs and the targets into four dataframes:\n",
    "# Inputs - Train, Inputs - Test, Targets - Train, Targets - Test."
   ]
  },
  {
   "cell_type": "code",
   "execution_count": 62,
   "metadata": {},
   "outputs": [],
   "source": [
    "# Since the p-values are obtained through certain statistics, we need the 'stat' module from scipy.stats\n",
    "import scipy.stats as stat\n",
    "\n",
    "# Since we are using an object oriented language such as Python, we can simply define our own \n",
    "# LinearRegression class (the same one from sklearn)\n",
    "# By typing the code below we will ovewrite a part of the class with one that includes p-values\n",
    "# Here's the full source code of the ORIGINAL class: https://github.com/scikit-learn/scikit-learn/blob/7b136e9/sklearn/linear_model/base.py#L362\n",
    "\n",
    "\n",
    "class LinearRegression(linear_model.LinearRegression):\n",
    "    \"\"\"\n",
    "    LinearRegression class after sklearn's, but calculate t-statistics\n",
    "    and p-values for model coefficients (betas).\n",
    "    Additional attributes available after .fit()\n",
    "    are `t` and `p` which are of the shape (y.shape[1], X.shape[1])\n",
    "    which is (n_features, n_coefs)\n",
    "    This class sets the intercept to 0 by default, since usually we include it\n",
    "    in X.\n",
    "    \"\"\"\n",
    "    \n",
    "    # nothing changes in __init__\n",
    "    def __init__(self, fit_intercept=True, normalize=False, copy_X=True,\n",
    "                 n_jobs=1):\n",
    "        self.fit_intercept = fit_intercept\n",
    "        self.normalize = normalize\n",
    "        self.copy_X = copy_X\n",
    "        self.n_jobs = n_jobs\n",
    "\n",
    "    \n",
    "    def fit(self, X, y, n_jobs=1):\n",
    "        self = super(LinearRegression, self).fit(X, y, n_jobs)\n",
    "        \n",
    "        # Calculate SSE (sum of squared errors)\n",
    "        # and SE (standard error)\n",
    "        sse = np.sum((self.predict(X) - y) ** 2, axis=0) / float(X.shape[0] - X.shape[1])\n",
    "        se = np.array([np.sqrt(np.diagonal(sse * np.linalg.inv(np.dot(X.T, X))))])\n",
    "\n",
    "        # compute the t-statistic for each feature\n",
    "        self.t = self.coef_ / se\n",
    "        # find the p-value for each feature\n",
    "        self.p = np.squeeze(2 * (1 - stat.t.cdf(np.abs(self.t), y.shape[0] - X.shape[1])))\n",
    "        return self"
   ]
  },
  {
   "cell_type": "code",
   "execution_count": 63,
   "metadata": {},
   "outputs": [],
   "source": [
    "import scipy.stats as stat\n",
    "\n",
    "class LinearRegression(linear_model.LinearRegression):\n",
    "    def __init__(self, fit_intercept=True, normalize=False, copy_X=True,\n",
    "                 n_jobs=1):\n",
    "        self.fit_intercept = fit_intercept\n",
    "        self.normalize = normalize\n",
    "        self.copy_X = copy_X\n",
    "        self.n_jobs = n_jobs\n",
    "    def fit(self, X, y, n_jobs=1):\n",
    "        self = super(LinearRegression, self).fit(X, y, n_jobs)\n",
    "        sse = np.sum((self.predict(X) - y) ** 2, axis=0) / float(X.shape[0] - X.shape[1])\n",
    "        se = np.array([np.sqrt(np.diagonal(sse * np.linalg.inv(np.dot(X.T, X))))])\n",
    "        self.t = self.coef_ / se\n",
    "        self.p = np.squeeze(2 * (1 - stat.t.cdf(np.abs(self.t), y.shape[0] - X.shape[1])))\n",
    "        return self"
   ]
  },
  {
   "cell_type": "code",
   "execution_count": 64,
   "metadata": {},
   "outputs": [],
   "source": [
    "lgd_inputs_stage_2_train = lgd_inputs_stage_2_train[features_all]\n",
    "# Here we keep only the variables we need for the model."
   ]
  },
  {
   "cell_type": "code",
   "execution_count": 65,
   "metadata": {},
   "outputs": [],
   "source": [
    "lgd_inputs_stage_2_train = lgd_inputs_stage_2_train.drop(features_reference_cat, axis = 1)\n",
    "# Here we remove the dummy variable reference categories."
   ]
  },
  {
   "cell_type": "code",
   "execution_count": 66,
   "metadata": {},
   "outputs": [
    {
     "data": {
      "text/plain": [
       "LinearRegression()"
      ]
     },
     "execution_count": 66,
     "metadata": {},
     "output_type": "execute_result"
    }
   ],
   "source": [
    "reg_lgd_st_2 = LinearRegression()\n",
    "# We create an instance of an object from the 'LogisticRegression' class.\n",
    "reg_lgd_st_2.fit(lgd_inputs_stage_2_train, lgd_targets_stage_2_train)\n",
    "# Estimates the coefficients of the object from the 'LogisticRegression' class\n",
    "# with inputs (independent variables) contained in the first dataframe\n",
    "# and targets (dependent variables) contained in the second dataframe."
   ]
  },
  {
   "cell_type": "code",
   "execution_count": 67,
   "metadata": {},
   "outputs": [],
   "source": [
    "feature_name = lgd_inputs_stage_2_train.columns.values\n",
    "# Stores the names of the columns of a dataframe in a variable."
   ]
  },
  {
   "cell_type": "code",
   "execution_count": 68,
   "metadata": {},
   "outputs": [
    {
     "data": {
      "text/html": [
       "<div>\n",
       "<style scoped>\n",
       "    .dataframe tbody tr th:only-of-type {\n",
       "        vertical-align: middle;\n",
       "    }\n",
       "\n",
       "    .dataframe tbody tr th {\n",
       "        vertical-align: top;\n",
       "    }\n",
       "\n",
       "    .dataframe thead th {\n",
       "        text-align: right;\n",
       "    }\n",
       "</style>\n",
       "<table border=\"1\" class=\"dataframe\">\n",
       "  <thead>\n",
       "    <tr style=\"text-align: right;\">\n",
       "      <th></th>\n",
       "      <th>Feature name</th>\n",
       "      <th>Coefficients</th>\n",
       "      <th>p_values</th>\n",
       "    </tr>\n",
       "  </thead>\n",
       "  <tbody>\n",
       "    <tr>\n",
       "      <th>0</th>\n",
       "      <td>Intercept</td>\n",
       "      <td>0.24068577</td>\n",
       "      <td>nan</td>\n",
       "    </tr>\n",
       "    <tr>\n",
       "      <th>1</th>\n",
       "      <td>grade A</td>\n",
       "      <td>-0.06826892</td>\n",
       "      <td>0.00000000</td>\n",
       "    </tr>\n",
       "    <tr>\n",
       "      <th>2</th>\n",
       "      <td>grade B</td>\n",
       "      <td>-0.05083556</td>\n",
       "      <td>0.00000000</td>\n",
       "    </tr>\n",
       "    <tr>\n",
       "      <th>3</th>\n",
       "      <td>grade C</td>\n",
       "      <td>-0.03748066</td>\n",
       "      <td>0.00000000</td>\n",
       "    </tr>\n",
       "    <tr>\n",
       "      <th>4</th>\n",
       "      <td>grade D</td>\n",
       "      <td>-0.02717310</td>\n",
       "      <td>0.00000000</td>\n",
       "    </tr>\n",
       "    <tr>\n",
       "      <th>5</th>\n",
       "      <td>grade E</td>\n",
       "      <td>-0.01315941</td>\n",
       "      <td>0.00200000</td>\n",
       "    </tr>\n",
       "    <tr>\n",
       "      <th>6</th>\n",
       "      <td>grade F</td>\n",
       "      <td>-0.00526017</td>\n",
       "      <td>0.27500000</td>\n",
       "    </tr>\n",
       "    <tr>\n",
       "      <th>7</th>\n",
       "      <td>home_ownership MORTGAGE</td>\n",
       "      <td>0.00283221</td>\n",
       "      <td>0.06100000</td>\n",
       "    </tr>\n",
       "    <tr>\n",
       "      <th>8</th>\n",
       "      <td>home_ownership NONE</td>\n",
       "      <td>0.14590350</td>\n",
       "      <td>0.00000000</td>\n",
       "    </tr>\n",
       "    <tr>\n",
       "      <th>9</th>\n",
       "      <td>home_ownership OTHER</td>\n",
       "      <td>-0.00947592</td>\n",
       "      <td>0.64400000</td>\n",
       "    </tr>\n",
       "    <tr>\n",
       "      <th>10</th>\n",
       "      <td>home_ownership OWN</td>\n",
       "      <td>0.00500068</td>\n",
       "      <td>0.04000000</td>\n",
       "    </tr>\n",
       "    <tr>\n",
       "      <th>11</th>\n",
       "      <td>verification_status Not Verified</td>\n",
       "      <td>0.00105659</td>\n",
       "      <td>0.55300000</td>\n",
       "    </tr>\n",
       "    <tr>\n",
       "      <th>12</th>\n",
       "      <td>verification_status Source Verified</td>\n",
       "      <td>-0.00100992</td>\n",
       "      <td>0.53500000</td>\n",
       "    </tr>\n",
       "    <tr>\n",
       "      <th>13</th>\n",
       "      <td>purpose car</td>\n",
       "      <td>-0.00299596</td>\n",
       "      <td>0.63400000</td>\n",
       "    </tr>\n",
       "    <tr>\n",
       "      <th>14</th>\n",
       "      <td>purpose debt_consolidation</td>\n",
       "      <td>0.00008206</td>\n",
       "      <td>0.96500000</td>\n",
       "    </tr>\n",
       "    <tr>\n",
       "      <th>15</th>\n",
       "      <td>purpose educational</td>\n",
       "      <td>0.07625467</td>\n",
       "      <td>0.00000000</td>\n",
       "    </tr>\n",
       "    <tr>\n",
       "      <th>16</th>\n",
       "      <td>purpose home_improvement</td>\n",
       "      <td>-0.00370237</td>\n",
       "      <td>0.27300000</td>\n",
       "    </tr>\n",
       "    <tr>\n",
       "      <th>17</th>\n",
       "      <td>purpose house</td>\n",
       "      <td>-0.00378680</td>\n",
       "      <td>0.62000000</td>\n",
       "    </tr>\n",
       "    <tr>\n",
       "      <th>18</th>\n",
       "      <td>purpose major_purchase</td>\n",
       "      <td>0.00291444</td>\n",
       "      <td>0.53800000</td>\n",
       "    </tr>\n",
       "    <tr>\n",
       "      <th>19</th>\n",
       "      <td>purpose medical</td>\n",
       "      <td>0.01078825</td>\n",
       "      <td>0.07400000</td>\n",
       "    </tr>\n",
       "    <tr>\n",
       "      <th>20</th>\n",
       "      <td>purpose moving</td>\n",
       "      <td>0.01398692</td>\n",
       "      <td>0.03900000</td>\n",
       "    </tr>\n",
       "    <tr>\n",
       "      <th>21</th>\n",
       "      <td>purpose other</td>\n",
       "      <td>0.00484135</td>\n",
       "      <td>0.10900000</td>\n",
       "    </tr>\n",
       "    <tr>\n",
       "      <th>22</th>\n",
       "      <td>purpose renewable_energy</td>\n",
       "      <td>0.02420645</td>\n",
       "      <td>0.14200000</td>\n",
       "    </tr>\n",
       "    <tr>\n",
       "      <th>23</th>\n",
       "      <td>purpose small_business</td>\n",
       "      <td>0.00062123</td>\n",
       "      <td>0.86900000</td>\n",
       "    </tr>\n",
       "    <tr>\n",
       "      <th>24</th>\n",
       "      <td>purpose vacation</td>\n",
       "      <td>-0.00300240</td>\n",
       "      <td>0.73100000</td>\n",
       "    </tr>\n",
       "    <tr>\n",
       "      <th>25</th>\n",
       "      <td>purpose wedding</td>\n",
       "      <td>0.02034853</td>\n",
       "      <td>0.00600000</td>\n",
       "    </tr>\n",
       "    <tr>\n",
       "      <th>26</th>\n",
       "      <td>initial_list_status w</td>\n",
       "      <td>0.01464671</td>\n",
       "      <td>0.00000000</td>\n",
       "    </tr>\n",
       "    <tr>\n",
       "      <th>27</th>\n",
       "      <td>term_int</td>\n",
       "      <td>0.00033162</td>\n",
       "      <td>0.02000000</td>\n",
       "    </tr>\n",
       "    <tr>\n",
       "      <th>28</th>\n",
       "      <td>emp_length_int</td>\n",
       "      <td>0.00008727</td>\n",
       "      <td>0.63500000</td>\n",
       "    </tr>\n",
       "    <tr>\n",
       "      <th>29</th>\n",
       "      <td>months_issue_d</td>\n",
       "      <td>-0.00152165</td>\n",
       "      <td>0.00000000</td>\n",
       "    </tr>\n",
       "    <tr>\n",
       "      <th>30</th>\n",
       "      <td>mths_since_earliest_cr_line</td>\n",
       "      <td>0.00003419</td>\n",
       "      <td>0.00000000</td>\n",
       "    </tr>\n",
       "    <tr>\n",
       "      <th>31</th>\n",
       "      <td>funded_amnt</td>\n",
       "      <td>-0.00000022</td>\n",
       "      <td>0.69900000</td>\n",
       "    </tr>\n",
       "    <tr>\n",
       "      <th>32</th>\n",
       "      <td>int_rate</td>\n",
       "      <td>-0.00254471</td>\n",
       "      <td>0.00000000</td>\n",
       "    </tr>\n",
       "    <tr>\n",
       "      <th>33</th>\n",
       "      <td>installment</td>\n",
       "      <td>-0.00001038</td>\n",
       "      <td>0.55700000</td>\n",
       "    </tr>\n",
       "    <tr>\n",
       "      <th>34</th>\n",
       "      <td>annual_inc</td>\n",
       "      <td>0.00000006</td>\n",
       "      <td>0.00100000</td>\n",
       "    </tr>\n",
       "    <tr>\n",
       "      <th>35</th>\n",
       "      <td>dti</td>\n",
       "      <td>0.00017757</td>\n",
       "      <td>0.06900000</td>\n",
       "    </tr>\n",
       "    <tr>\n",
       "      <th>36</th>\n",
       "      <td>delinq_2yrs</td>\n",
       "      <td>0.00175794</td>\n",
       "      <td>0.05000000</td>\n",
       "    </tr>\n",
       "    <tr>\n",
       "      <th>37</th>\n",
       "      <td>inq_last_6mths</td>\n",
       "      <td>0.00127409</td>\n",
       "      <td>0.01800000</td>\n",
       "    </tr>\n",
       "    <tr>\n",
       "      <th>38</th>\n",
       "      <td>mths_since_last_delinq</td>\n",
       "      <td>-0.00000109</td>\n",
       "      <td>0.97100000</td>\n",
       "    </tr>\n",
       "    <tr>\n",
       "      <th>39</th>\n",
       "      <td>mths_since_last_record</td>\n",
       "      <td>-0.00005558</td>\n",
       "      <td>0.18100000</td>\n",
       "    </tr>\n",
       "    <tr>\n",
       "      <th>40</th>\n",
       "      <td>open_acc</td>\n",
       "      <td>-0.00119651</td>\n",
       "      <td>0.00000000</td>\n",
       "    </tr>\n",
       "    <tr>\n",
       "      <th>41</th>\n",
       "      <td>pub_rec</td>\n",
       "      <td>0.00344732</td>\n",
       "      <td>0.20800000</td>\n",
       "    </tr>\n",
       "    <tr>\n",
       "      <th>42</th>\n",
       "      <td>total_acc</td>\n",
       "      <td>0.00047666</td>\n",
       "      <td>0.00000000</td>\n",
       "    </tr>\n",
       "    <tr>\n",
       "      <th>43</th>\n",
       "      <td>acc_now_delinq</td>\n",
       "      <td>0.00427839</td>\n",
       "      <td>0.65800000</td>\n",
       "    </tr>\n",
       "    <tr>\n",
       "      <th>44</th>\n",
       "      <td>total_rev_hi_lim</td>\n",
       "      <td>0.00000023</td>\n",
       "      <td>0.00000000</td>\n",
       "    </tr>\n",
       "  </tbody>\n",
       "</table>\n",
       "</div>"
      ],
      "text/plain": [
       "                           Feature name  Coefficients   p_values\n",
       "0                             Intercept    0.24068577        nan\n",
       "1                               grade A   -0.06826892 0.00000000\n",
       "2                               grade B   -0.05083556 0.00000000\n",
       "3                               grade C   -0.03748066 0.00000000\n",
       "4                               grade D   -0.02717310 0.00000000\n",
       "5                               grade E   -0.01315941 0.00200000\n",
       "6                               grade F   -0.00526017 0.27500000\n",
       "7               home_ownership MORTGAGE    0.00283221 0.06100000\n",
       "8                   home_ownership NONE    0.14590350 0.00000000\n",
       "9                  home_ownership OTHER   -0.00947592 0.64400000\n",
       "10                   home_ownership OWN    0.00500068 0.04000000\n",
       "11     verification_status Not Verified    0.00105659 0.55300000\n",
       "12  verification_status Source Verified   -0.00100992 0.53500000\n",
       "13                          purpose car   -0.00299596 0.63400000\n",
       "14           purpose debt_consolidation    0.00008206 0.96500000\n",
       "15                  purpose educational    0.07625467 0.00000000\n",
       "16             purpose home_improvement   -0.00370237 0.27300000\n",
       "17                        purpose house   -0.00378680 0.62000000\n",
       "18               purpose major_purchase    0.00291444 0.53800000\n",
       "19                      purpose medical    0.01078825 0.07400000\n",
       "20                       purpose moving    0.01398692 0.03900000\n",
       "21                        purpose other    0.00484135 0.10900000\n",
       "22             purpose renewable_energy    0.02420645 0.14200000\n",
       "23               purpose small_business    0.00062123 0.86900000\n",
       "24                     purpose vacation   -0.00300240 0.73100000\n",
       "25                      purpose wedding    0.02034853 0.00600000\n",
       "26                initial_list_status w    0.01464671 0.00000000\n",
       "27                             term_int    0.00033162 0.02000000\n",
       "28                       emp_length_int    0.00008727 0.63500000\n",
       "29                       months_issue_d   -0.00152165 0.00000000\n",
       "30          mths_since_earliest_cr_line    0.00003419 0.00000000\n",
       "31                          funded_amnt   -0.00000022 0.69900000\n",
       "32                             int_rate   -0.00254471 0.00000000\n",
       "33                          installment   -0.00001038 0.55700000\n",
       "34                           annual_inc    0.00000006 0.00100000\n",
       "35                                  dti    0.00017757 0.06900000\n",
       "36                          delinq_2yrs    0.00175794 0.05000000\n",
       "37                       inq_last_6mths    0.00127409 0.01800000\n",
       "38               mths_since_last_delinq   -0.00000109 0.97100000\n",
       "39               mths_since_last_record   -0.00005558 0.18100000\n",
       "40                             open_acc   -0.00119651 0.00000000\n",
       "41                              pub_rec    0.00344732 0.20800000\n",
       "42                            total_acc    0.00047666 0.00000000\n",
       "43                       acc_now_delinq    0.00427839 0.65800000\n",
       "44                     total_rev_hi_lim    0.00000023 0.00000000"
      ]
     },
     "execution_count": 68,
     "metadata": {},
     "output_type": "execute_result"
    }
   ],
   "source": [
    "summary_table = pd.DataFrame(columns = ['Feature name'], data = feature_name)\n",
    "# Creates a dataframe with a column titled 'Feature name' and row values contained in the 'feature_name' variable.\n",
    "summary_table['Coefficients'] = np.transpose(reg_lgd_st_2.coef_)\n",
    "# Creates a new column in the dataframe, called 'Coefficients',\n",
    "# with row values the transposed coefficients from the 'LogisticRegression' object.\n",
    "summary_table.index = summary_table.index + 1\n",
    "# Increases the index of every row of the dataframe with 1.\n",
    "summary_table.loc[0] = ['Intercept', reg_lgd_st_2.intercept_]\n",
    "# Assigns values of the row with index 0 of the dataframe.\n",
    "summary_table = summary_table.sort_index()\n",
    "# Sorts the dataframe by index.\n",
    "p_values = reg_lgd_st_2.p\n",
    "# We take the result of the newly added method 'p_values' and store it in a variable 'p_values'.\n",
    "p_values = np.append(np.nan,np.array(p_values))\n",
    "# We add the value 'NaN' in the beginning of the variable with p-values.\n",
    "summary_table['p_values'] = p_values.round(3)\n",
    "# In the 'summary_table' dataframe, we add a new column, called 'p_values', containing the values from the 'p_values' variable.\n",
    "pd.set_option('display.float_format', lambda x: '%.8f' % x)\n",
    "summary_table"
   ]
  },
  {
   "cell_type": "markdown",
   "metadata": {},
   "source": [
    "### Stage 2 – Linear Regression Evaluation"
   ]
  },
  {
   "cell_type": "code",
   "execution_count": 69,
   "metadata": {},
   "outputs": [],
   "source": [
    "lgd_inputs_stage_2_test = lgd_inputs_stage_2_test[features_all]\n",
    "# Here we keep only the variables we need for the model"
   ]
  },
  {
   "cell_type": "code",
   "execution_count": 70,
   "metadata": {},
   "outputs": [],
   "source": [
    "lgd_inputs_stage_2_test = lgd_inputs_stage_2_test.drop(features_reference_cat, axis = 1)\n",
    "# Here we remove the dummy variable reference categories."
   ]
  },
  {
   "cell_type": "code",
   "execution_count": 71,
   "metadata": {},
   "outputs": [
    {
     "data": {
      "text/plain": [
       "array(['grade A', 'grade B', 'grade C', 'grade D', 'grade E', 'grade F',\n",
       "       'home_ownership MORTGAGE', 'home_ownership NONE',\n",
       "       'home_ownership OTHER', 'home_ownership OWN',\n",
       "       'verification_status Not Verified',\n",
       "       'verification_status Source Verified', 'purpose car',\n",
       "       'purpose debt_consolidation', 'purpose educational',\n",
       "       'purpose home_improvement', 'purpose house',\n",
       "       'purpose major_purchase', 'purpose medical', 'purpose moving',\n",
       "       'purpose other', 'purpose renewable_energy',\n",
       "       'purpose small_business', 'purpose vacation', 'purpose wedding',\n",
       "       'initial_list_status w', 'term_int', 'emp_length_int',\n",
       "       'months_issue_d', 'mths_since_earliest_cr_line', 'funded_amnt',\n",
       "       'int_rate', 'installment', 'annual_inc', 'dti', 'delinq_2yrs',\n",
       "       'inq_last_6mths', 'mths_since_last_delinq',\n",
       "       'mths_since_last_record', 'open_acc', 'pub_rec', 'total_acc',\n",
       "       'acc_now_delinq', 'total_rev_hi_lim'], dtype=object)"
      ]
     },
     "execution_count": 71,
     "metadata": {},
     "output_type": "execute_result"
    }
   ],
   "source": [
    "lgd_inputs_stage_2_test.columns.values\n",
    "# Calculates the predicted values for the dependent variable (targets)\n",
    "# based on the values of the independent variables (inputs) supplied as an argument."
   ]
  },
  {
   "cell_type": "code",
   "execution_count": 72,
   "metadata": {},
   "outputs": [],
   "source": [
    "y_hat_test_lgd_stage_2 = reg_lgd_st_2.predict(lgd_inputs_stage_2_test)\n",
    "# Calculates the predicted values for the dependent variable (targets)\n",
    "# based on the values of the independent variables (inputs) supplied as an argument."
   ]
  },
  {
   "cell_type": "code",
   "execution_count": 73,
   "metadata": {},
   "outputs": [],
   "source": [
    "lgd_targets_stage_2_test_temp = lgd_targets_stage_2_test"
   ]
  },
  {
   "cell_type": "code",
   "execution_count": 74,
   "metadata": {},
   "outputs": [],
   "source": [
    "lgd_targets_stage_2_test_temp = lgd_targets_stage_2_test_temp.reset_index(drop = True)\n",
    "# We reset the index of a dataframe."
   ]
  },
  {
   "cell_type": "code",
   "execution_count": 75,
   "metadata": {},
   "outputs": [
    {
     "data": {
      "text/html": [
       "<div>\n",
       "<style scoped>\n",
       "    .dataframe tbody tr th:only-of-type {\n",
       "        vertical-align: middle;\n",
       "    }\n",
       "\n",
       "    .dataframe tbody tr th {\n",
       "        vertical-align: top;\n",
       "    }\n",
       "\n",
       "    .dataframe thead th {\n",
       "        text-align: right;\n",
       "    }\n",
       "</style>\n",
       "<table border=\"1\" class=\"dataframe\">\n",
       "  <thead>\n",
       "    <tr style=\"text-align: right;\">\n",
       "      <th></th>\n",
       "      <th>recovery_rate</th>\n",
       "      <th>0</th>\n",
       "    </tr>\n",
       "  </thead>\n",
       "  <tbody>\n",
       "    <tr>\n",
       "      <th>recovery_rate</th>\n",
       "      <td>1.00000000</td>\n",
       "      <td>0.30799560</td>\n",
       "    </tr>\n",
       "    <tr>\n",
       "      <th>0</th>\n",
       "      <td>0.30799560</td>\n",
       "      <td>1.00000000</td>\n",
       "    </tr>\n",
       "  </tbody>\n",
       "</table>\n",
       "</div>"
      ],
      "text/plain": [
       "               recovery_rate          0\n",
       "recovery_rate     1.00000000 0.30799560\n",
       "0                 0.30799560 1.00000000"
      ]
     },
     "execution_count": 75,
     "metadata": {},
     "output_type": "execute_result"
    }
   ],
   "source": [
    "pd.concat([lgd_targets_stage_2_test_temp, pd.DataFrame(y_hat_test_lgd_stage_2)], axis = 1).corr()\n",
    "# We calculate the correlation between actual and predicted values."
   ]
  },
  {
   "cell_type": "code",
   "execution_count": 76,
   "metadata": {},
   "outputs": [
    {
     "data": {
      "text/plain": [
       "<matplotlib.axes._subplots.AxesSubplot at 0x7fc696373210>"
      ]
     },
     "execution_count": 76,
     "metadata": {},
     "output_type": "execute_result"
    },
    {
     "data": {
      "image/png": "[encoded data removed]",
      "text/plain": [
       "<Figure size 432x288 with 1 Axes>"
      ]
     },
     "metadata": {},
     "output_type": "display_data"
    }
   ],
   "source": [
    "sns.distplot(lgd_targets_stage_2_test - y_hat_test_lgd_stage_2)\n",
    "# We plot the distribution of the residuals."
   ]
  },
  {
   "cell_type": "code",
   "execution_count": 77,
   "metadata": {},
   "outputs": [],
   "source": [
    "pickle.dump(reg_lgd_st_2, open('data/lgd_model_stage_2.sav', 'wb'))\n",
    "# Here we export our model to a 'SAV' file with file name 'lgd_model_stage_1.sav'."
   ]
  },
  {
   "cell_type": "markdown",
   "metadata": {},
   "source": [
    "### Combining Stage 1 and Stage 2"
   ]
  },
  {
   "cell_type": "code",
   "execution_count": 78,
   "metadata": {},
   "outputs": [],
   "source": [
    "y_hat_test_lgd_stage_2_all = reg_lgd_st_2.predict(lgd_inputs_stage_1_test)"
   ]
  },
  {
   "cell_type": "code",
   "execution_count": 79,
   "metadata": {},
   "outputs": [
    {
     "data": {
      "text/plain": [
       "array([0.1193906 , 0.09605635, 0.13367631, ..., 0.12078611, 0.11587422,\n",
       "       0.15667447])"
      ]
     },
     "execution_count": 79,
     "metadata": {},
     "output_type": "execute_result"
    }
   ],
   "source": [
    "y_hat_test_lgd_stage_2_all"
   ]
  },
  {
   "cell_type": "code",
   "execution_count": 80,
   "metadata": {},
   "outputs": [],
   "source": [
    "y_hat_test_lgd = y_hat_test_lgd_stage_1 * y_hat_test_lgd_stage_2_all\n",
    "# Here we combine the predictions of the models from the two stages."
   ]
  },
  {
   "cell_type": "code",
   "execution_count": 81,
   "metadata": {},
   "outputs": [
    {
     "data": {
      "text/html": [
       "<div>\n",
       "<style scoped>\n",
       "    .dataframe tbody tr th:only-of-type {\n",
       "        vertical-align: middle;\n",
       "    }\n",
       "\n",
       "    .dataframe tbody tr th {\n",
       "        vertical-align: top;\n",
       "    }\n",
       "\n",
       "    .dataframe thead th {\n",
       "        text-align: right;\n",
       "    }\n",
       "</style>\n",
       "<table border=\"1\" class=\"dataframe\">\n",
       "  <thead>\n",
       "    <tr style=\"text-align: right;\">\n",
       "      <th></th>\n",
       "      <th>0</th>\n",
       "    </tr>\n",
       "  </thead>\n",
       "  <tbody>\n",
       "    <tr>\n",
       "      <th>count</th>\n",
       "      <td>8648.00000000</td>\n",
       "    </tr>\n",
       "    <tr>\n",
       "      <th>mean</th>\n",
       "      <td>0.08689942</td>\n",
       "    </tr>\n",
       "    <tr>\n",
       "      <th>std</th>\n",
       "      <td>0.04994897</td>\n",
       "    </tr>\n",
       "    <tr>\n",
       "      <th>min</th>\n",
       "      <td>-0.00763403</td>\n",
       "    </tr>\n",
       "    <tr>\n",
       "      <th>25%</th>\n",
       "      <td>0.06383479</td>\n",
       "    </tr>\n",
       "    <tr>\n",
       "      <th>50%</th>\n",
       "      <td>0.10089284</td>\n",
       "    </tr>\n",
       "    <tr>\n",
       "      <th>75%</th>\n",
       "      <td>0.12331986</td>\n",
       "    </tr>\n",
       "    <tr>\n",
       "      <th>max</th>\n",
       "      <td>0.23697260</td>\n",
       "    </tr>\n",
       "  </tbody>\n",
       "</table>\n",
       "</div>"
      ],
      "text/plain": [
       "                  0\n",
       "count 8648.00000000\n",
       "mean     0.08689942\n",
       "std      0.04994897\n",
       "min     -0.00763403\n",
       "25%      0.06383479\n",
       "50%      0.10089284\n",
       "75%      0.12331986\n",
       "max      0.23697260"
      ]
     },
     "execution_count": 81,
     "metadata": {},
     "output_type": "execute_result"
    }
   ],
   "source": [
    "pd.DataFrame(y_hat_test_lgd).describe()\n",
    "# Shows some descriptive statisics for the values of a column."
   ]
  },
  {
   "cell_type": "code",
   "execution_count": 82,
   "metadata": {},
   "outputs": [],
   "source": [
    "y_hat_test_lgd = np.where(y_hat_test_lgd < 0, 0, y_hat_test_lgd)\n",
    "y_hat_test_lgd = np.where(y_hat_test_lgd > 1, 1, y_hat_test_lgd)\n",
    "# We set predicted values that are greater than 1 to 1 and predicted values that are less than 0 to 0."
   ]
  },
  {
   "cell_type": "code",
   "execution_count": 83,
   "metadata": {},
   "outputs": [
    {
     "data": {
      "text/html": [
       "<div>\n",
       "<style scoped>\n",
       "    .dataframe tbody tr th:only-of-type {\n",
       "        vertical-align: middle;\n",
       "    }\n",
       "\n",
       "    .dataframe tbody tr th {\n",
       "        vertical-align: top;\n",
       "    }\n",
       "\n",
       "    .dataframe thead th {\n",
       "        text-align: right;\n",
       "    }\n",
       "</style>\n",
       "<table border=\"1\" class=\"dataframe\">\n",
       "  <thead>\n",
       "    <tr style=\"text-align: right;\">\n",
       "      <th></th>\n",
       "      <th>0</th>\n",
       "    </tr>\n",
       "  </thead>\n",
       "  <tbody>\n",
       "    <tr>\n",
       "      <th>count</th>\n",
       "      <td>8648.00000000</td>\n",
       "    </tr>\n",
       "    <tr>\n",
       "      <th>mean</th>\n",
       "      <td>0.08690135</td>\n",
       "    </tr>\n",
       "    <tr>\n",
       "      <th>std</th>\n",
       "      <td>0.04994547</td>\n",
       "    </tr>\n",
       "    <tr>\n",
       "      <th>min</th>\n",
       "      <td>0.00000000</td>\n",
       "    </tr>\n",
       "    <tr>\n",
       "      <th>25%</th>\n",
       "      <td>0.06383479</td>\n",
       "    </tr>\n",
       "    <tr>\n",
       "      <th>50%</th>\n",
       "      <td>0.10089284</td>\n",
       "    </tr>\n",
       "    <tr>\n",
       "      <th>75%</th>\n",
       "      <td>0.12331986</td>\n",
       "    </tr>\n",
       "    <tr>\n",
       "      <th>max</th>\n",
       "      <td>0.23697260</td>\n",
       "    </tr>\n",
       "  </tbody>\n",
       "</table>\n",
       "</div>"
      ],
      "text/plain": [
       "                  0\n",
       "count 8648.00000000\n",
       "mean     0.08690135\n",
       "std      0.04994547\n",
       "min      0.00000000\n",
       "25%      0.06383479\n",
       "50%      0.10089284\n",
       "75%      0.12331986\n",
       "max      0.23697260"
      ]
     },
     "execution_count": 83,
     "metadata": {},
     "output_type": "execute_result"
    }
   ],
   "source": [
    "pd.DataFrame(y_hat_test_lgd).describe()\n",
    "# Shows some descriptive statisics for the values of a column."
   ]
  },
  {
   "cell_type": "markdown",
   "metadata": {},
   "source": [
    "# EAD model"
   ]
  },
  {
   "cell_type": "markdown",
   "metadata": {},
   "source": [
    "## Estimate the CCF"
   ]
  },
  {
   "cell_type": "code",
   "execution_count": 84,
   "metadata": {},
   "outputs": [],
   "source": [
    "ead_inputs_train, ead_inputs_test, ead_targets_train, ead_targets_test = train_test_split(loan_data_defaults.drop(['recovery_rate','recovery_rate_0_1', 'CCF'], axis = 1), loan_data_defaults['CCF'], test_size = 0.2, random_state = 42)"
   ]
  },
  {
   "cell_type": "code",
   "execution_count": 85,
   "metadata": {},
   "outputs": [],
   "source": [
    "ead_inputs_train = ead_inputs_train[features_all]\n",
    "ead_inputs_train = ead_inputs_train.drop(features_reference_cat, axis = 1)"
   ]
  },
  {
   "cell_type": "code",
   "execution_count": 86,
   "metadata": {},
   "outputs": [
    {
     "data": {
      "text/plain": [
       "LinearRegression()"
      ]
     },
     "execution_count": 86,
     "metadata": {},
     "output_type": "execute_result"
    }
   ],
   "source": [
    "reg_ead = LinearRegression()\n",
    "reg_ead.fit(ead_inputs_train, ead_targets_train)\n",
    "# Estimates the coefficients of the object from the 'LogisticRegression' class\n",
    "# with inputs (independent variables) contained in the first dataframe\n",
    "# and targets (dependent variables) contained in the second dataframe."
   ]
  },
  {
   "cell_type": "code",
   "execution_count": 87,
   "metadata": {},
   "outputs": [],
   "source": [
    "feature_name = ead_inputs_train.columns.values"
   ]
  },
  {
   "cell_type": "code",
   "execution_count": 88,
   "metadata": {},
   "outputs": [
    {
     "data": {
      "text/html": [
       "<div>\n",
       "<style scoped>\n",
       "    .dataframe tbody tr th:only-of-type {\n",
       "        vertical-align: middle;\n",
       "    }\n",
       "\n",
       "    .dataframe tbody tr th {\n",
       "        vertical-align: top;\n",
       "    }\n",
       "\n",
       "    .dataframe thead th {\n",
       "        text-align: right;\n",
       "    }\n",
       "</style>\n",
       "<table border=\"1\" class=\"dataframe\">\n",
       "  <thead>\n",
       "    <tr style=\"text-align: right;\">\n",
       "      <th></th>\n",
       "      <th>Feature name</th>\n",
       "      <th>Coefficients</th>\n",
       "      <th>p_values</th>\n",
       "    </tr>\n",
       "  </thead>\n",
       "  <tbody>\n",
       "    <tr>\n",
       "      <th>0</th>\n",
       "      <td>Intercept</td>\n",
       "      <td>1.10974628</td>\n",
       "      <td>nan</td>\n",
       "    </tr>\n",
       "    <tr>\n",
       "      <th>1</th>\n",
       "      <td>grade A</td>\n",
       "      <td>-0.30300331</td>\n",
       "      <td>0.00000000</td>\n",
       "    </tr>\n",
       "    <tr>\n",
       "      <th>2</th>\n",
       "      <td>grade B</td>\n",
       "      <td>-0.23642766</td>\n",
       "      <td>0.00000000</td>\n",
       "    </tr>\n",
       "    <tr>\n",
       "      <th>3</th>\n",
       "      <td>grade C</td>\n",
       "      <td>-0.17202316</td>\n",
       "      <td>0.00000000</td>\n",
       "    </tr>\n",
       "    <tr>\n",
       "      <th>4</th>\n",
       "      <td>grade D</td>\n",
       "      <td>-0.11984702</td>\n",
       "      <td>0.00000000</td>\n",
       "    </tr>\n",
       "    <tr>\n",
       "      <th>5</th>\n",
       "      <td>grade E</td>\n",
       "      <td>-0.06768713</td>\n",
       "      <td>0.00000000</td>\n",
       "    </tr>\n",
       "    <tr>\n",
       "      <th>6</th>\n",
       "      <td>grade F</td>\n",
       "      <td>-0.02045907</td>\n",
       "      <td>0.00442880</td>\n",
       "    </tr>\n",
       "    <tr>\n",
       "      <th>7</th>\n",
       "      <td>home_ownership MORTGAGE</td>\n",
       "      <td>-0.00634334</td>\n",
       "      <td>0.00263246</td>\n",
       "    </tr>\n",
       "    <tr>\n",
       "      <th>8</th>\n",
       "      <td>home_ownership NONE</td>\n",
       "      <td>-0.00553906</td>\n",
       "      <td>0.93189306</td>\n",
       "    </tr>\n",
       "    <tr>\n",
       "      <th>9</th>\n",
       "      <td>home_ownership OTHER</td>\n",
       "      <td>-0.00242605</td>\n",
       "      <td>0.93358199</td>\n",
       "    </tr>\n",
       "    <tr>\n",
       "      <th>10</th>\n",
       "      <td>home_ownership OWN</td>\n",
       "      <td>-0.00161958</td>\n",
       "      <td>0.63661124</td>\n",
       "    </tr>\n",
       "    <tr>\n",
       "      <th>11</th>\n",
       "      <td>verification_status Not Verified</td>\n",
       "      <td>0.00005340</td>\n",
       "      <td>0.98282955</td>\n",
       "    </tr>\n",
       "    <tr>\n",
       "      <th>12</th>\n",
       "      <td>verification_status Source Verified</td>\n",
       "      <td>0.00896782</td>\n",
       "      <td>0.00007829</td>\n",
       "    </tr>\n",
       "    <tr>\n",
       "      <th>13</th>\n",
       "      <td>purpose car</td>\n",
       "      <td>0.00079048</td>\n",
       "      <td>0.93302520</td>\n",
       "    </tr>\n",
       "    <tr>\n",
       "      <th>14</th>\n",
       "      <td>purpose debt_consolidation</td>\n",
       "      <td>0.01264922</td>\n",
       "      <td>0.00000059</td>\n",
       "    </tr>\n",
       "    <tr>\n",
       "      <th>15</th>\n",
       "      <td>purpose educational</td>\n",
       "      <td>0.09643587</td>\n",
       "      <td>0.00000180</td>\n",
       "    </tr>\n",
       "    <tr>\n",
       "      <th>16</th>\n",
       "      <td>purpose home_improvement</td>\n",
       "      <td>0.01923044</td>\n",
       "      <td>0.00004874</td>\n",
       "    </tr>\n",
       "    <tr>\n",
       "      <th>17</th>\n",
       "      <td>purpose house</td>\n",
       "      <td>0.01607120</td>\n",
       "      <td>0.16536507</td>\n",
       "    </tr>\n",
       "    <tr>\n",
       "      <th>18</th>\n",
       "      <td>purpose major_purchase</td>\n",
       "      <td>0.02984917</td>\n",
       "      <td>0.00002198</td>\n",
       "    </tr>\n",
       "    <tr>\n",
       "      <th>19</th>\n",
       "      <td>purpose medical</td>\n",
       "      <td>0.03962479</td>\n",
       "      <td>0.00000524</td>\n",
       "    </tr>\n",
       "    <tr>\n",
       "      <th>20</th>\n",
       "      <td>purpose moving</td>\n",
       "      <td>0.04577630</td>\n",
       "      <td>0.00000299</td>\n",
       "    </tr>\n",
       "    <tr>\n",
       "      <th>21</th>\n",
       "      <td>purpose other</td>\n",
       "      <td>0.03706744</td>\n",
       "      <td>0.00000000</td>\n",
       "    </tr>\n",
       "    <tr>\n",
       "      <th>22</th>\n",
       "      <td>purpose renewable_energy</td>\n",
       "      <td>0.07212969</td>\n",
       "      <td>0.00888988</td>\n",
       "    </tr>\n",
       "    <tr>\n",
       "      <th>23</th>\n",
       "      <td>purpose small_business</td>\n",
       "      <td>0.05128674</td>\n",
       "      <td>0.00000000</td>\n",
       "    </tr>\n",
       "    <tr>\n",
       "      <th>24</th>\n",
       "      <td>purpose vacation</td>\n",
       "      <td>0.01874863</td>\n",
       "      <td>0.11527024</td>\n",
       "    </tr>\n",
       "    <tr>\n",
       "      <th>25</th>\n",
       "      <td>purpose wedding</td>\n",
       "      <td>0.04350522</td>\n",
       "      <td>0.00020321</td>\n",
       "    </tr>\n",
       "    <tr>\n",
       "      <th>26</th>\n",
       "      <td>initial_list_status w</td>\n",
       "      <td>0.01318126</td>\n",
       "      <td>0.00000001</td>\n",
       "    </tr>\n",
       "    <tr>\n",
       "      <th>27</th>\n",
       "      <td>term_int</td>\n",
       "      <td>0.00455188</td>\n",
       "      <td>0.00000000</td>\n",
       "    </tr>\n",
       "    <tr>\n",
       "      <th>28</th>\n",
       "      <td>emp_length_int</td>\n",
       "      <td>-0.00159148</td>\n",
       "      <td>0.00000000</td>\n",
       "    </tr>\n",
       "    <tr>\n",
       "      <th>29</th>\n",
       "      <td>months_issue_d</td>\n",
       "      <td>-0.00430527</td>\n",
       "      <td>0.00000000</td>\n",
       "    </tr>\n",
       "    <tr>\n",
       "      <th>30</th>\n",
       "      <td>mths_since_earliest_cr_line</td>\n",
       "      <td>-0.00003634</td>\n",
       "      <td>0.00274207</td>\n",
       "    </tr>\n",
       "    <tr>\n",
       "      <th>31</th>\n",
       "      <td>funded_amnt</td>\n",
       "      <td>0.00000221</td>\n",
       "      <td>0.00722518</td>\n",
       "    </tr>\n",
       "    <tr>\n",
       "      <th>32</th>\n",
       "      <td>int_rate</td>\n",
       "      <td>-0.01172652</td>\n",
       "      <td>0.00000000</td>\n",
       "    </tr>\n",
       "    <tr>\n",
       "      <th>33</th>\n",
       "      <td>installment</td>\n",
       "      <td>-0.00006866</td>\n",
       "      <td>0.00742926</td>\n",
       "    </tr>\n",
       "    <tr>\n",
       "      <th>34</th>\n",
       "      <td>annual_inc</td>\n",
       "      <td>0.00000001</td>\n",
       "      <td>0.85746959</td>\n",
       "    </tr>\n",
       "    <tr>\n",
       "      <th>35</th>\n",
       "      <td>dti</td>\n",
       "      <td>0.00028328</td>\n",
       "      <td>0.03632507</td>\n",
       "    </tr>\n",
       "    <tr>\n",
       "      <th>36</th>\n",
       "      <td>delinq_2yrs</td>\n",
       "      <td>0.00048332</td>\n",
       "      <td>0.69464565</td>\n",
       "    </tr>\n",
       "    <tr>\n",
       "      <th>37</th>\n",
       "      <td>inq_last_6mths</td>\n",
       "      <td>0.01131678</td>\n",
       "      <td>0.00000000</td>\n",
       "    </tr>\n",
       "    <tr>\n",
       "      <th>38</th>\n",
       "      <td>mths_since_last_delinq</td>\n",
       "      <td>-0.00019660</td>\n",
       "      <td>0.00000322</td>\n",
       "    </tr>\n",
       "    <tr>\n",
       "      <th>39</th>\n",
       "      <td>mths_since_last_record</td>\n",
       "      <td>-0.00005086</td>\n",
       "      <td>0.32918957</td>\n",
       "    </tr>\n",
       "    <tr>\n",
       "      <th>40</th>\n",
       "      <td>open_acc</td>\n",
       "      <td>-0.00214213</td>\n",
       "      <td>0.00000000</td>\n",
       "    </tr>\n",
       "    <tr>\n",
       "      <th>41</th>\n",
       "      <td>pub_rec</td>\n",
       "      <td>0.00678206</td>\n",
       "      <td>0.04252750</td>\n",
       "    </tr>\n",
       "    <tr>\n",
       "      <th>42</th>\n",
       "      <td>total_acc</td>\n",
       "      <td>0.00045181</td>\n",
       "      <td>0.00019029</td>\n",
       "    </tr>\n",
       "    <tr>\n",
       "      <th>43</th>\n",
       "      <td>acc_now_delinq</td>\n",
       "      <td>0.00997480</td>\n",
       "      <td>0.50127869</td>\n",
       "    </tr>\n",
       "    <tr>\n",
       "      <th>44</th>\n",
       "      <td>total_rev_hi_lim</td>\n",
       "      <td>0.00000022</td>\n",
       "      <td>0.00008196</td>\n",
       "    </tr>\n",
       "  </tbody>\n",
       "</table>\n",
       "</div>"
      ],
      "text/plain": [
       "                           Feature name  Coefficients   p_values\n",
       "0                             Intercept    1.10974628        nan\n",
       "1                               grade A   -0.30300331 0.00000000\n",
       "2                               grade B   -0.23642766 0.00000000\n",
       "3                               grade C   -0.17202316 0.00000000\n",
       "4                               grade D   -0.11984702 0.00000000\n",
       "5                               grade E   -0.06768713 0.00000000\n",
       "6                               grade F   -0.02045907 0.00442880\n",
       "7               home_ownership MORTGAGE   -0.00634334 0.00263246\n",
       "8                   home_ownership NONE   -0.00553906 0.93189306\n",
       "9                  home_ownership OTHER   -0.00242605 0.93358199\n",
       "10                   home_ownership OWN   -0.00161958 0.63661124\n",
       "11     verification_status Not Verified    0.00005340 0.98282955\n",
       "12  verification_status Source Verified    0.00896782 0.00007829\n",
       "13                          purpose car    0.00079048 0.93302520\n",
       "14           purpose debt_consolidation    0.01264922 0.00000059\n",
       "15                  purpose educational    0.09643587 0.00000180\n",
       "16             purpose home_improvement    0.01923044 0.00004874\n",
       "17                        purpose house    0.01607120 0.16536507\n",
       "18               purpose major_purchase    0.02984917 0.00002198\n",
       "19                      purpose medical    0.03962479 0.00000524\n",
       "20                       purpose moving    0.04577630 0.00000299\n",
       "21                        purpose other    0.03706744 0.00000000\n",
       "22             purpose renewable_energy    0.07212969 0.00888988\n",
       "23               purpose small_business    0.05128674 0.00000000\n",
       "24                     purpose vacation    0.01874863 0.11527024\n",
       "25                      purpose wedding    0.04350522 0.00020321\n",
       "26                initial_list_status w    0.01318126 0.00000001\n",
       "27                             term_int    0.00455188 0.00000000\n",
       "28                       emp_length_int   -0.00159148 0.00000000\n",
       "29                       months_issue_d   -0.00430527 0.00000000\n",
       "30          mths_since_earliest_cr_line   -0.00003634 0.00274207\n",
       "31                          funded_amnt    0.00000221 0.00722518\n",
       "32                             int_rate   -0.01172652 0.00000000\n",
       "33                          installment   -0.00006866 0.00742926\n",
       "34                           annual_inc    0.00000001 0.85746959\n",
       "35                                  dti    0.00028328 0.03632507\n",
       "36                          delinq_2yrs    0.00048332 0.69464565\n",
       "37                       inq_last_6mths    0.01131678 0.00000000\n",
       "38               mths_since_last_delinq   -0.00019660 0.00000322\n",
       "39               mths_since_last_record   -0.00005086 0.32918957\n",
       "40                             open_acc   -0.00214213 0.00000000\n",
       "41                              pub_rec    0.00678206 0.04252750\n",
       "42                            total_acc    0.00045181 0.00019029\n",
       "43                       acc_now_delinq    0.00997480 0.50127869\n",
       "44                     total_rev_hi_lim    0.00000022 0.00008196"
      ]
     },
     "execution_count": 88,
     "metadata": {},
     "output_type": "execute_result"
    }
   ],
   "source": [
    "summary_table = pd.DataFrame(columns = ['Feature name'], data = feature_name)\n",
    "summary_table['Coefficients'] = np.transpose(reg_ead.coef_)\n",
    "summary_table.index = summary_table.index + 1\n",
    "summary_table.loc[0] = ['Intercept', reg_ead.intercept_]\n",
    "summary_table = summary_table.sort_index()\n",
    "p_values = reg_ead.p\n",
    "p_values = np.append(np.nan,np.array(p_values))\n",
    "summary_table['p_values'] = p_values\n",
    "pd.set_option('display.float_format', lambda x: '%.8f' % x)\n",
    "summary_table"
   ]
  },
  {
   "cell_type": "code",
   "execution_count": 137,
   "metadata": {},
   "outputs": [],
   "source": [
    "import pickle\n",
    "pickle.dump(reg_ead, open('data/reg_ead.sav', 'wb'))"
   ]
  },
  {
   "cell_type": "markdown",
   "metadata": {},
   "source": [
    "## Model Validation"
   ]
  },
  {
   "cell_type": "code",
   "execution_count": 89,
   "metadata": {},
   "outputs": [
    {
     "data": {
      "text/plain": [
       "array(['grade A', 'grade B', 'grade C', 'grade D', 'grade E', 'grade F',\n",
       "       'home_ownership MORTGAGE', 'home_ownership NONE',\n",
       "       'home_ownership OTHER', 'home_ownership OWN',\n",
       "       'verification_status Not Verified',\n",
       "       'verification_status Source Verified', 'purpose car',\n",
       "       'purpose debt_consolidation', 'purpose educational',\n",
       "       'purpose home_improvement', 'purpose house',\n",
       "       'purpose major_purchase', 'purpose medical', 'purpose moving',\n",
       "       'purpose other', 'purpose renewable_energy',\n",
       "       'purpose small_business', 'purpose vacation', 'purpose wedding',\n",
       "       'initial_list_status w', 'term_int', 'emp_length_int',\n",
       "       'months_issue_d', 'mths_since_earliest_cr_line', 'funded_amnt',\n",
       "       'int_rate', 'installment', 'annual_inc', 'dti', 'delinq_2yrs',\n",
       "       'inq_last_6mths', 'mths_since_last_delinq',\n",
       "       'mths_since_last_record', 'open_acc', 'pub_rec', 'total_acc',\n",
       "       'acc_now_delinq', 'total_rev_hi_lim'], dtype=object)"
      ]
     },
     "execution_count": 89,
     "metadata": {},
     "output_type": "execute_result"
    }
   ],
   "source": [
    "ead_inputs_test = ead_inputs_test[features_all]\n",
    "ead_inputs_test = ead_inputs_test.drop(features_reference_cat, axis = 1)\n",
    "\n",
    "ead_inputs_test.columns.values"
   ]
  },
  {
   "cell_type": "code",
   "execution_count": 90,
   "metadata": {},
   "outputs": [
    {
     "data": {
      "text/html": [
       "<div>\n",
       "<style scoped>\n",
       "    .dataframe tbody tr th:only-of-type {\n",
       "        vertical-align: middle;\n",
       "    }\n",
       "\n",
       "    .dataframe tbody tr th {\n",
       "        vertical-align: top;\n",
       "    }\n",
       "\n",
       "    .dataframe thead th {\n",
       "        text-align: right;\n",
       "    }\n",
       "</style>\n",
       "<table border=\"1\" class=\"dataframe\">\n",
       "  <thead>\n",
       "    <tr style=\"text-align: right;\">\n",
       "      <th></th>\n",
       "      <th>CCF</th>\n",
       "      <th>0</th>\n",
       "    </tr>\n",
       "  </thead>\n",
       "  <tbody>\n",
       "    <tr>\n",
       "      <th>CCF</th>\n",
       "      <td>1.00000000</td>\n",
       "      <td>0.53065383</td>\n",
       "    </tr>\n",
       "    <tr>\n",
       "      <th>0</th>\n",
       "      <td>0.53065383</td>\n",
       "      <td>1.00000000</td>\n",
       "    </tr>\n",
       "  </tbody>\n",
       "</table>\n",
       "</div>"
      ],
      "text/plain": [
       "           CCF          0\n",
       "CCF 1.00000000 0.53065383\n",
       "0   0.53065383 1.00000000"
      ]
     },
     "execution_count": 90,
     "metadata": {},
     "output_type": "execute_result"
    }
   ],
   "source": [
    "y_hat_test_ead = reg_ead.predict(ead_inputs_test)\n",
    "ead_targets_test_temp = ead_targets_test\n",
    "ead_targets_test_temp = ead_targets_test_temp.reset_index(drop = True)\n",
    "pd.concat([ead_targets_test_temp, pd.DataFrame(y_hat_test_ead)], axis = 1).corr()"
   ]
  },
  {
   "cell_type": "code",
   "execution_count": 91,
   "metadata": {},
   "outputs": [
    {
     "data": {
      "text/plain": [
       "<matplotlib.axes._subplots.AxesSubplot at 0x7fc6a1c6a2d0>"
      ]
     },
     "execution_count": 91,
     "metadata": {},
     "output_type": "execute_result"
    },
    {
     "data": {
      "image/png": "[encoded data removed]",
      "text/plain": [
       "<Figure size 432x288 with 1 Axes>"
      ]
     },
     "metadata": {},
     "output_type": "display_data"
    }
   ],
   "source": [
    "sns.distplot(ead_targets_test - y_hat_test_ead)"
   ]
  },
  {
   "cell_type": "code",
   "execution_count": 92,
   "metadata": {},
   "outputs": [
    {
     "data": {
      "text/html": [
       "<div>\n",
       "<style scoped>\n",
       "    .dataframe tbody tr th:only-of-type {\n",
       "        vertical-align: middle;\n",
       "    }\n",
       "\n",
       "    .dataframe tbody tr th {\n",
       "        vertical-align: top;\n",
       "    }\n",
       "\n",
       "    .dataframe thead th {\n",
       "        text-align: right;\n",
       "    }\n",
       "</style>\n",
       "<table border=\"1\" class=\"dataframe\">\n",
       "  <thead>\n",
       "    <tr style=\"text-align: right;\">\n",
       "      <th></th>\n",
       "      <th>0</th>\n",
       "    </tr>\n",
       "  </thead>\n",
       "  <tbody>\n",
       "    <tr>\n",
       "      <th>count</th>\n",
       "      <td>8648.00000000</td>\n",
       "    </tr>\n",
       "    <tr>\n",
       "      <th>mean</th>\n",
       "      <td>0.73601308</td>\n",
       "    </tr>\n",
       "    <tr>\n",
       "      <th>std</th>\n",
       "      <td>0.10519419</td>\n",
       "    </tr>\n",
       "    <tr>\n",
       "      <th>min</th>\n",
       "      <td>0.38477382</td>\n",
       "    </tr>\n",
       "    <tr>\n",
       "      <th>25%</th>\n",
       "      <td>0.66155254</td>\n",
       "    </tr>\n",
       "    <tr>\n",
       "      <th>50%</th>\n",
       "      <td>0.73175038</td>\n",
       "    </tr>\n",
       "    <tr>\n",
       "      <th>75%</th>\n",
       "      <td>0.81062460</td>\n",
       "    </tr>\n",
       "    <tr>\n",
       "      <th>max</th>\n",
       "      <td>1.16108835</td>\n",
       "    </tr>\n",
       "  </tbody>\n",
       "</table>\n",
       "</div>"
      ],
      "text/plain": [
       "                  0\n",
       "count 8648.00000000\n",
       "mean     0.73601308\n",
       "std      0.10519419\n",
       "min      0.38477382\n",
       "25%      0.66155254\n",
       "50%      0.73175038\n",
       "75%      0.81062460\n",
       "max      1.16108835"
      ]
     },
     "execution_count": 92,
     "metadata": {},
     "output_type": "execute_result"
    }
   ],
   "source": [
    "pd.DataFrame(y_hat_test_ead).describe()"
   ]
  },
  {
   "cell_type": "code",
   "execution_count": 93,
   "metadata": {},
   "outputs": [],
   "source": [
    "y_hat_test_ead = np.where(y_hat_test_ead < 0, 0, y_hat_test_ead)\n",
    "y_hat_test_ead = np.where(y_hat_test_ead > 1, 1, y_hat_test_ead)"
   ]
  },
  {
   "cell_type": "code",
   "execution_count": 94,
   "metadata": {},
   "outputs": [
    {
     "data": {
      "text/html": [
       "<div>\n",
       "<style scoped>\n",
       "    .dataframe tbody tr th:only-of-type {\n",
       "        vertical-align: middle;\n",
       "    }\n",
       "\n",
       "    .dataframe tbody tr th {\n",
       "        vertical-align: top;\n",
       "    }\n",
       "\n",
       "    .dataframe thead th {\n",
       "        text-align: right;\n",
       "    }\n",
       "</style>\n",
       "<table border=\"1\" class=\"dataframe\">\n",
       "  <thead>\n",
       "    <tr style=\"text-align: right;\">\n",
       "      <th></th>\n",
       "      <th>0</th>\n",
       "    </tr>\n",
       "  </thead>\n",
       "  <tbody>\n",
       "    <tr>\n",
       "      <th>count</th>\n",
       "      <td>8648.00000000</td>\n",
       "    </tr>\n",
       "    <tr>\n",
       "      <th>mean</th>\n",
       "      <td>0.73599212</td>\n",
       "    </tr>\n",
       "    <tr>\n",
       "      <th>std</th>\n",
       "      <td>0.10512721</td>\n",
       "    </tr>\n",
       "    <tr>\n",
       "      <th>min</th>\n",
       "      <td>0.38477382</td>\n",
       "    </tr>\n",
       "    <tr>\n",
       "      <th>25%</th>\n",
       "      <td>0.66155254</td>\n",
       "    </tr>\n",
       "    <tr>\n",
       "      <th>50%</th>\n",
       "      <td>0.73175038</td>\n",
       "    </tr>\n",
       "    <tr>\n",
       "      <th>75%</th>\n",
       "      <td>0.81062460</td>\n",
       "    </tr>\n",
       "    <tr>\n",
       "      <th>max</th>\n",
       "      <td>1.00000000</td>\n",
       "    </tr>\n",
       "  </tbody>\n",
       "</table>\n",
       "</div>"
      ],
      "text/plain": [
       "                  0\n",
       "count 8648.00000000\n",
       "mean     0.73599212\n",
       "std      0.10512721\n",
       "min      0.38477382\n",
       "25%      0.66155254\n",
       "50%      0.73175038\n",
       "75%      0.81062460\n",
       "max      1.00000000"
      ]
     },
     "execution_count": 94,
     "metadata": {},
     "output_type": "execute_result"
    }
   ],
   "source": [
    "pd.DataFrame(y_hat_test_ead).describe()"
   ]
  },
  {
   "cell_type": "markdown",
   "metadata": {},
   "source": [
    "# Expected Credit Loss"
   ]
  },
  {
   "cell_type": "markdown",
   "metadata": {},
   "source": [
    "## Calculating LGD and EAD based on the trained models for all items"
   ]
  },
  {
   "cell_type": "code",
   "execution_count": 95,
   "metadata": {},
   "outputs": [
    {
     "name": "stderr",
     "output_type": "stream",
     "text": [
      "/Users/graystone/anaconda3/lib/python3.7/site-packages/IPython/core/interactiveshell.py:3072: DtypeWarning: Columns (20,48) have mixed types.Specify dtype option on import or set low_memory=False.\n",
      "  interactivity=interactivity, compiler=compiler, result=result)\n"
     ]
    },
    {
     "data": {
      "text/html": [
       "<div>\n",
       "<style scoped>\n",
       "    .dataframe tbody tr th:only-of-type {\n",
       "        vertical-align: middle;\n",
       "    }\n",
       "\n",
       "    .dataframe tbody tr th {\n",
       "        vertical-align: top;\n",
       "    }\n",
       "\n",
       "    .dataframe thead th {\n",
       "        text-align: right;\n",
       "    }\n",
       "</style>\n",
       "<table border=\"1\" class=\"dataframe\">\n",
       "  <thead>\n",
       "    <tr style=\"text-align: right;\">\n",
       "      <th></th>\n",
       "      <th>id</th>\n",
       "      <th>member_id</th>\n",
       "      <th>loan_amnt</th>\n",
       "      <th>funded_amnt</th>\n",
       "      <th>funded_amnt_inv</th>\n",
       "      <th>term</th>\n",
       "      <th>int_rate</th>\n",
       "      <th>installment</th>\n",
       "      <th>grade</th>\n",
       "      <th>sub_grade</th>\n",
       "      <th>...</th>\n",
       "      <th>addr_state TX</th>\n",
       "      <th>addr_state UT</th>\n",
       "      <th>addr_state VA</th>\n",
       "      <th>addr_state VT</th>\n",
       "      <th>addr_state WA</th>\n",
       "      <th>addr_state WI</th>\n",
       "      <th>addr_state WV</th>\n",
       "      <th>addr_state WY</th>\n",
       "      <th>initial_list_status f</th>\n",
       "      <th>initial_list_status w</th>\n",
       "    </tr>\n",
       "  </thead>\n",
       "  <tbody>\n",
       "    <tr>\n",
       "      <th>0</th>\n",
       "      <td>1077501</td>\n",
       "      <td>1296599</td>\n",
       "      <td>5000</td>\n",
       "      <td>5000</td>\n",
       "      <td>4975.00000000</td>\n",
       "      <td>36 months</td>\n",
       "      <td>10.65000000</td>\n",
       "      <td>162.87000000</td>\n",
       "      <td>B</td>\n",
       "      <td>B2</td>\n",
       "      <td>...</td>\n",
       "      <td>0</td>\n",
       "      <td>0</td>\n",
       "      <td>0</td>\n",
       "      <td>0</td>\n",
       "      <td>0</td>\n",
       "      <td>0</td>\n",
       "      <td>0</td>\n",
       "      <td>0</td>\n",
       "      <td>1</td>\n",
       "      <td>0</td>\n",
       "    </tr>\n",
       "    <tr>\n",
       "      <th>1</th>\n",
       "      <td>1077430</td>\n",
       "      <td>1314167</td>\n",
       "      <td>2500</td>\n",
       "      <td>2500</td>\n",
       "      <td>2500.00000000</td>\n",
       "      <td>60 months</td>\n",
       "      <td>15.27000000</td>\n",
       "      <td>59.83000000</td>\n",
       "      <td>C</td>\n",
       "      <td>C4</td>\n",
       "      <td>...</td>\n",
       "      <td>0</td>\n",
       "      <td>0</td>\n",
       "      <td>0</td>\n",
       "      <td>0</td>\n",
       "      <td>0</td>\n",
       "      <td>0</td>\n",
       "      <td>0</td>\n",
       "      <td>0</td>\n",
       "      <td>1</td>\n",
       "      <td>0</td>\n",
       "    </tr>\n",
       "    <tr>\n",
       "      <th>2</th>\n",
       "      <td>1077175</td>\n",
       "      <td>1313524</td>\n",
       "      <td>2400</td>\n",
       "      <td>2400</td>\n",
       "      <td>2400.00000000</td>\n",
       "      <td>36 months</td>\n",
       "      <td>15.96000000</td>\n",
       "      <td>84.33000000</td>\n",
       "      <td>C</td>\n",
       "      <td>C5</td>\n",
       "      <td>...</td>\n",
       "      <td>0</td>\n",
       "      <td>0</td>\n",
       "      <td>0</td>\n",
       "      <td>0</td>\n",
       "      <td>0</td>\n",
       "      <td>0</td>\n",
       "      <td>0</td>\n",
       "      <td>0</td>\n",
       "      <td>1</td>\n",
       "      <td>0</td>\n",
       "    </tr>\n",
       "    <tr>\n",
       "      <th>3</th>\n",
       "      <td>1076863</td>\n",
       "      <td>1277178</td>\n",
       "      <td>10000</td>\n",
       "      <td>10000</td>\n",
       "      <td>10000.00000000</td>\n",
       "      <td>36 months</td>\n",
       "      <td>13.49000000</td>\n",
       "      <td>339.31000000</td>\n",
       "      <td>C</td>\n",
       "      <td>C1</td>\n",
       "      <td>...</td>\n",
       "      <td>0</td>\n",
       "      <td>0</td>\n",
       "      <td>0</td>\n",
       "      <td>0</td>\n",
       "      <td>0</td>\n",
       "      <td>0</td>\n",
       "      <td>0</td>\n",
       "      <td>0</td>\n",
       "      <td>1</td>\n",
       "      <td>0</td>\n",
       "    </tr>\n",
       "    <tr>\n",
       "      <th>4</th>\n",
       "      <td>1075358</td>\n",
       "      <td>1311748</td>\n",
       "      <td>3000</td>\n",
       "      <td>3000</td>\n",
       "      <td>3000.00000000</td>\n",
       "      <td>60 months</td>\n",
       "      <td>12.69000000</td>\n",
       "      <td>67.79000000</td>\n",
       "      <td>B</td>\n",
       "      <td>B5</td>\n",
       "      <td>...</td>\n",
       "      <td>0</td>\n",
       "      <td>0</td>\n",
       "      <td>0</td>\n",
       "      <td>0</td>\n",
       "      <td>0</td>\n",
       "      <td>0</td>\n",
       "      <td>0</td>\n",
       "      <td>0</td>\n",
       "      <td>1</td>\n",
       "      <td>0</td>\n",
       "    </tr>\n",
       "  </tbody>\n",
       "</table>\n",
       "<p>5 rows × 188 columns</p>\n",
       "</div>"
      ],
      "text/plain": [
       "        id  member_id  loan_amnt  funded_amnt  funded_amnt_inv        term  \\\n",
       "0  1077501    1296599       5000         5000    4975.00000000   36 months   \n",
       "1  1077430    1314167       2500         2500    2500.00000000   60 months   \n",
       "2  1077175    1313524       2400         2400    2400.00000000   36 months   \n",
       "3  1076863    1277178      10000        10000   10000.00000000   36 months   \n",
       "4  1075358    1311748       3000         3000    3000.00000000   60 months   \n",
       "\n",
       "     int_rate  installment grade sub_grade  ... addr_state TX addr_state UT  \\\n",
       "0 10.65000000 162.87000000     B        B2  ...             0             0   \n",
       "1 15.27000000  59.83000000     C        C4  ...             0             0   \n",
       "2 15.96000000  84.33000000     C        C5  ...             0             0   \n",
       "3 13.49000000 339.31000000     C        C1  ...             0             0   \n",
       "4 12.69000000  67.79000000     B        B5  ...             0             0   \n",
       "\n",
       "  addr_state VA  addr_state VT addr_state WA addr_state WI addr_state WV  \\\n",
       "0             0              0             0             0             0   \n",
       "1             0              0             0             0             0   \n",
       "2             0              0             0             0             0   \n",
       "3             0              0             0             0             0   \n",
       "4             0              0             0             0             0   \n",
       "\n",
       "  addr_state WY initial_list_status f initial_list_status w  \n",
       "0             0                     1                     0  \n",
       "1             0                     1                     0  \n",
       "2             0                     1                     0  \n",
       "3             0                     1                     0  \n",
       "4             0                     1                     0  \n",
       "\n",
       "[5 rows x 188 columns]"
      ]
     },
     "execution_count": 95,
     "metadata": {},
     "output_type": "execute_result"
    }
   ],
   "source": [
    "loan_data_preprocessed = pd.read_csv('data/loan_data_2007_2014_processed.csv')\n",
    "loan_data_preprocessed.drop('Unnamed: 0', inplace=True, axis=1)\n",
    "loan_data_preprocessed.head()"
   ]
  },
  {
   "cell_type": "code",
   "execution_count": 96,
   "metadata": {},
   "outputs": [
    {
     "name": "stderr",
     "output_type": "stream",
     "text": [
      "/Users/graystone/anaconda3/lib/python3.7/site-packages/IPython/core/interactiveshell.py:3072: DtypeWarning: Columns (20,48) have mixed types.Specify dtype option on import or set low_memory=False.\n",
      "  interactivity=interactivity, compiler=compiler, result=result)\n"
     ]
    },
    {
     "data": {
      "text/html": [
       "<div>\n",
       "<style scoped>\n",
       "    .dataframe tbody tr th:only-of-type {\n",
       "        vertical-align: middle;\n",
       "    }\n",
       "\n",
       "    .dataframe tbody tr th {\n",
       "        vertical-align: top;\n",
       "    }\n",
       "\n",
       "    .dataframe thead th {\n",
       "        text-align: right;\n",
       "    }\n",
       "</style>\n",
       "<table border=\"1\" class=\"dataframe\">\n",
       "  <thead>\n",
       "    <tr style=\"text-align: right;\">\n",
       "      <th></th>\n",
       "      <th>id</th>\n",
       "      <th>member_id</th>\n",
       "      <th>loan_amnt</th>\n",
       "      <th>funded_amnt</th>\n",
       "      <th>funded_amnt_inv</th>\n",
       "      <th>term</th>\n",
       "      <th>int_rate</th>\n",
       "      <th>installment</th>\n",
       "      <th>grade</th>\n",
       "      <th>sub_grade</th>\n",
       "      <th>...</th>\n",
       "      <th>addr_state TX</th>\n",
       "      <th>addr_state UT</th>\n",
       "      <th>addr_state VA</th>\n",
       "      <th>addr_state VT</th>\n",
       "      <th>addr_state WA</th>\n",
       "      <th>addr_state WI</th>\n",
       "      <th>addr_state WV</th>\n",
       "      <th>addr_state WY</th>\n",
       "      <th>initial_list_status f</th>\n",
       "      <th>initial_list_status w</th>\n",
       "    </tr>\n",
       "  </thead>\n",
       "  <tbody>\n",
       "    <tr>\n",
       "      <th>0</th>\n",
       "      <td>1077501</td>\n",
       "      <td>1296599</td>\n",
       "      <td>5000</td>\n",
       "      <td>5000</td>\n",
       "      <td>4975.00000000</td>\n",
       "      <td>36 months</td>\n",
       "      <td>10.65000000</td>\n",
       "      <td>162.87000000</td>\n",
       "      <td>B</td>\n",
       "      <td>B2</td>\n",
       "      <td>...</td>\n",
       "      <td>0</td>\n",
       "      <td>0</td>\n",
       "      <td>0</td>\n",
       "      <td>0</td>\n",
       "      <td>0</td>\n",
       "      <td>0</td>\n",
       "      <td>0</td>\n",
       "      <td>0</td>\n",
       "      <td>1</td>\n",
       "      <td>0</td>\n",
       "    </tr>\n",
       "    <tr>\n",
       "      <th>1</th>\n",
       "      <td>1077430</td>\n",
       "      <td>1314167</td>\n",
       "      <td>2500</td>\n",
       "      <td>2500</td>\n",
       "      <td>2500.00000000</td>\n",
       "      <td>60 months</td>\n",
       "      <td>15.27000000</td>\n",
       "      <td>59.83000000</td>\n",
       "      <td>C</td>\n",
       "      <td>C4</td>\n",
       "      <td>...</td>\n",
       "      <td>0</td>\n",
       "      <td>0</td>\n",
       "      <td>0</td>\n",
       "      <td>0</td>\n",
       "      <td>0</td>\n",
       "      <td>0</td>\n",
       "      <td>0</td>\n",
       "      <td>0</td>\n",
       "      <td>1</td>\n",
       "      <td>0</td>\n",
       "    </tr>\n",
       "    <tr>\n",
       "      <th>2</th>\n",
       "      <td>1077175</td>\n",
       "      <td>1313524</td>\n",
       "      <td>2400</td>\n",
       "      <td>2400</td>\n",
       "      <td>2400.00000000</td>\n",
       "      <td>36 months</td>\n",
       "      <td>15.96000000</td>\n",
       "      <td>84.33000000</td>\n",
       "      <td>C</td>\n",
       "      <td>C5</td>\n",
       "      <td>...</td>\n",
       "      <td>0</td>\n",
       "      <td>0</td>\n",
       "      <td>0</td>\n",
       "      <td>0</td>\n",
       "      <td>0</td>\n",
       "      <td>0</td>\n",
       "      <td>0</td>\n",
       "      <td>0</td>\n",
       "      <td>1</td>\n",
       "      <td>0</td>\n",
       "    </tr>\n",
       "    <tr>\n",
       "      <th>3</th>\n",
       "      <td>1076863</td>\n",
       "      <td>1277178</td>\n",
       "      <td>10000</td>\n",
       "      <td>10000</td>\n",
       "      <td>10000.00000000</td>\n",
       "      <td>36 months</td>\n",
       "      <td>13.49000000</td>\n",
       "      <td>339.31000000</td>\n",
       "      <td>C</td>\n",
       "      <td>C1</td>\n",
       "      <td>...</td>\n",
       "      <td>0</td>\n",
       "      <td>0</td>\n",
       "      <td>0</td>\n",
       "      <td>0</td>\n",
       "      <td>0</td>\n",
       "      <td>0</td>\n",
       "      <td>0</td>\n",
       "      <td>0</td>\n",
       "      <td>1</td>\n",
       "      <td>0</td>\n",
       "    </tr>\n",
       "    <tr>\n",
       "      <th>4</th>\n",
       "      <td>1075358</td>\n",
       "      <td>1311748</td>\n",
       "      <td>3000</td>\n",
       "      <td>3000</td>\n",
       "      <td>3000.00000000</td>\n",
       "      <td>60 months</td>\n",
       "      <td>12.69000000</td>\n",
       "      <td>67.79000000</td>\n",
       "      <td>B</td>\n",
       "      <td>B5</td>\n",
       "      <td>...</td>\n",
       "      <td>0</td>\n",
       "      <td>0</td>\n",
       "      <td>0</td>\n",
       "      <td>0</td>\n",
       "      <td>0</td>\n",
       "      <td>0</td>\n",
       "      <td>0</td>\n",
       "      <td>0</td>\n",
       "      <td>1</td>\n",
       "      <td>0</td>\n",
       "    </tr>\n",
       "  </tbody>\n",
       "</table>\n",
       "<p>5 rows × 188 columns</p>\n",
       "</div>"
      ],
      "text/plain": [
       "        id  member_id  loan_amnt  funded_amnt  funded_amnt_inv        term  \\\n",
       "0  1077501    1296599       5000         5000    4975.00000000   36 months   \n",
       "1  1077430    1314167       2500         2500    2500.00000000   60 months   \n",
       "2  1077175    1313524       2400         2400    2400.00000000   36 months   \n",
       "3  1076863    1277178      10000        10000   10000.00000000   36 months   \n",
       "4  1075358    1311748       3000         3000    3000.00000000   60 months   \n",
       "\n",
       "     int_rate  installment grade sub_grade  ... addr_state TX addr_state UT  \\\n",
       "0 10.65000000 162.87000000     B        B2  ...             0             0   \n",
       "1 15.27000000  59.83000000     C        C4  ...             0             0   \n",
       "2 15.96000000  84.33000000     C        C5  ...             0             0   \n",
       "3 13.49000000 339.31000000     C        C1  ...             0             0   \n",
       "4 12.69000000  67.79000000     B        B5  ...             0             0   \n",
       "\n",
       "  addr_state VA  addr_state VT addr_state WA addr_state WI addr_state WV  \\\n",
       "0             0              0             0             0             0   \n",
       "1             0              0             0             0             0   \n",
       "2             0              0             0             0             0   \n",
       "3             0              0             0             0             0   \n",
       "4             0              0             0             0             0   \n",
       "\n",
       "  addr_state WY initial_list_status f initial_list_status w  \n",
       "0             0                     1                     0  \n",
       "1             0                     1                     0  \n",
       "2             0                     1                     0  \n",
       "3             0                     1                     0  \n",
       "4             0                     1                     0  \n",
       "\n",
       "[5 rows x 188 columns]"
      ]
     },
     "execution_count": 96,
     "metadata": {},
     "output_type": "execute_result"
    }
   ],
   "source": [
    "loan_data_preprocessed = pd.read_csv('data/loan_data_2007_2014_processed.csv')\n",
    "loan_data_preprocessed.drop('Unnamed: 0', inplace=True, axis=1)\n",
    "loan_data_preprocessed.head()"
   ]
  },
  {
   "cell_type": "code",
   "execution_count": 97,
   "metadata": {},
   "outputs": [],
   "source": [
    "loan_data_preprocessed_lgd_ead = loan_data_preprocessed[features_all]"
   ]
  },
  {
   "cell_type": "code",
   "execution_count": 98,
   "metadata": {},
   "outputs": [],
   "source": [
    "loan_data_preprocessed_lgd_ead = loan_data_preprocessed_lgd_ead.drop(features_reference_cat, axis = 1)"
   ]
  },
  {
   "cell_type": "code",
   "execution_count": 99,
   "metadata": {},
   "outputs": [],
   "source": [
    "loan_data_preprocessed_lgd_ead['mths_since_last_delinq'].fillna(0, inplace = True)\n",
    "loan_data_preprocessed_lgd_ead['mths_since_last_record'].fillna(0, inplace = True)"
   ]
  },
  {
   "cell_type": "code",
   "execution_count": 100,
   "metadata": {},
   "outputs": [],
   "source": [
    "loan_data_preprocessed['recovery_rate_st_1'] = reg_lgd_st_1.model.predict(loan_data_preprocessed_lgd_ead)"
   ]
  },
  {
   "cell_type": "code",
   "execution_count": 101,
   "metadata": {},
   "outputs": [],
   "source": [
    "loan_data_preprocessed['recovery_rate_st_2'] = reg_lgd_st_2.predict(loan_data_preprocessed_lgd_ead)"
   ]
  },
  {
   "cell_type": "code",
   "execution_count": 102,
   "metadata": {},
   "outputs": [],
   "source": [
    "loan_data_preprocessed['recovery_rate'] = loan_data_preprocessed['recovery_rate_st_1'] * loan_data_preprocessed['recovery_rate_st_2']"
   ]
  },
  {
   "cell_type": "code",
   "execution_count": 103,
   "metadata": {},
   "outputs": [],
   "source": [
    "loan_data_preprocessed['recovery_rate'] = np.where(loan_data_preprocessed['recovery_rate'] < 0, 0, loan_data_preprocessed['recovery_rate'])\n",
    "loan_data_preprocessed['recovery_rate'] = np.where(loan_data_preprocessed['recovery_rate'] > 1, 1, loan_data_preprocessed['recovery_rate'])"
   ]
  },
  {
   "cell_type": "code",
   "execution_count": 104,
   "metadata": {},
   "outputs": [],
   "source": [
    "loan_data_preprocessed['LGD'] = 1 - loan_data_preprocessed['recovery_rate']"
   ]
  },
  {
   "cell_type": "code",
   "execution_count": 105,
   "metadata": {},
   "outputs": [
    {
     "data": {
      "text/plain": [
       "count   466285.00000000\n",
       "mean         0.92024700\n",
       "std          0.05758929\n",
       "min          0.37178862\n",
       "25%          0.87322157\n",
       "50%          0.89930016\n",
       "75%          1.00000000\n",
       "max          1.00000000\n",
       "Name: LGD, dtype: float64"
      ]
     },
     "execution_count": 105,
     "metadata": {},
     "output_type": "execute_result"
    }
   ],
   "source": [
    "loan_data_preprocessed['LGD'].describe()"
   ]
  },
  {
   "cell_type": "code",
   "execution_count": 106,
   "metadata": {},
   "outputs": [],
   "source": [
    "loan_data_preprocessed['CCF'] = reg_ead.predict(loan_data_preprocessed_lgd_ead)"
   ]
  },
  {
   "cell_type": "code",
   "execution_count": 107,
   "metadata": {},
   "outputs": [],
   "source": [
    "loan_data_preprocessed['CCF'] = np.where(loan_data_preprocessed['CCF'] < 0, 0, loan_data_preprocessed['CCF'])\n",
    "loan_data_preprocessed['CCF'] = np.where(loan_data_preprocessed['CCF'] > 1, 1, loan_data_preprocessed['CCF'])"
   ]
  },
  {
   "cell_type": "code",
   "execution_count": 108,
   "metadata": {},
   "outputs": [],
   "source": [
    "loan_data_preprocessed['EAD'] = loan_data_preprocessed['CCF'] * loan_data_preprocessed_lgd_ead['funded_amnt']"
   ]
  },
  {
   "cell_type": "code",
   "execution_count": 109,
   "metadata": {},
   "outputs": [
    {
     "data": {
      "text/plain": [
       "count   466285.00000000\n",
       "mean     10814.84676015\n",
       "std       6935.18456190\n",
       "min        190.34737243\n",
       "25%       5495.10141289\n",
       "50%       9208.47959113\n",
       "75%      14692.84454883\n",
       "max      35000.00000000\n",
       "Name: EAD, dtype: float64"
      ]
     },
     "execution_count": 109,
     "metadata": {},
     "output_type": "execute_result"
    }
   ],
   "source": [
    "loan_data_preprocessed['EAD'].describe()"
   ]
  },
  {
   "cell_type": "code",
   "execution_count": 110,
   "metadata": {},
   "outputs": [
    {
     "data": {
      "text/html": [
       "<div>\n",
       "<style scoped>\n",
       "    .dataframe tbody tr th:only-of-type {\n",
       "        vertical-align: middle;\n",
       "    }\n",
       "\n",
       "    .dataframe tbody tr th {\n",
       "        vertical-align: top;\n",
       "    }\n",
       "\n",
       "    .dataframe thead th {\n",
       "        text-align: right;\n",
       "    }\n",
       "</style>\n",
       "<table border=\"1\" class=\"dataframe\">\n",
       "  <thead>\n",
       "    <tr style=\"text-align: right;\">\n",
       "      <th></th>\n",
       "      <th>id</th>\n",
       "      <th>member_id</th>\n",
       "      <th>loan_amnt</th>\n",
       "      <th>funded_amnt</th>\n",
       "      <th>funded_amnt_inv</th>\n",
       "      <th>term</th>\n",
       "      <th>int_rate</th>\n",
       "      <th>installment</th>\n",
       "      <th>grade</th>\n",
       "      <th>sub_grade</th>\n",
       "      <th>...</th>\n",
       "      <th>addr_state WV</th>\n",
       "      <th>addr_state WY</th>\n",
       "      <th>initial_list_status f</th>\n",
       "      <th>initial_list_status w</th>\n",
       "      <th>recovery_rate_st_1</th>\n",
       "      <th>recovery_rate_st_2</th>\n",
       "      <th>recovery_rate</th>\n",
       "      <th>LGD</th>\n",
       "      <th>CCF</th>\n",
       "      <th>EAD</th>\n",
       "    </tr>\n",
       "  </thead>\n",
       "  <tbody>\n",
       "    <tr>\n",
       "      <th>0</th>\n",
       "      <td>1077501</td>\n",
       "      <td>1296599</td>\n",
       "      <td>5000</td>\n",
       "      <td>5000</td>\n",
       "      <td>4975.00000000</td>\n",
       "      <td>36 months</td>\n",
       "      <td>10.65000000</td>\n",
       "      <td>162.87000000</td>\n",
       "      <td>B</td>\n",
       "      <td>B2</td>\n",
       "      <td>...</td>\n",
       "      <td>0</td>\n",
       "      <td>0</td>\n",
       "      <td>1</td>\n",
       "      <td>0</td>\n",
       "      <td>1</td>\n",
       "      <td>0.08627127</td>\n",
       "      <td>0.08627127</td>\n",
       "      <td>0.91372873</td>\n",
       "      <td>0.58992169</td>\n",
       "      <td>2949.60844880</td>\n",
       "    </tr>\n",
       "    <tr>\n",
       "      <th>1</th>\n",
       "      <td>1077430</td>\n",
       "      <td>1314167</td>\n",
       "      <td>2500</td>\n",
       "      <td>2500</td>\n",
       "      <td>2500.00000000</td>\n",
       "      <td>60 months</td>\n",
       "      <td>15.27000000</td>\n",
       "      <td>59.83000000</td>\n",
       "      <td>C</td>\n",
       "      <td>C4</td>\n",
       "      <td>...</td>\n",
       "      <td>0</td>\n",
       "      <td>0</td>\n",
       "      <td>1</td>\n",
       "      <td>0</td>\n",
       "      <td>1</td>\n",
       "      <td>0.08451838</td>\n",
       "      <td>0.08451838</td>\n",
       "      <td>0.91548162</td>\n",
       "      <td>0.77777335</td>\n",
       "      <td>1944.43337805</td>\n",
       "    </tr>\n",
       "    <tr>\n",
       "      <th>2</th>\n",
       "      <td>1077175</td>\n",
       "      <td>1313524</td>\n",
       "      <td>2400</td>\n",
       "      <td>2400</td>\n",
       "      <td>2400.00000000</td>\n",
       "      <td>36 months</td>\n",
       "      <td>15.96000000</td>\n",
       "      <td>84.33000000</td>\n",
       "      <td>C</td>\n",
       "      <td>C5</td>\n",
       "      <td>...</td>\n",
       "      <td>0</td>\n",
       "      <td>0</td>\n",
       "      <td>1</td>\n",
       "      <td>0</td>\n",
       "      <td>1</td>\n",
       "      <td>0.08051618</td>\n",
       "      <td>0.08051618</td>\n",
       "      <td>0.91948382</td>\n",
       "      <td>0.65830596</td>\n",
       "      <td>1579.93430169</td>\n",
       "    </tr>\n",
       "    <tr>\n",
       "      <th>3</th>\n",
       "      <td>1076863</td>\n",
       "      <td>1277178</td>\n",
       "      <td>10000</td>\n",
       "      <td>10000</td>\n",
       "      <td>10000.00000000</td>\n",
       "      <td>36 months</td>\n",
       "      <td>13.49000000</td>\n",
       "      <td>339.31000000</td>\n",
       "      <td>C</td>\n",
       "      <td>C1</td>\n",
       "      <td>...</td>\n",
       "      <td>0</td>\n",
       "      <td>0</td>\n",
       "      <td>1</td>\n",
       "      <td>0</td>\n",
       "      <td>1</td>\n",
       "      <td>0.09507580</td>\n",
       "      <td>0.09507580</td>\n",
       "      <td>0.90492420</td>\n",
       "      <td>0.66065596</td>\n",
       "      <td>6606.55961167</td>\n",
       "    </tr>\n",
       "    <tr>\n",
       "      <th>4</th>\n",
       "      <td>1075358</td>\n",
       "      <td>1311748</td>\n",
       "      <td>3000</td>\n",
       "      <td>3000</td>\n",
       "      <td>3000.00000000</td>\n",
       "      <td>60 months</td>\n",
       "      <td>12.69000000</td>\n",
       "      <td>67.79000000</td>\n",
       "      <td>B</td>\n",
       "      <td>B5</td>\n",
       "      <td>...</td>\n",
       "      <td>0</td>\n",
       "      <td>0</td>\n",
       "      <td>1</td>\n",
       "      <td>0</td>\n",
       "      <td>1</td>\n",
       "      <td>0.08854720</td>\n",
       "      <td>0.08854720</td>\n",
       "      <td>0.91145280</td>\n",
       "      <td>0.70821056</td>\n",
       "      <td>2124.63166699</td>\n",
       "    </tr>\n",
       "  </tbody>\n",
       "</table>\n",
       "<p>5 rows × 194 columns</p>\n",
       "</div>"
      ],
      "text/plain": [
       "        id  member_id  loan_amnt  funded_amnt  funded_amnt_inv        term  \\\n",
       "0  1077501    1296599       5000         5000    4975.00000000   36 months   \n",
       "1  1077430    1314167       2500         2500    2500.00000000   60 months   \n",
       "2  1077175    1313524       2400         2400    2400.00000000   36 months   \n",
       "3  1076863    1277178      10000        10000   10000.00000000   36 months   \n",
       "4  1075358    1311748       3000         3000    3000.00000000   60 months   \n",
       "\n",
       "     int_rate  installment grade sub_grade  ... addr_state WV addr_state WY  \\\n",
       "0 10.65000000 162.87000000     B        B2  ...             0             0   \n",
       "1 15.27000000  59.83000000     C        C4  ...             0             0   \n",
       "2 15.96000000  84.33000000     C        C5  ...             0             0   \n",
       "3 13.49000000 339.31000000     C        C1  ...             0             0   \n",
       "4 12.69000000  67.79000000     B        B5  ...             0             0   \n",
       "\n",
       "  initial_list_status f  initial_list_status w recovery_rate_st_1  \\\n",
       "0                     1                      0                  1   \n",
       "1                     1                      0                  1   \n",
       "2                     1                      0                  1   \n",
       "3                     1                      0                  1   \n",
       "4                     1                      0                  1   \n",
       "\n",
       "  recovery_rate_st_2 recovery_rate        LGD        CCF           EAD  \n",
       "0         0.08627127    0.08627127 0.91372873 0.58992169 2949.60844880  \n",
       "1         0.08451838    0.08451838 0.91548162 0.77777335 1944.43337805  \n",
       "2         0.08051618    0.08051618 0.91948382 0.65830596 1579.93430169  \n",
       "3         0.09507580    0.09507580 0.90492420 0.66065596 6606.55961167  \n",
       "4         0.08854720    0.08854720 0.91145280 0.70821056 2124.63166699  \n",
       "\n",
       "[5 rows x 194 columns]"
      ]
     },
     "execution_count": 110,
     "metadata": {},
     "output_type": "execute_result"
    }
   ],
   "source": [
    "loan_data_preprocessed.head()"
   ]
  },
  {
   "cell_type": "markdown",
   "metadata": {},
   "source": [
    "## Calculating PD for All items"
   ]
  },
  {
   "cell_type": "code",
   "execution_count": 111,
   "metadata": {},
   "outputs": [],
   "source": [
    "loan_data_inputs_train = pd.read_csv('data/loan_data_inputs_train.csv')"
   ]
  },
  {
   "cell_type": "code",
   "execution_count": 112,
   "metadata": {},
   "outputs": [],
   "source": [
    "loan_data_inputs_test = pd.read_csv('data/loan_data_inputs_test.csv')"
   ]
  },
  {
   "cell_type": "code",
   "execution_count": 113,
   "metadata": {},
   "outputs": [],
   "source": [
    "loan_data_inputs_pd = pd.concat([loan_data_inputs_train, loan_data_inputs_test], axis = 0)"
   ]
  },
  {
   "cell_type": "code",
   "execution_count": 114,
   "metadata": {},
   "outputs": [
    {
     "data": {
      "text/plain": [
       "(466285, 308)"
      ]
     },
     "execution_count": 114,
     "metadata": {},
     "output_type": "execute_result"
    }
   ],
   "source": [
    "loan_data_inputs_pd.shape"
   ]
  },
  {
   "cell_type": "code",
   "execution_count": 115,
   "metadata": {},
   "outputs": [
    {
     "data": {
      "text/html": [
       "<div>\n",
       "<style scoped>\n",
       "    .dataframe tbody tr th:only-of-type {\n",
       "        vertical-align: middle;\n",
       "    }\n",
       "\n",
       "    .dataframe tbody tr th {\n",
       "        vertical-align: top;\n",
       "    }\n",
       "\n",
       "    .dataframe thead th {\n",
       "        text-align: right;\n",
       "    }\n",
       "</style>\n",
       "<table border=\"1\" class=\"dataframe\">\n",
       "  <thead>\n",
       "    <tr style=\"text-align: right;\">\n",
       "      <th></th>\n",
       "      <th>id</th>\n",
       "      <th>member_id</th>\n",
       "      <th>loan_amnt</th>\n",
       "      <th>funded_amnt</th>\n",
       "      <th>funded_amnt_inv</th>\n",
       "      <th>term</th>\n",
       "      <th>int_rate</th>\n",
       "      <th>installment</th>\n",
       "      <th>grade</th>\n",
       "      <th>sub_grade</th>\n",
       "      <th>...</th>\n",
       "      <th>dti 22.4-35</th>\n",
       "      <th>dti &gt;35</th>\n",
       "      <th>mths_since_last_record_factor</th>\n",
       "      <th>mths_since_last_record Missing</th>\n",
       "      <th>mths_since_last_record 0-2</th>\n",
       "      <th>mths_since_last_record 3-20</th>\n",
       "      <th>mths_since_last_record 21-31</th>\n",
       "      <th>mths_since_last_record 32-80</th>\n",
       "      <th>mths_since_last_record 81-86</th>\n",
       "      <th>mths_since_last_record &gt;=86</th>\n",
       "    </tr>\n",
       "    <tr>\n",
       "      <th>Unnamed: 0</th>\n",
       "      <th></th>\n",
       "      <th></th>\n",
       "      <th></th>\n",
       "      <th></th>\n",
       "      <th></th>\n",
       "      <th></th>\n",
       "      <th></th>\n",
       "      <th></th>\n",
       "      <th></th>\n",
       "      <th></th>\n",
       "      <th></th>\n",
       "      <th></th>\n",
       "      <th></th>\n",
       "      <th></th>\n",
       "      <th></th>\n",
       "      <th></th>\n",
       "      <th></th>\n",
       "      <th></th>\n",
       "      <th></th>\n",
       "      <th></th>\n",
       "      <th></th>\n",
       "    </tr>\n",
       "  </thead>\n",
       "  <tbody>\n",
       "    <tr>\n",
       "      <th>464103</th>\n",
       "      <td>4545797</td>\n",
       "      <td>5798012</td>\n",
       "      <td>18000</td>\n",
       "      <td>18000</td>\n",
       "      <td>18000.00000000</td>\n",
       "      <td>36 months</td>\n",
       "      <td>9.67000000</td>\n",
       "      <td>578.03000000</td>\n",
       "      <td>B</td>\n",
       "      <td>B1</td>\n",
       "      <td>...</td>\n",
       "      <td>0</td>\n",
       "      <td>0</td>\n",
       "      <td>NaN</td>\n",
       "      <td>1</td>\n",
       "      <td>0</td>\n",
       "      <td>0</td>\n",
       "      <td>0</td>\n",
       "      <td>0</td>\n",
       "      <td>0</td>\n",
       "      <td>0</td>\n",
       "    </tr>\n",
       "    <tr>\n",
       "      <th>449524</th>\n",
       "      <td>11455994</td>\n",
       "      <td>13388159</td>\n",
       "      <td>25000</td>\n",
       "      <td>25000</td>\n",
       "      <td>24925.00000000</td>\n",
       "      <td>60 months</td>\n",
       "      <td>14.98000000</td>\n",
       "      <td>594.49000000</td>\n",
       "      <td>C</td>\n",
       "      <td>C3</td>\n",
       "      <td>...</td>\n",
       "      <td>0</td>\n",
       "      <td>0</td>\n",
       "      <td>NaN</td>\n",
       "      <td>1</td>\n",
       "      <td>0</td>\n",
       "      <td>0</td>\n",
       "      <td>0</td>\n",
       "      <td>0</td>\n",
       "      <td>0</td>\n",
       "      <td>0</td>\n",
       "    </tr>\n",
       "    <tr>\n",
       "      <th>37592</th>\n",
       "      <td>379025</td>\n",
       "      <td>404949</td>\n",
       "      <td>15000</td>\n",
       "      <td>15000</td>\n",
       "      <td>13975.00000000</td>\n",
       "      <td>36 months</td>\n",
       "      <td>9.63000000</td>\n",
       "      <td>481.42000000</td>\n",
       "      <td>A</td>\n",
       "      <td>A5</td>\n",
       "      <td>...</td>\n",
       "      <td>0</td>\n",
       "      <td>0</td>\n",
       "      <td>NaN</td>\n",
       "      <td>1</td>\n",
       "      <td>0</td>\n",
       "      <td>0</td>\n",
       "      <td>0</td>\n",
       "      <td>0</td>\n",
       "      <td>0</td>\n",
       "      <td>0</td>\n",
       "    </tr>\n",
       "    <tr>\n",
       "      <th>49075</th>\n",
       "      <td>9785537</td>\n",
       "      <td>11637587</td>\n",
       "      <td>8400</td>\n",
       "      <td>8400</td>\n",
       "      <td>8400.00000000</td>\n",
       "      <td>36 months</td>\n",
       "      <td>12.85000000</td>\n",
       "      <td>282.43000000</td>\n",
       "      <td>B</td>\n",
       "      <td>B4</td>\n",
       "      <td>...</td>\n",
       "      <td>1</td>\n",
       "      <td>0</td>\n",
       "      <td>NaN</td>\n",
       "      <td>1</td>\n",
       "      <td>0</td>\n",
       "      <td>0</td>\n",
       "      <td>0</td>\n",
       "      <td>0</td>\n",
       "      <td>0</td>\n",
       "      <td>0</td>\n",
       "    </tr>\n",
       "    <tr>\n",
       "      <th>79488</th>\n",
       "      <td>7728332</td>\n",
       "      <td>9429912</td>\n",
       "      <td>16550</td>\n",
       "      <td>16550</td>\n",
       "      <td>16500.00000000</td>\n",
       "      <td>36 months</td>\n",
       "      <td>8.60000000</td>\n",
       "      <td>523.21000000</td>\n",
       "      <td>A</td>\n",
       "      <td>A4</td>\n",
       "      <td>...</td>\n",
       "      <td>1</td>\n",
       "      <td>0</td>\n",
       "      <td>NaN</td>\n",
       "      <td>1</td>\n",
       "      <td>0</td>\n",
       "      <td>0</td>\n",
       "      <td>0</td>\n",
       "      <td>0</td>\n",
       "      <td>0</td>\n",
       "      <td>0</td>\n",
       "    </tr>\n",
       "  </tbody>\n",
       "</table>\n",
       "<p>5 rows × 307 columns</p>\n",
       "</div>"
      ],
      "text/plain": [
       "                  id  member_id  loan_amnt  funded_amnt  funded_amnt_inv  \\\n",
       "Unnamed: 0                                                                 \n",
       "464103       4545797    5798012      18000        18000   18000.00000000   \n",
       "449524      11455994   13388159      25000        25000   24925.00000000   \n",
       "37592         379025     404949      15000        15000   13975.00000000   \n",
       "49075        9785537   11637587       8400         8400    8400.00000000   \n",
       "79488        7728332    9429912      16550        16550   16500.00000000   \n",
       "\n",
       "                  term    int_rate  installment grade sub_grade  ...  \\\n",
       "Unnamed: 0                                                       ...   \n",
       "464103       36 months  9.67000000 578.03000000     B        B1  ...   \n",
       "449524       60 months 14.98000000 594.49000000     C        C3  ...   \n",
       "37592        36 months  9.63000000 481.42000000     A        A5  ...   \n",
       "49075        36 months 12.85000000 282.43000000     B        B4  ...   \n",
       "79488        36 months  8.60000000 523.21000000     A        A4  ...   \n",
       "\n",
       "           dti 22.4-35 dti >35 mths_since_last_record_factor  \\\n",
       "Unnamed: 0                                                     \n",
       "464103               0       0                           NaN   \n",
       "449524               0       0                           NaN   \n",
       "37592                0       0                           NaN   \n",
       "49075                1       0                           NaN   \n",
       "79488                1       0                           NaN   \n",
       "\n",
       "            mths_since_last_record Missing mths_since_last_record 0-2  \\\n",
       "Unnamed: 0                                                              \n",
       "464103                                   1                          0   \n",
       "449524                                   1                          0   \n",
       "37592                                    1                          0   \n",
       "49075                                    1                          0   \n",
       "79488                                    1                          0   \n",
       "\n",
       "           mths_since_last_record 3-20 mths_since_last_record 21-31  \\\n",
       "Unnamed: 0                                                            \n",
       "464103                               0                            0   \n",
       "449524                               0                            0   \n",
       "37592                                0                            0   \n",
       "49075                                0                            0   \n",
       "79488                                0                            0   \n",
       "\n",
       "           mths_since_last_record 32-80 mths_since_last_record 81-86  \\\n",
       "Unnamed: 0                                                             \n",
       "464103                                0                            0   \n",
       "449524                                0                            0   \n",
       "37592                                 0                            0   \n",
       "49075                                 0                            0   \n",
       "79488                                 0                            0   \n",
       "\n",
       "           mths_since_last_record >=86  \n",
       "Unnamed: 0                              \n",
       "464103                               0  \n",
       "449524                               0  \n",
       "37592                                0  \n",
       "49075                                0  \n",
       "79488                                0  \n",
       "\n",
       "[5 rows x 307 columns]"
      ]
     },
     "execution_count": 115,
     "metadata": {},
     "output_type": "execute_result"
    }
   ],
   "source": [
    "loan_data_inputs_pd = loan_data_inputs_pd.set_index('Unnamed: 0')\n",
    "loan_data_inputs_pd.head()"
   ]
  },
  {
   "cell_type": "code",
   "execution_count": 116,
   "metadata": {},
   "outputs": [],
   "source": [
    "features_pd_all = ['grade A',\n",
    "'grade B',\n",
    "'grade C',\n",
    "'grade D',\n",
    "'grade E',\n",
    "'grade F',\n",
    "'grade G',\n",
    "'home_ownership RENT_OTHER_NONE_ANY',\n",
    "'home_ownership OWN',\n",
    "'home_ownership MORTGAGE',\n",
    "'addr_state ND_NE_IA_NV_FL_HI_AL',\n",
    "'addr_state NM_VA',\n",
    "'addr_state NY',\n",
    "'addr_state OK_TN_MO_LA_MD_NC',\n",
    "'addr_state CA',\n",
    "'addr_state UT_KY_AZ_NJ',\n",
    "'addr_state AR_MI_PA_OH_MN',\n",
    "'addr_state RI_MA_DE_SD_IN',\n",
    "'addr_state GA_WA_OR',\n",
    "'addr_state WI_MT',\n",
    "'addr_state TX',\n",
    "'addr_state IL_CT',\n",
    "'addr_state KS_SC_CO_VT_AK_MS',\n",
    "'addr_state WV_NH_WY_DC_ME_ID',\n",
    "'verification_status Not Verified',\n",
    "'verification_status Source Verified',\n",
    "'verification_status Verified',\n",
    "'purpose educ__sm_b__wedd__ren_en__mov__house',\n",
    "'purpose credit_card',\n",
    "'purpose debt_consolidation',\n",
    "'purpose oth__med__vacation',\n",
    "'purpose major_purch__car__home_impr',\n",
    "'initial_list_status f',\n",
    "'initial_list_status w',\n",
    "'term 36',\n",
    "'term 60',\n",
    "'emp_length 0',\n",
    "'emp_length 1',\n",
    "'emp_length 2-4',\n",
    "'emp_length 5-6',\n",
    "'emp_length 7-9',\n",
    "'emp_length 10',\n",
    "'mths_issue_d <38',\n",
    "'mths_issue_d 38-39',\n",
    "'mths_issue_d 40-41',\n",
    "'mths_issue_d 42-48',\n",
    "'mths_issue_d 49-52',\n",
    "'mths_issue_d 53-64',\n",
    "'mths_issue_d 65-84',\n",
    "'mths_issue_d >84',\n",
    "'int_rate <9.548',\n",
    "'int_rate 9.548-12.025',\n",
    "'int_rate 12.025-15.74',\n",
    "'int_rate 15.74-20.281',\n",
    "'int_rate >20.281',\n",
    "'mths_since_earliest_cr_line <140',\n",
    "'mths_since_earliest_cr_line 141-164',\n",
    "'mths_since_earliest_cr_line 165-247',\n",
    "'mths_since_earliest_cr_line 248-270',\n",
    "'mths_since_earliest_cr_line 271-352',\n",
    "'mths_since_earliest_cr_line >352',\n",
    "'inq_last_6mths 0',\n",
    "'inq_last_6mths 1-2',\n",
    "'inq_last_6mths 3-6',\n",
    "'inq_last_6mths >6',\n",
    "'acc_now_delinq 0',\n",
    "'acc_now_delinq >=1',\n",
    "'annual_inc <20K',\n",
    "'annual_inc 20K-30K',\n",
    "'annual_inc 30K-40K',\n",
    "'annual_inc 40K-50K',\n",
    "'annual_inc 50K-60K',\n",
    "'annual_inc 60K-70K',\n",
    "'annual_inc 70K-80K',\n",
    "'annual_inc 80K-90K',\n",
    "'annual_inc 90K-100K',\n",
    "'annual_inc 100K-120K',\n",
    "'annual_inc 120K-140K',\n",
    "'annual_inc >140K',\n",
    "'dti <=1.4',\n",
    "'dti 1.4-3.5',\n",
    "'dti 3.5-7.7',\n",
    "'dti 7.7-10.5',\n",
    "'dti 10.5-16.1',\n",
    "'dti 16.1-20.3',\n",
    "'dti 20.3-21.7',\n",
    "'dti 21.7-22.4',\n",
    "'dti 22.4-35',\n",
    "'dti >35',\n",
    "'mths_since_last_delinq Missing',\n",
    "'mths_since_last_delinq 0-3',\n",
    "'mths_since_last_delinq 4-30',\n",
    "'mths_since_last_delinq 31-56',\n",
    "'mths_since_last_delinq >=57',\n",
    "'mths_since_last_record Missing',\n",
    "'mths_since_last_record 0-2',\n",
    "'mths_since_last_record 3-20',\n",
    "'mths_since_last_record 21-31',\n",
    "'mths_since_last_record 32-80',\n",
    "'mths_since_last_record 81-86',\n",
    "'mths_since_last_record >=86']"
   ]
  },
  {
   "cell_type": "code",
   "execution_count": 117,
   "metadata": {},
   "outputs": [],
   "source": [
    "ref_categories_pd = ['grade G',\n",
    "'home_ownership RENT_OTHER_NONE_ANY',\n",
    "'addr_state ND_NE_IA_NV_FL_HI_AL',\n",
    "'verification_status Verified',\n",
    "'purpose educ__sm_b__wedd__ren_en__mov__house',\n",
    "'initial_list_status f',\n",
    "'term 60',\n",
    "'emp_length 0',\n",
    "'mths_issue_d >84',\n",
    "'int_rate >20.281',\n",
    "'mths_since_earliest_cr_line <140',\n",
    "'inq_last_6mths >6',\n",
    "'acc_now_delinq 0',\n",
    "'annual_inc <20K',\n",
    "'dti >35',\n",
    "'mths_since_last_delinq 0-3',\n",
    "'mths_since_last_record 0-2']"
   ]
  },
  {
   "cell_type": "code",
   "execution_count": 118,
   "metadata": {},
   "outputs": [],
   "source": [
    "loan_data_inputs_pd_temp = loan_data_inputs_pd[features_pd_all]"
   ]
  },
  {
   "cell_type": "code",
   "execution_count": 119,
   "metadata": {},
   "outputs": [],
   "source": [
    "loan_data_inputs_pd_temp = loan_data_inputs_pd_temp.drop(ref_categories_pd, axis = 1)"
   ]
  },
  {
   "cell_type": "code",
   "execution_count": 120,
   "metadata": {},
   "outputs": [
    {
     "data": {
      "text/plain": [
       "(466285, 84)"
      ]
     },
     "execution_count": 120,
     "metadata": {},
     "output_type": "execute_result"
    }
   ],
   "source": [
    "loan_data_inputs_pd_temp.shape"
   ]
  },
  {
   "cell_type": "code",
   "execution_count": 121,
   "metadata": {},
   "outputs": [],
   "source": [
    "import pickle\n",
    "reg_pd = pickle.load(open('data/pd_model.sav', 'rb'))"
   ]
  },
  {
   "cell_type": "code",
   "execution_count": 122,
   "metadata": {},
   "outputs": [
    {
     "data": {
      "text/plain": [
       "array([0.05157264, 0.06062145, 0.07889654, ..., 0.19908893, 0.08923748,\n",
       "       0.07129848])"
      ]
     },
     "execution_count": 122,
     "metadata": {},
     "output_type": "execute_result"
    }
   ],
   "source": [
    "reg_pd.model.predict_proba(loan_data_inputs_pd_temp)[: ][: , 0]\n",
    "# We apply the PD model to caclulate estimated default probabilities."
   ]
  },
  {
   "cell_type": "code",
   "execution_count": 123,
   "metadata": {},
   "outputs": [],
   "source": [
    "loan_data_inputs_pd['PD'] = reg_pd.model.predict_proba(loan_data_inputs_pd_temp)[: ][: , 0]"
   ]
  },
  {
   "cell_type": "code",
   "execution_count": 124,
   "metadata": {},
   "outputs": [
    {
     "data": {
      "text/plain": [
       "Unnamed: 0\n",
       "464103   0.05157264\n",
       "449524   0.06062145\n",
       "37592    0.07889654\n",
       "49075    0.12842390\n",
       "79488    0.04385346\n",
       "Name: PD, dtype: float64"
      ]
     },
     "execution_count": 124,
     "metadata": {},
     "output_type": "execute_result"
    }
   ],
   "source": [
    "loan_data_inputs_pd['PD'].head()"
   ]
  },
  {
   "cell_type": "code",
   "execution_count": 125,
   "metadata": {},
   "outputs": [
    {
     "data": {
      "text/plain": [
       "count   466285.00000000\n",
       "mean         0.10885422\n",
       "std          0.07155034\n",
       "min          0.00695439\n",
       "25%          0.05514117\n",
       "50%          0.09263849\n",
       "75%          0.14631351\n",
       "max          0.65184951\n",
       "Name: PD, dtype: float64"
      ]
     },
     "execution_count": 125,
     "metadata": {},
     "output_type": "execute_result"
    }
   ],
   "source": [
    "loan_data_inputs_pd['PD'].describe()"
   ]
  },
  {
   "cell_type": "code",
   "execution_count": 126,
   "metadata": {},
   "outputs": [],
   "source": [
    "loan_data_preprocessed_new = pd.concat([loan_data_preprocessed, loan_data_inputs_pd], axis = 1)"
   ]
  },
  {
   "cell_type": "code",
   "execution_count": 127,
   "metadata": {},
   "outputs": [
    {
     "data": {
      "text/plain": [
       "(466285, 502)"
      ]
     },
     "execution_count": 127,
     "metadata": {},
     "output_type": "execute_result"
    }
   ],
   "source": [
    "loan_data_preprocessed_new.shape"
   ]
  },
  {
   "cell_type": "code",
   "execution_count": 128,
   "metadata": {},
   "outputs": [
    {
     "data": {
      "text/html": [
       "<div>\n",
       "<style scoped>\n",
       "    .dataframe tbody tr th:only-of-type {\n",
       "        vertical-align: middle;\n",
       "    }\n",
       "\n",
       "    .dataframe tbody tr th {\n",
       "        vertical-align: top;\n",
       "    }\n",
       "\n",
       "    .dataframe thead th {\n",
       "        text-align: right;\n",
       "    }\n",
       "</style>\n",
       "<table border=\"1\" class=\"dataframe\">\n",
       "  <thead>\n",
       "    <tr style=\"text-align: right;\">\n",
       "      <th></th>\n",
       "      <th>id</th>\n",
       "      <th>member_id</th>\n",
       "      <th>loan_amnt</th>\n",
       "      <th>funded_amnt</th>\n",
       "      <th>funded_amnt_inv</th>\n",
       "      <th>term</th>\n",
       "      <th>int_rate</th>\n",
       "      <th>installment</th>\n",
       "      <th>grade</th>\n",
       "      <th>sub_grade</th>\n",
       "      <th>...</th>\n",
       "      <th>dti &gt;35</th>\n",
       "      <th>mths_since_last_record_factor</th>\n",
       "      <th>mths_since_last_record Missing</th>\n",
       "      <th>mths_since_last_record 0-2</th>\n",
       "      <th>mths_since_last_record 3-20</th>\n",
       "      <th>mths_since_last_record 21-31</th>\n",
       "      <th>mths_since_last_record 32-80</th>\n",
       "      <th>mths_since_last_record 81-86</th>\n",
       "      <th>mths_since_last_record &gt;=86</th>\n",
       "      <th>PD</th>\n",
       "    </tr>\n",
       "  </thead>\n",
       "  <tbody>\n",
       "    <tr>\n",
       "      <th>0</th>\n",
       "      <td>1077501</td>\n",
       "      <td>1296599</td>\n",
       "      <td>5000</td>\n",
       "      <td>5000</td>\n",
       "      <td>4975.00000000</td>\n",
       "      <td>36 months</td>\n",
       "      <td>10.65000000</td>\n",
       "      <td>162.87000000</td>\n",
       "      <td>B</td>\n",
       "      <td>B2</td>\n",
       "      <td>...</td>\n",
       "      <td>0</td>\n",
       "      <td>NaN</td>\n",
       "      <td>1</td>\n",
       "      <td>0</td>\n",
       "      <td>0</td>\n",
       "      <td>0</td>\n",
       "      <td>0</td>\n",
       "      <td>0</td>\n",
       "      <td>0</td>\n",
       "      <td>0.16365709</td>\n",
       "    </tr>\n",
       "    <tr>\n",
       "      <th>1</th>\n",
       "      <td>1077430</td>\n",
       "      <td>1314167</td>\n",
       "      <td>2500</td>\n",
       "      <td>2500</td>\n",
       "      <td>2500.00000000</td>\n",
       "      <td>60 months</td>\n",
       "      <td>15.27000000</td>\n",
       "      <td>59.83000000</td>\n",
       "      <td>C</td>\n",
       "      <td>C4</td>\n",
       "      <td>...</td>\n",
       "      <td>0</td>\n",
       "      <td>NaN</td>\n",
       "      <td>1</td>\n",
       "      <td>0</td>\n",
       "      <td>0</td>\n",
       "      <td>0</td>\n",
       "      <td>0</td>\n",
       "      <td>0</td>\n",
       "      <td>0</td>\n",
       "      <td>0.27020279</td>\n",
       "    </tr>\n",
       "    <tr>\n",
       "      <th>2</th>\n",
       "      <td>1077175</td>\n",
       "      <td>1313524</td>\n",
       "      <td>2400</td>\n",
       "      <td>2400</td>\n",
       "      <td>2400.00000000</td>\n",
       "      <td>36 months</td>\n",
       "      <td>15.96000000</td>\n",
       "      <td>84.33000000</td>\n",
       "      <td>C</td>\n",
       "      <td>C5</td>\n",
       "      <td>...</td>\n",
       "      <td>0</td>\n",
       "      <td>NaN</td>\n",
       "      <td>1</td>\n",
       "      <td>0</td>\n",
       "      <td>0</td>\n",
       "      <td>0</td>\n",
       "      <td>0</td>\n",
       "      <td>0</td>\n",
       "      <td>0</td>\n",
       "      <td>0.23957056</td>\n",
       "    </tr>\n",
       "    <tr>\n",
       "      <th>3</th>\n",
       "      <td>1076863</td>\n",
       "      <td>1277178</td>\n",
       "      <td>10000</td>\n",
       "      <td>10000</td>\n",
       "      <td>10000.00000000</td>\n",
       "      <td>36 months</td>\n",
       "      <td>13.49000000</td>\n",
       "      <td>339.31000000</td>\n",
       "      <td>C</td>\n",
       "      <td>C1</td>\n",
       "      <td>...</td>\n",
       "      <td>0</td>\n",
       "      <td>NaN</td>\n",
       "      <td>1</td>\n",
       "      <td>0</td>\n",
       "      <td>0</td>\n",
       "      <td>0</td>\n",
       "      <td>0</td>\n",
       "      <td>0</td>\n",
       "      <td>0</td>\n",
       "      <td>0.21586336</td>\n",
       "    </tr>\n",
       "    <tr>\n",
       "      <th>4</th>\n",
       "      <td>1075358</td>\n",
       "      <td>1311748</td>\n",
       "      <td>3000</td>\n",
       "      <td>3000</td>\n",
       "      <td>3000.00000000</td>\n",
       "      <td>60 months</td>\n",
       "      <td>12.69000000</td>\n",
       "      <td>67.79000000</td>\n",
       "      <td>B</td>\n",
       "      <td>B5</td>\n",
       "      <td>...</td>\n",
       "      <td>0</td>\n",
       "      <td>NaN</td>\n",
       "      <td>1</td>\n",
       "      <td>0</td>\n",
       "      <td>0</td>\n",
       "      <td>0</td>\n",
       "      <td>0</td>\n",
       "      <td>0</td>\n",
       "      <td>0</td>\n",
       "      <td>0.12922021</td>\n",
       "    </tr>\n",
       "  </tbody>\n",
       "</table>\n",
       "<p>5 rows × 502 columns</p>\n",
       "</div>"
      ],
      "text/plain": [
       "        id  member_id  loan_amnt  funded_amnt  funded_amnt_inv        term  \\\n",
       "0  1077501    1296599       5000         5000    4975.00000000   36 months   \n",
       "1  1077430    1314167       2500         2500    2500.00000000   60 months   \n",
       "2  1077175    1313524       2400         2400    2400.00000000   36 months   \n",
       "3  1076863    1277178      10000        10000   10000.00000000   36 months   \n",
       "4  1075358    1311748       3000         3000    3000.00000000   60 months   \n",
       "\n",
       "     int_rate  installment grade sub_grade  ... dti >35  \\\n",
       "0 10.65000000 162.87000000     B        B2  ...       0   \n",
       "1 15.27000000  59.83000000     C        C4  ...       0   \n",
       "2 15.96000000  84.33000000     C        C5  ...       0   \n",
       "3 13.49000000 339.31000000     C        C1  ...       0   \n",
       "4 12.69000000  67.79000000     B        B5  ...       0   \n",
       "\n",
       "  mths_since_last_record_factor mths_since_last_record Missing  \\\n",
       "0                           NaN                              1   \n",
       "1                           NaN                              1   \n",
       "2                           NaN                              1   \n",
       "3                           NaN                              1   \n",
       "4                           NaN                              1   \n",
       "\n",
       "   mths_since_last_record 0-2 mths_since_last_record 3-20  \\\n",
       "0                           0                           0   \n",
       "1                           0                           0   \n",
       "2                           0                           0   \n",
       "3                           0                           0   \n",
       "4                           0                           0   \n",
       "\n",
       "  mths_since_last_record 21-31 mths_since_last_record 32-80  \\\n",
       "0                            0                            0   \n",
       "1                            0                            0   \n",
       "2                            0                            0   \n",
       "3                            0                            0   \n",
       "4                            0                            0   \n",
       "\n",
       "  mths_since_last_record 81-86 mths_since_last_record >=86         PD  \n",
       "0                            0                           0 0.16365709  \n",
       "1                            0                           0 0.27020279  \n",
       "2                            0                           0 0.23957056  \n",
       "3                            0                           0 0.21586336  \n",
       "4                            0                           0 0.12922021  \n",
       "\n",
       "[5 rows x 502 columns]"
      ]
     },
     "execution_count": 128,
     "metadata": {},
     "output_type": "execute_result"
    }
   ],
   "source": [
    "loan_data_preprocessed_new.head()"
   ]
  },
  {
   "cell_type": "markdown",
   "metadata": {},
   "source": [
    "## Calculating Expected Credit Loss"
   ]
  },
  {
   "cell_type": "code",
   "execution_count": 129,
   "metadata": {},
   "outputs": [],
   "source": [
    "loan_data_preprocessed_new['EL'] = loan_data_preprocessed_new['PD'] * loan_data_preprocessed_new['LGD'] * loan_data_preprocessed_new['EAD']\n",
    "# We calculate Expected Loss. EL = PD * LGD * EAD."
   ]
  },
  {
   "cell_type": "code",
   "execution_count": 130,
   "metadata": {},
   "outputs": [
    {
     "data": {
      "text/plain": [
       "count   466285.00000000\n",
       "mean      1071.55419532\n",
       "std       1093.89371303\n",
       "min          9.28904358\n",
       "25%        349.47209537\n",
       "50%        698.54155423\n",
       "75%       1390.24474131\n",
       "max      11840.70472407\n",
       "Name: EL, dtype: float64"
      ]
     },
     "execution_count": 130,
     "metadata": {},
     "output_type": "execute_result"
    }
   ],
   "source": [
    "loan_data_preprocessed_new['EL'].describe()"
   ]
  },
  {
   "cell_type": "code",
   "execution_count": 131,
   "metadata": {},
   "outputs": [
    {
     "data": {
      "text/html": [
       "<div>\n",
       "<style scoped>\n",
       "    .dataframe tbody tr th:only-of-type {\n",
       "        vertical-align: middle;\n",
       "    }\n",
       "\n",
       "    .dataframe tbody tr th {\n",
       "        vertical-align: top;\n",
       "    }\n",
       "\n",
       "    .dataframe thead th {\n",
       "        text-align: right;\n",
       "    }\n",
       "</style>\n",
       "<table border=\"1\" class=\"dataframe\">\n",
       "  <thead>\n",
       "    <tr style=\"text-align: right;\">\n",
       "      <th></th>\n",
       "      <th>funded_amnt</th>\n",
       "      <th>funded_amnt</th>\n",
       "      <th>PD</th>\n",
       "      <th>LGD</th>\n",
       "      <th>EAD</th>\n",
       "      <th>EL</th>\n",
       "    </tr>\n",
       "  </thead>\n",
       "  <tbody>\n",
       "    <tr>\n",
       "      <th>0</th>\n",
       "      <td>5000</td>\n",
       "      <td>5000</td>\n",
       "      <td>0.16365709</td>\n",
       "      <td>0.91372873</td>\n",
       "      <td>2949.60844880</td>\n",
       "      <td>441.07910264</td>\n",
       "    </tr>\n",
       "    <tr>\n",
       "      <th>1</th>\n",
       "      <td>2500</td>\n",
       "      <td>2500</td>\n",
       "      <td>0.27020279</td>\n",
       "      <td>0.91548162</td>\n",
       "      <td>1944.43337805</td>\n",
       "      <td>480.98609910</td>\n",
       "    </tr>\n",
       "    <tr>\n",
       "      <th>2</th>\n",
       "      <td>2400</td>\n",
       "      <td>2400</td>\n",
       "      <td>0.23957056</td>\n",
       "      <td>0.91948382</td>\n",
       "      <td>1579.93430169</td>\n",
       "      <td>348.02990895</td>\n",
       "    </tr>\n",
       "    <tr>\n",
       "      <th>3</th>\n",
       "      <td>10000</td>\n",
       "      <td>10000</td>\n",
       "      <td>0.21586336</td>\n",
       "      <td>0.90492420</td>\n",
       "      <td>6606.55961167</td>\n",
       "      <td>1290.52518630</td>\n",
       "    </tr>\n",
       "    <tr>\n",
       "      <th>4</th>\n",
       "      <td>3000</td>\n",
       "      <td>3000</td>\n",
       "      <td>0.12922021</td>\n",
       "      <td>0.91145280</td>\n",
       "      <td>2124.63166699</td>\n",
       "      <td>250.23511765</td>\n",
       "    </tr>\n",
       "  </tbody>\n",
       "</table>\n",
       "</div>"
      ],
      "text/plain": [
       "   funded_amnt  funded_amnt         PD        LGD           EAD            EL\n",
       "0         5000         5000 0.16365709 0.91372873 2949.60844880  441.07910264\n",
       "1         2500         2500 0.27020279 0.91548162 1944.43337805  480.98609910\n",
       "2         2400         2400 0.23957056 0.91948382 1579.93430169  348.02990895\n",
       "3        10000        10000 0.21586336 0.90492420 6606.55961167 1290.52518630\n",
       "4         3000         3000 0.12922021 0.91145280 2124.63166699  250.23511765"
      ]
     },
     "execution_count": 131,
     "metadata": {},
     "output_type": "execute_result"
    }
   ],
   "source": [
    "loan_data_preprocessed_new[['funded_amnt', 'PD', 'LGD', 'EAD', 'EL']].head()"
   ]
  },
  {
   "cell_type": "code",
   "execution_count": 132,
   "metadata": {},
   "outputs": [
    {
     "data": {
      "text/html": [
       "<div>\n",
       "<style scoped>\n",
       "    .dataframe tbody tr th:only-of-type {\n",
       "        vertical-align: middle;\n",
       "    }\n",
       "\n",
       "    .dataframe tbody tr th {\n",
       "        vertical-align: top;\n",
       "    }\n",
       "\n",
       "    .dataframe thead th {\n",
       "        text-align: right;\n",
       "    }\n",
       "</style>\n",
       "<table border=\"1\" class=\"dataframe\">\n",
       "  <thead>\n",
       "    <tr style=\"text-align: right;\">\n",
       "      <th></th>\n",
       "      <th>funded_amnt</th>\n",
       "      <th>funded_amnt</th>\n",
       "    </tr>\n",
       "  </thead>\n",
       "  <tbody>\n",
       "    <tr>\n",
       "      <th>count</th>\n",
       "      <td>466285.00000000</td>\n",
       "      <td>466285.00000000</td>\n",
       "    </tr>\n",
       "    <tr>\n",
       "      <th>mean</th>\n",
       "      <td>14291.80104443</td>\n",
       "      <td>14291.80104443</td>\n",
       "    </tr>\n",
       "    <tr>\n",
       "      <th>std</th>\n",
       "      <td>8274.37129999</td>\n",
       "      <td>8274.37129999</td>\n",
       "    </tr>\n",
       "    <tr>\n",
       "      <th>min</th>\n",
       "      <td>500.00000000</td>\n",
       "      <td>500.00000000</td>\n",
       "    </tr>\n",
       "    <tr>\n",
       "      <th>25%</th>\n",
       "      <td>8000.00000000</td>\n",
       "      <td>8000.00000000</td>\n",
       "    </tr>\n",
       "    <tr>\n",
       "      <th>50%</th>\n",
       "      <td>12000.00000000</td>\n",
       "      <td>12000.00000000</td>\n",
       "    </tr>\n",
       "    <tr>\n",
       "      <th>75%</th>\n",
       "      <td>20000.00000000</td>\n",
       "      <td>20000.00000000</td>\n",
       "    </tr>\n",
       "    <tr>\n",
       "      <th>max</th>\n",
       "      <td>35000.00000000</td>\n",
       "      <td>35000.00000000</td>\n",
       "    </tr>\n",
       "  </tbody>\n",
       "</table>\n",
       "</div>"
      ],
      "text/plain": [
       "          funded_amnt     funded_amnt\n",
       "count 466285.00000000 466285.00000000\n",
       "mean   14291.80104443  14291.80104443\n",
       "std     8274.37129999   8274.37129999\n",
       "min      500.00000000    500.00000000\n",
       "25%     8000.00000000   8000.00000000\n",
       "50%    12000.00000000  12000.00000000\n",
       "75%    20000.00000000  20000.00000000\n",
       "max    35000.00000000  35000.00000000"
      ]
     },
     "execution_count": 132,
     "metadata": {},
     "output_type": "execute_result"
    }
   ],
   "source": [
    "loan_data_preprocessed_new['funded_amnt'].describe()"
   ]
  },
  {
   "cell_type": "code",
   "execution_count": 133,
   "metadata": {},
   "outputs": [
    {
     "data": {
      "text/plain": [
       "499649647.96660846"
      ]
     },
     "execution_count": 133,
     "metadata": {},
     "output_type": "execute_result"
    }
   ],
   "source": [
    "loan_data_preprocessed_new['EL'].sum()"
   ]
  },
  {
   "cell_type": "code",
   "execution_count": 134,
   "metadata": {},
   "outputs": [
    {
     "data": {
      "text/plain": [
       "funded_amnt    6664052450\n",
       "funded_amnt    6664052450\n",
       "dtype: int64"
      ]
     },
     "execution_count": 134,
     "metadata": {},
     "output_type": "execute_result"
    }
   ],
   "source": [
    "loan_data_preprocessed_new['funded_amnt'].sum()"
   ]
  },
  {
   "cell_type": "code",
   "execution_count": 135,
   "metadata": {},
   "outputs": [
    {
     "data": {
      "text/plain": [
       "funded_amnt   0.07497685\n",
       "funded_amnt   0.07497685\n",
       "dtype: float64"
      ]
     },
     "execution_count": 135,
     "metadata": {},
     "output_type": "execute_result"
    }
   ],
   "source": [
    "loan_data_preprocessed_new['EL'].sum() / loan_data_preprocessed_new['funded_amnt'].sum()\n",
    "# Total Expected Loss as a proportion of total funded amount for all loans."
   ]
  },
  {
   "cell_type": "markdown",
   "metadata": {},
   "source": [
    "## The End"
   ]
  }
 ],
 "metadata": {
  "kernelspec": {
   "display_name": "Python 3",
   "language": "python",
   "name": "python3"
  },
  "language_info": {
   "codemirror_mode": {
    "name": "ipython",
    "version": 3
   },
   "file_extension": ".py",
   "mimetype": "text/x-python",
   "name": "python",
   "nbconvert_exporter": "python",
   "pygments_lexer": "ipython3",
   "version": "3.7.7"
  }
 },
 "nbformat": 4,
 "nbformat_minor": 4
}
